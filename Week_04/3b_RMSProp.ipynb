{
 "cells": [
  {
   "cell_type": "markdown",
   "metadata": {
    "id": "PDZxOtCZt5VU"
   },
   "source": [
    "## Problem"
   ]
  },
  {
   "cell_type": "markdown",
   "metadata": {
    "id": "Z7esFCIXuNXS"
   },
   "source": [
    "$$f(w_1, w_2) = 0.1w_1^2 + 2w_2^2 \\;\\;\\;\\;\\;\\;\\;(1)$$"
   ]
  },
  {
   "cell_type": "code",
   "execution_count": 1,
   "metadata": {
    "id": "_IAVg99F9N0y"
   },
   "outputs": [],
   "source": [
    "import numpy as np"
   ]
  },
  {
   "cell_type": "markdown",
   "metadata": {
    "id": "HXAY82X82mDx"
   },
   "source": [
    "### RMSprop"
   ]
  },
  {
   "cell_type": "code",
   "execution_count": 2,
   "metadata": {
    "id": "uai1hzbWuNaK"
   },
   "outputs": [],
   "source": [
    "def df_w(W):\n",
    "    w1, w2 = W\n",
    "    dw1 = 0.2 * w1\n",
    "    dw2 = 4 * w2\n",
    "    dW = np.array([dw1, dw2])\n",
    "    \n",
    "    return dW"
   ]
  },
  {
   "cell_type": "code",
   "execution_count": 3,
   "metadata": {
    "id": "ws1QcU-o3NPi"
   },
   "outputs": [],
   "source": [
    "def RMSProp(W, dW, lr, S, gamma):\n",
    "    epsilon = 1e-6\n",
    "    S = gamma * S + (1 - gamma) * dW**2\n",
    "    adapt_lr = lr / np.sqrt(S + epsilon)\n",
    "    W = W - adapt_lr * dW\n",
    "    return W, S"
   ]
  },
  {
   "cell_type": "code",
   "execution_count": null,
   "metadata": {
    "id": "QA_czueo4bz2"
   },
   "outputs": [],
   "source": [
    "def train_p1(optimizer, lr, epochs):\n",
    "    W = np.array([-5, -2], dtype=np.float32)\n",
    "    S = np.array([0, 0], dtype=np.float32)\n",
    "    results = [W]\n",
    "    for _ in range(epochs):\n",
    "        dW = df_w(W)\n",
    "        W, S = optimizer(W, dW, lr, S, gamma=0.9)\n",
    "        results.append(W)\n",
    "\n",
    "    return results"
   ]
  },
  {
   "cell_type": "code",
   "execution_count": 5,
   "metadata": {
    "id": "eGVlk8pi4kM5"
   },
   "outputs": [
    {
     "data": {
      "text/plain": [
       "[array([-5., -2.], dtype=float32),\n",
       " array([-4.05132145, -1.05131678]),\n",
       " array([-3.43519754, -0.59152343]),\n",
       " array([-2.95893693, -0.3294394 ]),\n",
       " array([-2.56546289, -0.17756482]),\n",
       " array([-2.22920552, -0.09163256]),\n",
       " array([-1.93626752, -0.04494499]),\n",
       " array([-1.67817686, -0.02081423]),\n",
       " array([-1.44934985, -0.00903559]),\n",
       " array([-1.24588199, -0.00364591]),\n",
       " array([-1.06490301, -0.00135351]),\n",
       " array([-9.04202260e-01, -4.56444431e-04]),\n",
       " array([-7.61996495e-01, -1.37562928e-04]),\n",
       " array([-6.36778499e-01, -3.62601019e-05]),\n",
       " array([-5.27215237e-01, -8.11337456e-06]),\n",
       " array([-4.32078505e-01, -1.47473412e-06]),\n",
       " array([-3.50198507e-01, -2.02783991e-07]),\n",
       " array([-2.80434649e-01, -1.84231187e-08]),\n",
       " array([-2.21659834e-01, -7.67742748e-10]),\n",
       " array([-1.72755512e-01,  7.80451998e-12]),\n",
       " array([-1.32615134e-01, -5.05794800e-13]),\n",
       " array([-1.00153779e-01,  6.19123501e-14]),\n",
       " array([-7.43217708e-02, -1.13373781e-14]),\n",
       " array([-5.41201278e-02,  2.80166702e-15]),\n",
       " array([-3.86159157e-02, -8.81341191e-16]),\n",
       " array([-2.69558066e-02,  3.39921117e-16]),\n",
       " array([-1.83765633e-02, -1.56581731e-16]),\n",
       " array([-1.22116093e-02,  8.44994985e-17]),\n",
       " array([-7.89331794e-03, -5.26376595e-17]),\n",
       " array([-4.95110261e-03,  3.74107995e-17]),\n",
       " array([-3.00577081e-03, -3.00506084e-17])]"
      ]
     },
     "execution_count": 5,
     "metadata": {},
     "output_type": "execute_result"
    }
   ],
   "source": [
    "train_p1(RMSProp, lr=0.3, epochs=30)"
   ]
  }
 ],
 "metadata": {
  "colab": {
   "provenance": [],
   "toc_visible": true
  },
  "kernelspec": {
   "display_name": "Python 3",
   "name": "python3"
  },
  "language_info": {
   "codemirror_mode": {
    "name": "ipython",
    "version": 3
   },
   "file_extension": ".py",
   "mimetype": "text/x-python",
   "name": "python",
   "nbconvert_exporter": "python",
   "pygments_lexer": "ipython3",
   "version": "3.12.6"
  }
 },
 "nbformat": 4,
 "nbformat_minor": 0
}
