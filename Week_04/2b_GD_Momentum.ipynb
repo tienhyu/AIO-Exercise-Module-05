{
 "cells": [
  {
   "cell_type": "markdown",
   "metadata": {
    "id": "PDZxOtCZt5VU"
   },
   "source": [
    "## Problem"
   ]
  },
  {
   "cell_type": "markdown",
   "metadata": {
    "id": "Z7esFCIXuNXS"
   },
   "source": [
    "$$f(w_1, w_2) = 0.1w_1^2 + 2w_2^2 \\;\\;\\;\\;\\;\\;\\;(1)$$"
   ]
  },
  {
   "cell_type": "code",
   "execution_count": null,
   "metadata": {
    "id": "_IAVg99F9N0y"
   },
   "outputs": [],
   "source": [
    "import numpy as np"
   ]
  },
  {
   "cell_type": "markdown",
   "metadata": {
    "id": "lBLBMN8zE6Bj"
   },
   "source": [
    "### Momentum"
   ]
  },
  {
   "cell_type": "code",
   "execution_count": null,
   "metadata": {
    "id": "uai1hzbWuNaK"
   },
   "outputs": [],
   "source": [
    "def df_w(W):\n",
    "    w1, w2 = W\n",
    "    dw1 = 0.2 * w1\n",
    "    dw2 = 4 * w2\n",
    "    dW = np.array([dw1, dw2])\n",
    "    \n",
    "    return dW"
   ]
  },
  {
   "cell_type": "code",
   "execution_count": null,
   "metadata": {
    "id": "faIqYpr4E57r"
   },
   "outputs": [],
   "source": [
    "def sgd_momentum(W, dW, lr, V, beta):\n",
    "    V = beta * V + (1 - beta) * dW\n",
    "    W = W - lr * V\n",
    "    return W, V"
   ]
  },
  {
   "cell_type": "code",
   "execution_count": null,
   "metadata": {
    "id": "J1L9O5rNGPZ1"
   },
   "outputs": [],
   "source": [
    "def train_p1(optimizer, lr, epochs):\n",
    "\n",
    "    W = np.array([-5, -2], dtype=np.float32)\n",
    "    V = np.array([0, 0], dtype=np.float32)\n",
    "    results = [W]\n",
    "\n",
    "    for _ in range(epochs):\n",
    "        dW = df_w(W)\n",
    "        W, V = optimizer(W, dW, lr, V, beta=0.5)\n",
    "        results.append(W)\n",
    "    return results"
   ]
  },
  {
   "cell_type": "code",
   "execution_count": null,
   "metadata": {
    "colab": {
     "base_uri": "https://localhost:8080/"
    },
    "executionInfo": {
     "elapsed": 6,
     "status": "ok",
     "timestamp": 1669969106575,
     "user": {
      "displayName": "huyu nguyen",
      "userId": "09509650119716865009"
     },
     "user_tz": -420
    },
    "id": "z0AxyO3mGJB8",
    "outputId": "8659b8d3-3d1c-44b5-c6fc-bfc990b9bf62"
   },
   "outputs": [],
   "source": [
    "train_p1(sgd_momentum, lr=0.6, epochs=30)"
   ]
  }
 ],
 "metadata": {
  "colab": {
   "provenance": [],
   "toc_visible": true
  },
  "kernelspec": {
   "display_name": "Python 3",
   "name": "python3"
  },
  "language_info": {
   "codemirror_mode": {
    "name": "ipython",
    "version": 3
   },
   "file_extension": ".py",
   "mimetype": "text/x-python",
   "name": "python",
   "nbconvert_exporter": "python",
   "pygments_lexer": "ipython3",
   "version": "3.12.6"
  }
 },
 "nbformat": 4,
 "nbformat_minor": 0
}
