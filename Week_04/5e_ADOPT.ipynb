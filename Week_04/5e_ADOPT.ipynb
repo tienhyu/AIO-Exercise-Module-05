{
  "cells": [
    {
      "cell_type": "code",
      "execution_count": null,
      "id": "7bcMG4NXoqJA",
      "metadata": {
        "colab": {
          "base_uri": "https://localhost:8080/"
        },
        "id": "7bcMG4NXoqJA",
        "outputId": "70e289dc-1eea-45a1-b798-ee7bc05059b1"
      },
      "outputs": [
        {
          "output_type": "stream",
          "name": "stdout",
          "text": [
            "Downloading...\n",
            "From (original): https://drive.google.com/uc?id=1y8xhCM_rVCgxOPSF3VtVkFxnwxtBlH0x\n",
            "From (redirected): https://drive.google.com/uc?id=1y8xhCM_rVCgxOPSF3VtVkFxnwxtBlH0x&confirm=t&uuid=61190d49-9e6a-4134-a12d-5d92eed817b2\n",
            "To: /content/adopt.py\n",
            "\r  0% 0.00/18.3k [00:00<?, ?B/s]\r100% 18.3k/18.3k [00:00<00:00, 55.2MB/s]\n"
          ]
        }
      ],
      "source": [
        "!gdown 1y8xhCM_rVCgxOPSF3VtVkFxnwxtBlH0x"
      ]
    },
    {
      "cell_type": "markdown",
      "id": "syncB6SrV7ca",
      "metadata": {
        "id": "syncB6SrV7ca"
      },
      "source": [
        "## Load Data"
      ]
    },
    {
      "cell_type": "markdown",
      "id": "VajbqWjYr1y1",
      "metadata": {
        "id": "VajbqWjYr1y1"
      },
      "source": []
    },
    {
      "cell_type": "code",
      "execution_count": null,
      "id": "e175eeac",
      "metadata": {
        "colab": {
          "base_uri": "https://localhost:8080/"
        },
        "id": "e175eeac",
        "outputId": "cead89fb-1534-4141-aa1e-5cecfe454f7d"
      },
      "outputs": [
        {
          "output_type": "execute_result",
          "data": {
            "text/plain": [
              "<torch._C.Generator at 0x7d3e8130ec90>"
            ]
          },
          "metadata": {},
          "execution_count": 2
        }
      ],
      "source": [
        "import torch\n",
        "from torch import nn\n",
        "from adopt import ADOPT\n",
        "from torch.utils.data import Dataset, DataLoader\n",
        "import torchvision\n",
        "from torchvision.datasets import FashionMNIST\n",
        "import torchvision.transforms as transforms\n",
        "import numpy as np\n",
        "import torch.optim as optim\n",
        "device = torch.device('cuda:0' if torch.cuda.is_available() else 'cpu')\n",
        "torch.manual_seed(42)"
      ]
    },
    {
      "cell_type": "code",
      "execution_count": null,
      "id": "cd6d8ed9-194c-4334-bd99-625b3d5b4a00",
      "metadata": {
        "id": "cd6d8ed9-194c-4334-bd99-625b3d5b4a00"
      },
      "outputs": [],
      "source": [
        "batch_size = 512\n",
        "num_epochs = 300\n",
        "lr = 0.001"
      ]
    },
    {
      "cell_type": "code",
      "execution_count": null,
      "id": "c99e7832-3603-48e2-aafa-45194af43501",
      "metadata": {
        "colab": {
          "base_uri": "https://localhost:8080/"
        },
        "id": "c99e7832-3603-48e2-aafa-45194af43501",
        "outputId": "1948c621-6f2c-480e-f2c1-f96bf3604961"
      },
      "outputs": [
        {
          "output_type": "stream",
          "name": "stdout",
          "text": [
            "Downloading http://fashion-mnist.s3-website.eu-central-1.amazonaws.com/train-images-idx3-ubyte.gz\n",
            "Downloading http://fashion-mnist.s3-website.eu-central-1.amazonaws.com/train-images-idx3-ubyte.gz to ./data/FashionMNIST/raw/train-images-idx3-ubyte.gz\n"
          ]
        },
        {
          "output_type": "stream",
          "name": "stderr",
          "text": [
            "100%|██████████| 26.4M/26.4M [00:01<00:00, 16.7MB/s]\n"
          ]
        },
        {
          "output_type": "stream",
          "name": "stdout",
          "text": [
            "Extracting ./data/FashionMNIST/raw/train-images-idx3-ubyte.gz to ./data/FashionMNIST/raw\n",
            "\n",
            "Downloading http://fashion-mnist.s3-website.eu-central-1.amazonaws.com/train-labels-idx1-ubyte.gz\n",
            "Downloading http://fashion-mnist.s3-website.eu-central-1.amazonaws.com/train-labels-idx1-ubyte.gz to ./data/FashionMNIST/raw/train-labels-idx1-ubyte.gz\n"
          ]
        },
        {
          "output_type": "stream",
          "name": "stderr",
          "text": [
            "100%|██████████| 29.5k/29.5k [00:00<00:00, 268kB/s]\n"
          ]
        },
        {
          "output_type": "stream",
          "name": "stdout",
          "text": [
            "Extracting ./data/FashionMNIST/raw/train-labels-idx1-ubyte.gz to ./data/FashionMNIST/raw\n",
            "\n",
            "Downloading http://fashion-mnist.s3-website.eu-central-1.amazonaws.com/t10k-images-idx3-ubyte.gz\n",
            "Downloading http://fashion-mnist.s3-website.eu-central-1.amazonaws.com/t10k-images-idx3-ubyte.gz to ./data/FashionMNIST/raw/t10k-images-idx3-ubyte.gz\n"
          ]
        },
        {
          "output_type": "stream",
          "name": "stderr",
          "text": [
            "100%|██████████| 4.42M/4.42M [00:00<00:00, 4.90MB/s]\n"
          ]
        },
        {
          "output_type": "stream",
          "name": "stdout",
          "text": [
            "Extracting ./data/FashionMNIST/raw/t10k-images-idx3-ubyte.gz to ./data/FashionMNIST/raw\n",
            "\n",
            "Downloading http://fashion-mnist.s3-website.eu-central-1.amazonaws.com/t10k-labels-idx1-ubyte.gz\n",
            "Downloading http://fashion-mnist.s3-website.eu-central-1.amazonaws.com/t10k-labels-idx1-ubyte.gz to ./data/FashionMNIST/raw/t10k-labels-idx1-ubyte.gz\n"
          ]
        },
        {
          "output_type": "stream",
          "name": "stderr",
          "text": [
            "100%|██████████| 5.15k/5.15k [00:00<00:00, 8.97MB/s]"
          ]
        },
        {
          "output_type": "stream",
          "name": "stdout",
          "text": [
            "Extracting ./data/FashionMNIST/raw/t10k-labels-idx1-ubyte.gz to ./data/FashionMNIST/raw\n",
            "\n"
          ]
        },
        {
          "output_type": "stream",
          "name": "stderr",
          "text": [
            "\n"
          ]
        }
      ],
      "source": [
        "train_dataset = FashionMNIST(root='./data', train=True, download=True, transform=transforms.ToTensor())\n",
        "train_loader = DataLoader(train_dataset, batch_size, shuffle=True)\n",
        "test_dataset = FashionMNIST(root='./data', train=False, download=True, transform=transforms.ToTensor())\n",
        "test_loader = DataLoader(test_dataset, batch_size)"
      ]
    },
    {
      "cell_type": "markdown",
      "id": "f068e1ea",
      "metadata": {
        "id": "f068e1ea"
      },
      "source": [
        "## Modeling"
      ]
    },
    {
      "cell_type": "code",
      "execution_count": null,
      "id": "8aabf29a",
      "metadata": {
        "id": "8aabf29a"
      },
      "outputs": [],
      "source": [
        "class MLP(nn.Module):\n",
        "    def __init__(self, input_dims, hidden_dims, output_dims):\n",
        "        super(MLP, self).__init__()\n",
        "        self.layer1 = nn.Linear(input_dims, hidden_dims)\n",
        "        self.layer2 = nn.Linear(hidden_dims, hidden_dims)\n",
        "        self.layer3 = nn.Linear(hidden_dims, hidden_dims)\n",
        "        self.layer4 = nn.Linear(hidden_dims, hidden_dims)\n",
        "        self.layer5 = nn.Linear(hidden_dims, hidden_dims)\n",
        "        self.output = nn.Linear(hidden_dims, output_dims)\n",
        "        self.sigmoid = nn.Sigmoid()\n",
        "\n",
        "    def forward(self, x):\n",
        "        x = nn.Flatten()(x)\n",
        "        x = self.layer1(x)\n",
        "        x = self.sigmoid(x)\n",
        "        x = self.layer2(x)\n",
        "        x = self.sigmoid(x)\n",
        "        x = self.layer3(x)\n",
        "        x = self.sigmoid(x)\n",
        "        x = self.layer4(x)\n",
        "        x = self.sigmoid(x)\n",
        "        x = self.layer5(x)\n",
        "        x = self.sigmoid(x)\n",
        "        out = self.output(x)\n",
        "        return out"
      ]
    },
    {
      "cell_type": "code",
      "execution_count": null,
      "id": "8c6459b6-d042-4117-8ee1-e388a8b708f0",
      "metadata": {
        "id": "8c6459b6-d042-4117-8ee1-e388a8b708f0"
      },
      "outputs": [],
      "source": [
        "model = MLP(input_dims=784, hidden_dims=128, output_dims=10).to(device)\n",
        "criterion = nn.CrossEntropyLoss()\n",
        "\n",
        "# link paper: https://arxiv.org/abs/2411.02853\n",
        "################## YOUR CODE HERE ##################\n",
        "\"\"\"Cấu hình ADOPT theo yêu cầu đề bài sử dụng ADOPT module\"\"\"\n",
        "optimizer = ADOPT(model.parameters(), lr=lr)\n",
        "####################################################\n"
      ]
    },
    {
      "cell_type": "markdown",
      "id": "c3167cdb",
      "metadata": {
        "id": "c3167cdb"
      },
      "source": [
        "## ADOPT"
      ]
    },
    {
      "cell_type": "code",
      "execution_count": null,
      "id": "c46b65da",
      "metadata": {
        "colab": {
          "base_uri": "https://localhost:8080/"
        },
        "id": "c46b65da",
        "outputId": "6d500721-9a36-4bac-c1d0-307a91fbd30d"
      },
      "outputs": [
        {
          "output_type": "stream",
          "name": "stdout",
          "text": [
            "Epoch 1/300, Train_Loss: 2.3577, Train_Acc: 0.0992, Validation Loss: 2.3029, Val_Acc: 0.1000\n",
            "Epoch 2/300, Train_Loss: 2.3028, Train_Acc: 0.1000, Validation Loss: 2.3027, Val_Acc: 0.1000\n",
            "Epoch 3/300, Train_Loss: 2.3027, Train_Acc: 0.1000, Validation Loss: 2.3026, Val_Acc: 0.1000\n",
            "Epoch 4/300, Train_Loss: 2.3027, Train_Acc: 0.0990, Validation Loss: 2.3026, Val_Acc: 0.1000\n",
            "Epoch 5/300, Train_Loss: 2.3027, Train_Acc: 0.0989, Validation Loss: 2.3026, Val_Acc: 0.1000\n",
            "Epoch 6/300, Train_Loss: 2.3026, Train_Acc: 0.0992, Validation Loss: 2.3026, Val_Acc: 0.1000\n",
            "Epoch 7/300, Train_Loss: 2.3027, Train_Acc: 0.0992, Validation Loss: 2.3026, Val_Acc: 0.1000\n",
            "Epoch 8/300, Train_Loss: 2.3026, Train_Acc: 0.0983, Validation Loss: 2.3026, Val_Acc: 0.1000\n",
            "Epoch 9/300, Train_Loss: 2.3027, Train_Acc: 0.0970, Validation Loss: 2.3026, Val_Acc: 0.1000\n",
            "Epoch 10/300, Train_Loss: 2.3026, Train_Acc: 0.0999, Validation Loss: 2.3026, Val_Acc: 0.1000\n",
            "Epoch 11/300, Train_Loss: 2.3026, Train_Acc: 0.0981, Validation Loss: 2.3026, Val_Acc: 0.1000\n",
            "Epoch 12/300, Train_Loss: 2.3027, Train_Acc: 0.0988, Validation Loss: 2.3026, Val_Acc: 0.1000\n",
            "Epoch 13/300, Train_Loss: 2.3026, Train_Acc: 0.0987, Validation Loss: 2.3026, Val_Acc: 0.1000\n",
            "Epoch 14/300, Train_Loss: 2.3026, Train_Acc: 0.0981, Validation Loss: 2.3026, Val_Acc: 0.1000\n",
            "Epoch 15/300, Train_Loss: 2.3026, Train_Acc: 0.0977, Validation Loss: 2.3026, Val_Acc: 0.1000\n",
            "Epoch 16/300, Train_Loss: 2.3027, Train_Acc: 0.0984, Validation Loss: 2.3026, Val_Acc: 0.1000\n",
            "Epoch 17/300, Train_Loss: 2.3026, Train_Acc: 0.0993, Validation Loss: 2.3026, Val_Acc: 0.1000\n",
            "Epoch 18/300, Train_Loss: 2.3026, Train_Acc: 0.0991, Validation Loss: 2.3026, Val_Acc: 0.1000\n",
            "Epoch 19/300, Train_Loss: 2.3026, Train_Acc: 0.0988, Validation Loss: 2.3026, Val_Acc: 0.1000\n",
            "Epoch 20/300, Train_Loss: 2.3026, Train_Acc: 0.0982, Validation Loss: 2.3026, Val_Acc: 0.1000\n",
            "Epoch 21/300, Train_Loss: 2.3027, Train_Acc: 0.0978, Validation Loss: 2.3026, Val_Acc: 0.1000\n",
            "Epoch 22/300, Train_Loss: 2.3026, Train_Acc: 0.0982, Validation Loss: 2.3026, Val_Acc: 0.1000\n",
            "Epoch 23/300, Train_Loss: 2.3026, Train_Acc: 0.0993, Validation Loss: 2.3026, Val_Acc: 0.1000\n",
            "Epoch 24/300, Train_Loss: 2.3026, Train_Acc: 0.0982, Validation Loss: 2.3026, Val_Acc: 0.1000\n",
            "Epoch 25/300, Train_Loss: 2.3026, Train_Acc: 0.0982, Validation Loss: 2.3026, Val_Acc: 0.1000\n",
            "Epoch 26/300, Train_Loss: 2.3026, Train_Acc: 0.0975, Validation Loss: 2.3026, Val_Acc: 0.1000\n",
            "Epoch 27/300, Train_Loss: 2.3026, Train_Acc: 0.0978, Validation Loss: 2.3026, Val_Acc: 0.1000\n",
            "Epoch 28/300, Train_Loss: 2.3026, Train_Acc: 0.0991, Validation Loss: 2.3026, Val_Acc: 0.1000\n",
            "Epoch 29/300, Train_Loss: 2.3026, Train_Acc: 0.0977, Validation Loss: 2.3026, Val_Acc: 0.1000\n",
            "Epoch 30/300, Train_Loss: 2.3026, Train_Acc: 0.0993, Validation Loss: 2.3026, Val_Acc: 0.1574\n",
            "Epoch 31/300, Train_Loss: 2.3026, Train_Acc: 0.0990, Validation Loss: 2.3025, Val_Acc: 0.1000\n",
            "Epoch 32/300, Train_Loss: 2.3025, Train_Acc: 0.0991, Validation Loss: 2.3023, Val_Acc: 0.1000\n",
            "Epoch 33/300, Train_Loss: 2.2953, Train_Acc: 0.1035, Validation Loss: 2.2539, Val_Acc: 0.2008\n",
            "Epoch 34/300, Train_Loss: 2.0299, Train_Acc: 0.2003, Validation Loss: 1.8349, Val_Acc: 0.2005\n",
            "Epoch 35/300, Train_Loss: 1.7520, Train_Acc: 0.2083, Validation Loss: 1.7031, Val_Acc: 0.2398\n",
            "Epoch 36/300, Train_Loss: 1.6223, Train_Acc: 0.3752, Validation Loss: 1.5289, Val_Acc: 0.4268\n",
            "Epoch 37/300, Train_Loss: 1.4139, Train_Acc: 0.4630, Validation Loss: 1.3199, Val_Acc: 0.4843\n",
            "Epoch 38/300, Train_Loss: 1.2178, Train_Acc: 0.5364, Validation Loss: 1.1795, Val_Acc: 0.5258\n",
            "Epoch 39/300, Train_Loss: 1.0839, Train_Acc: 0.5807, Validation Loss: 1.0423, Val_Acc: 0.5879\n",
            "Epoch 40/300, Train_Loss: 0.9905, Train_Acc: 0.5909, Validation Loss: 0.9812, Val_Acc: 0.5885\n",
            "Epoch 41/300, Train_Loss: 0.9270, Train_Acc: 0.6013, Validation Loss: 0.9301, Val_Acc: 0.5979\n",
            "Epoch 42/300, Train_Loss: 0.8787, Train_Acc: 0.6093, Validation Loss: 0.9099, Val_Acc: 0.5966\n",
            "Epoch 43/300, Train_Loss: 0.8408, Train_Acc: 0.6170, Validation Loss: 0.8672, Val_Acc: 0.6129\n",
            "Epoch 44/300, Train_Loss: 0.8103, Train_Acc: 0.6234, Validation Loss: 0.8455, Val_Acc: 0.6098\n",
            "Epoch 45/300, Train_Loss: 0.7916, Train_Acc: 0.6296, Validation Loss: 0.8442, Val_Acc: 0.6080\n",
            "Epoch 46/300, Train_Loss: 0.7702, Train_Acc: 0.6425, Validation Loss: 0.8228, Val_Acc: 0.6078\n",
            "Epoch 47/300, Train_Loss: 0.7504, Train_Acc: 0.6789, Validation Loss: 0.7854, Val_Acc: 0.7276\n",
            "Epoch 48/300, Train_Loss: 0.6810, Train_Acc: 0.7523, Validation Loss: 0.6934, Val_Acc: 0.7352\n",
            "Epoch 49/300, Train_Loss: 0.5897, Train_Acc: 0.7670, Validation Loss: 0.6354, Val_Acc: 0.7401\n",
            "Epoch 50/300, Train_Loss: 0.5448, Train_Acc: 0.7769, Validation Loss: 0.5938, Val_Acc: 0.7591\n",
            "Epoch 51/300, Train_Loss: 0.5135, Train_Acc: 0.7824, Validation Loss: 0.5669, Val_Acc: 0.7631\n",
            "Epoch 52/300, Train_Loss: 0.4941, Train_Acc: 0.7883, Validation Loss: 0.5732, Val_Acc: 0.7647\n",
            "Epoch 53/300, Train_Loss: 0.4761, Train_Acc: 0.7991, Validation Loss: 0.5442, Val_Acc: 0.7871\n",
            "Epoch 54/300, Train_Loss: 0.4405, Train_Acc: 0.8559, Validation Loss: 0.4766, Val_Acc: 0.8572\n",
            "Epoch 55/300, Train_Loss: 0.3781, Train_Acc: 0.8836, Validation Loss: 0.4534, Val_Acc: 0.8540\n",
            "Epoch 56/300, Train_Loss: 0.3497, Train_Acc: 0.8883, Validation Loss: 0.4385, Val_Acc: 0.8604\n",
            "Epoch 57/300, Train_Loss: 0.3293, Train_Acc: 0.8935, Validation Loss: 0.4386, Val_Acc: 0.8549\n",
            "Epoch 58/300, Train_Loss: 0.3177, Train_Acc: 0.8961, Validation Loss: 0.4029, Val_Acc: 0.8686\n",
            "Epoch 59/300, Train_Loss: 0.3067, Train_Acc: 0.8998, Validation Loss: 0.4079, Val_Acc: 0.8636\n",
            "Epoch 60/300, Train_Loss: 0.2968, Train_Acc: 0.9022, Validation Loss: 0.3964, Val_Acc: 0.8680\n",
            "Epoch 61/300, Train_Loss: 0.2902, Train_Acc: 0.9040, Validation Loss: 0.4034, Val_Acc: 0.8657\n",
            "Epoch 62/300, Train_Loss: 0.2849, Train_Acc: 0.9054, Validation Loss: 0.3877, Val_Acc: 0.8717\n",
            "Epoch 63/300, Train_Loss: 0.2788, Train_Acc: 0.9066, Validation Loss: 0.3754, Val_Acc: 0.8753\n",
            "Epoch 64/300, Train_Loss: 0.2703, Train_Acc: 0.9089, Validation Loss: 0.3768, Val_Acc: 0.8742\n",
            "Epoch 65/300, Train_Loss: 0.2676, Train_Acc: 0.9115, Validation Loss: 0.3748, Val_Acc: 0.8755\n",
            "Epoch 66/300, Train_Loss: 0.2588, Train_Acc: 0.9136, Validation Loss: 0.3737, Val_Acc: 0.8750\n",
            "Epoch 67/300, Train_Loss: 0.2547, Train_Acc: 0.9148, Validation Loss: 0.3772, Val_Acc: 0.8737\n",
            "Epoch 68/300, Train_Loss: 0.2557, Train_Acc: 0.9136, Validation Loss: 0.3717, Val_Acc: 0.8793\n",
            "Epoch 69/300, Train_Loss: 0.2466, Train_Acc: 0.9167, Validation Loss: 0.3818, Val_Acc: 0.8751\n",
            "Epoch 70/300, Train_Loss: 0.2455, Train_Acc: 0.9177, Validation Loss: 0.3791, Val_Acc: 0.8756\n",
            "Epoch 71/300, Train_Loss: 0.2437, Train_Acc: 0.9176, Validation Loss: 0.3772, Val_Acc: 0.8749\n",
            "Epoch 72/300, Train_Loss: 0.2370, Train_Acc: 0.9205, Validation Loss: 0.3722, Val_Acc: 0.8783\n",
            "Epoch 73/300, Train_Loss: 0.2354, Train_Acc: 0.9204, Validation Loss: 0.3709, Val_Acc: 0.8799\n",
            "Epoch 74/300, Train_Loss: 0.2331, Train_Acc: 0.9211, Validation Loss: 0.3926, Val_Acc: 0.8709\n",
            "Epoch 75/300, Train_Loss: 0.2284, Train_Acc: 0.9243, Validation Loss: 0.3840, Val_Acc: 0.8761\n",
            "Epoch 76/300, Train_Loss: 0.2263, Train_Acc: 0.9237, Validation Loss: 0.3879, Val_Acc: 0.8757\n",
            "Epoch 77/300, Train_Loss: 0.2215, Train_Acc: 0.9264, Validation Loss: 0.3686, Val_Acc: 0.8808\n",
            "Epoch 78/300, Train_Loss: 0.2179, Train_Acc: 0.9281, Validation Loss: 0.3789, Val_Acc: 0.8739\n",
            "Epoch 79/300, Train_Loss: 0.2155, Train_Acc: 0.9284, Validation Loss: 0.3853, Val_Acc: 0.8798\n",
            "Epoch 80/300, Train_Loss: 0.2142, Train_Acc: 0.9275, Validation Loss: 0.3818, Val_Acc: 0.8787\n",
            "Epoch 81/300, Train_Loss: 0.2102, Train_Acc: 0.9295, Validation Loss: 0.3720, Val_Acc: 0.8817\n",
            "Epoch 82/300, Train_Loss: 0.2107, Train_Acc: 0.9299, Validation Loss: 0.3781, Val_Acc: 0.8780\n",
            "Epoch 83/300, Train_Loss: 0.2063, Train_Acc: 0.9322, Validation Loss: 0.3845, Val_Acc: 0.8776\n",
            "Epoch 84/300, Train_Loss: 0.2030, Train_Acc: 0.9327, Validation Loss: 0.3754, Val_Acc: 0.8811\n",
            "Epoch 85/300, Train_Loss: 0.2027, Train_Acc: 0.9324, Validation Loss: 0.3864, Val_Acc: 0.8783\n",
            "Epoch 86/300, Train_Loss: 0.2011, Train_Acc: 0.9331, Validation Loss: 0.3832, Val_Acc: 0.8793\n",
            "Epoch 87/300, Train_Loss: 0.1973, Train_Acc: 0.9348, Validation Loss: 0.3828, Val_Acc: 0.8804\n",
            "Epoch 88/300, Train_Loss: 0.1958, Train_Acc: 0.9350, Validation Loss: 0.3891, Val_Acc: 0.8815\n",
            "Epoch 89/300, Train_Loss: 0.1991, Train_Acc: 0.9335, Validation Loss: 0.3860, Val_Acc: 0.8826\n",
            "Epoch 90/300, Train_Loss: 0.1927, Train_Acc: 0.9351, Validation Loss: 0.3927, Val_Acc: 0.8763\n",
            "Epoch 91/300, Train_Loss: 0.1912, Train_Acc: 0.9374, Validation Loss: 0.3959, Val_Acc: 0.8761\n",
            "Epoch 92/300, Train_Loss: 0.1856, Train_Acc: 0.9389, Validation Loss: 0.3886, Val_Acc: 0.8793\n",
            "Epoch 93/300, Train_Loss: 0.1870, Train_Acc: 0.9381, Validation Loss: 0.3939, Val_Acc: 0.8805\n",
            "Epoch 94/300, Train_Loss: 0.1842, Train_Acc: 0.9394, Validation Loss: 0.3961, Val_Acc: 0.8746\n",
            "Epoch 95/300, Train_Loss: 0.1815, Train_Acc: 0.9399, Validation Loss: 0.3853, Val_Acc: 0.8790\n",
            "Epoch 96/300, Train_Loss: 0.1803, Train_Acc: 0.9410, Validation Loss: 0.3997, Val_Acc: 0.8792\n",
            "Epoch 97/300, Train_Loss: 0.1807, Train_Acc: 0.9402, Validation Loss: 0.3892, Val_Acc: 0.8820\n",
            "Epoch 98/300, Train_Loss: 0.1782, Train_Acc: 0.9407, Validation Loss: 0.3897, Val_Acc: 0.8830\n",
            "Epoch 99/300, Train_Loss: 0.1785, Train_Acc: 0.9406, Validation Loss: 0.3946, Val_Acc: 0.8781\n",
            "Epoch 100/300, Train_Loss: 0.1711, Train_Acc: 0.9440, Validation Loss: 0.4013, Val_Acc: 0.8810\n",
            "Epoch 101/300, Train_Loss: 0.1729, Train_Acc: 0.9426, Validation Loss: 0.3953, Val_Acc: 0.8761\n",
            "Epoch 102/300, Train_Loss: 0.1713, Train_Acc: 0.9444, Validation Loss: 0.4130, Val_Acc: 0.8753\n",
            "Epoch 103/300, Train_Loss: 0.1702, Train_Acc: 0.9448, Validation Loss: 0.4023, Val_Acc: 0.8774\n",
            "Epoch 104/300, Train_Loss: 0.1659, Train_Acc: 0.9461, Validation Loss: 0.4169, Val_Acc: 0.8796\n",
            "Epoch 105/300, Train_Loss: 0.1654, Train_Acc: 0.9458, Validation Loss: 0.4096, Val_Acc: 0.8750\n",
            "Epoch 106/300, Train_Loss: 0.1676, Train_Acc: 0.9448, Validation Loss: 0.4031, Val_Acc: 0.8782\n",
            "Epoch 107/300, Train_Loss: 0.1644, Train_Acc: 0.9466, Validation Loss: 0.4094, Val_Acc: 0.8775\n",
            "Epoch 108/300, Train_Loss: 0.1659, Train_Acc: 0.9454, Validation Loss: 0.3962, Val_Acc: 0.8838\n",
            "Epoch 109/300, Train_Loss: 0.1615, Train_Acc: 0.9469, Validation Loss: 0.4241, Val_Acc: 0.8804\n",
            "Epoch 110/300, Train_Loss: 0.1601, Train_Acc: 0.9477, Validation Loss: 0.3948, Val_Acc: 0.8798\n",
            "Epoch 111/300, Train_Loss: 0.1595, Train_Acc: 0.9480, Validation Loss: 0.4049, Val_Acc: 0.8794\n",
            "Epoch 112/300, Train_Loss: 0.1563, Train_Acc: 0.9487, Validation Loss: 0.4088, Val_Acc: 0.8823\n",
            "Epoch 113/300, Train_Loss: 0.1537, Train_Acc: 0.9498, Validation Loss: 0.4131, Val_Acc: 0.8820\n",
            "Epoch 114/300, Train_Loss: 0.1518, Train_Acc: 0.9514, Validation Loss: 0.4123, Val_Acc: 0.8785\n",
            "Epoch 115/300, Train_Loss: 0.1495, Train_Acc: 0.9516, Validation Loss: 0.4399, Val_Acc: 0.8778\n",
            "Epoch 116/300, Train_Loss: 0.1514, Train_Acc: 0.9502, Validation Loss: 0.4274, Val_Acc: 0.8794\n",
            "Epoch 117/300, Train_Loss: 0.1533, Train_Acc: 0.9503, Validation Loss: 0.4164, Val_Acc: 0.8816\n",
            "Epoch 118/300, Train_Loss: 0.1510, Train_Acc: 0.9504, Validation Loss: 0.4233, Val_Acc: 0.8809\n",
            "Epoch 119/300, Train_Loss: 0.1467, Train_Acc: 0.9528, Validation Loss: 0.4151, Val_Acc: 0.8818\n",
            "Epoch 120/300, Train_Loss: 0.1488, Train_Acc: 0.9525, Validation Loss: 0.4139, Val_Acc: 0.8805\n",
            "Epoch 121/300, Train_Loss: 0.1495, Train_Acc: 0.9512, Validation Loss: 0.4084, Val_Acc: 0.8815\n",
            "Epoch 122/300, Train_Loss: 0.1464, Train_Acc: 0.9528, Validation Loss: 0.4285, Val_Acc: 0.8810\n",
            "Epoch 123/300, Train_Loss: 0.1430, Train_Acc: 0.9538, Validation Loss: 0.4196, Val_Acc: 0.8799\n",
            "Epoch 124/300, Train_Loss: 0.1416, Train_Acc: 0.9539, Validation Loss: 0.4228, Val_Acc: 0.8825\n",
            "Epoch 125/300, Train_Loss: 0.1420, Train_Acc: 0.9538, Validation Loss: 0.4262, Val_Acc: 0.8797\n",
            "Epoch 126/300, Train_Loss: 0.1399, Train_Acc: 0.9544, Validation Loss: 0.4253, Val_Acc: 0.8826\n",
            "Epoch 127/300, Train_Loss: 0.1409, Train_Acc: 0.9543, Validation Loss: 0.4258, Val_Acc: 0.8799\n",
            "Epoch 128/300, Train_Loss: 0.1398, Train_Acc: 0.9546, Validation Loss: 0.4299, Val_Acc: 0.8825\n",
            "Epoch 129/300, Train_Loss: 0.1366, Train_Acc: 0.9563, Validation Loss: 0.4320, Val_Acc: 0.8832\n",
            "Epoch 130/300, Train_Loss: 0.1380, Train_Acc: 0.9558, Validation Loss: 0.4364, Val_Acc: 0.8784\n",
            "Epoch 131/300, Train_Loss: 0.1376, Train_Acc: 0.9556, Validation Loss: 0.4494, Val_Acc: 0.8799\n",
            "Epoch 132/300, Train_Loss: 0.1348, Train_Acc: 0.9563, Validation Loss: 0.4341, Val_Acc: 0.8808\n",
            "Epoch 133/300, Train_Loss: 0.1330, Train_Acc: 0.9571, Validation Loss: 0.4458, Val_Acc: 0.8797\n",
            "Epoch 134/300, Train_Loss: 0.1351, Train_Acc: 0.9563, Validation Loss: 0.4456, Val_Acc: 0.8800\n",
            "Epoch 135/300, Train_Loss: 0.1336, Train_Acc: 0.9573, Validation Loss: 0.4447, Val_Acc: 0.8788\n",
            "Epoch 136/300, Train_Loss: 0.1294, Train_Acc: 0.9582, Validation Loss: 0.4423, Val_Acc: 0.8810\n",
            "Epoch 137/300, Train_Loss: 0.1290, Train_Acc: 0.9588, Validation Loss: 0.4631, Val_Acc: 0.8804\n",
            "Epoch 138/300, Train_Loss: 0.1321, Train_Acc: 0.9568, Validation Loss: 0.4348, Val_Acc: 0.8800\n",
            "Epoch 139/300, Train_Loss: 0.1306, Train_Acc: 0.9586, Validation Loss: 0.4398, Val_Acc: 0.8833\n",
            "Epoch 140/300, Train_Loss: 0.1360, Train_Acc: 0.9559, Validation Loss: 0.4495, Val_Acc: 0.8786\n",
            "Epoch 141/300, Train_Loss: 0.1318, Train_Acc: 0.9578, Validation Loss: 0.4670, Val_Acc: 0.8779\n",
            "Epoch 142/300, Train_Loss: 0.1302, Train_Acc: 0.9580, Validation Loss: 0.4431, Val_Acc: 0.8792\n",
            "Epoch 143/300, Train_Loss: 0.1265, Train_Acc: 0.9594, Validation Loss: 0.4605, Val_Acc: 0.8791\n",
            "Epoch 144/300, Train_Loss: 0.1240, Train_Acc: 0.9610, Validation Loss: 0.4634, Val_Acc: 0.8766\n",
            "Epoch 145/300, Train_Loss: 0.1256, Train_Acc: 0.9597, Validation Loss: 0.4580, Val_Acc: 0.8786\n",
            "Epoch 146/300, Train_Loss: 0.1229, Train_Acc: 0.9609, Validation Loss: 0.4577, Val_Acc: 0.8808\n",
            "Epoch 147/300, Train_Loss: 0.1236, Train_Acc: 0.9607, Validation Loss: 0.4471, Val_Acc: 0.8824\n",
            "Epoch 148/300, Train_Loss: 0.1219, Train_Acc: 0.9612, Validation Loss: 0.4501, Val_Acc: 0.8795\n",
            "Epoch 149/300, Train_Loss: 0.1212, Train_Acc: 0.9618, Validation Loss: 0.4481, Val_Acc: 0.8816\n",
            "Epoch 150/300, Train_Loss: 0.1197, Train_Acc: 0.9625, Validation Loss: 0.4530, Val_Acc: 0.8831\n",
            "Epoch 151/300, Train_Loss: 0.1220, Train_Acc: 0.9615, Validation Loss: 0.4611, Val_Acc: 0.8808\n",
            "Epoch 152/300, Train_Loss: 0.1243, Train_Acc: 0.9609, Validation Loss: 0.4670, Val_Acc: 0.8800\n",
            "Epoch 153/300, Train_Loss: 0.1212, Train_Acc: 0.9613, Validation Loss: 0.4592, Val_Acc: 0.8786\n",
            "Epoch 154/300, Train_Loss: 0.1197, Train_Acc: 0.9626, Validation Loss: 0.4876, Val_Acc: 0.8770\n",
            "Epoch 155/300, Train_Loss: 0.1251, Train_Acc: 0.9595, Validation Loss: 0.4747, Val_Acc: 0.8787\n",
            "Epoch 156/300, Train_Loss: 0.1228, Train_Acc: 0.9610, Validation Loss: 0.4620, Val_Acc: 0.8829\n",
            "Epoch 157/300, Train_Loss: 0.1183, Train_Acc: 0.9625, Validation Loss: 0.4593, Val_Acc: 0.8820\n",
            "Epoch 158/300, Train_Loss: 0.1181, Train_Acc: 0.9631, Validation Loss: 0.4653, Val_Acc: 0.8817\n",
            "Epoch 159/300, Train_Loss: 0.1156, Train_Acc: 0.9633, Validation Loss: 0.4716, Val_Acc: 0.8810\n",
            "Epoch 160/300, Train_Loss: 0.1193, Train_Acc: 0.9616, Validation Loss: 0.4871, Val_Acc: 0.8799\n",
            "Epoch 161/300, Train_Loss: 0.1159, Train_Acc: 0.9631, Validation Loss: 0.4713, Val_Acc: 0.8810\n",
            "Epoch 162/300, Train_Loss: 0.1182, Train_Acc: 0.9625, Validation Loss: 0.4745, Val_Acc: 0.8777\n",
            "Epoch 163/300, Train_Loss: 0.1127, Train_Acc: 0.9646, Validation Loss: 0.4796, Val_Acc: 0.8800\n",
            "Epoch 164/300, Train_Loss: 0.1120, Train_Acc: 0.9646, Validation Loss: 0.4690, Val_Acc: 0.8813\n",
            "Epoch 165/300, Train_Loss: 0.1123, Train_Acc: 0.9649, Validation Loss: 0.4797, Val_Acc: 0.8797\n",
            "Epoch 166/300, Train_Loss: 0.1100, Train_Acc: 0.9655, Validation Loss: 0.4775, Val_Acc: 0.8816\n",
            "Epoch 167/300, Train_Loss: 0.1111, Train_Acc: 0.9651, Validation Loss: 0.4789, Val_Acc: 0.8814\n",
            "Epoch 168/300, Train_Loss: 0.1098, Train_Acc: 0.9654, Validation Loss: 0.4762, Val_Acc: 0.8806\n",
            "Epoch 169/300, Train_Loss: 0.1078, Train_Acc: 0.9660, Validation Loss: 0.4950, Val_Acc: 0.8788\n",
            "Epoch 170/300, Train_Loss: 0.1117, Train_Acc: 0.9649, Validation Loss: 0.4826, Val_Acc: 0.8797\n",
            "Epoch 171/300, Train_Loss: 0.1078, Train_Acc: 0.9667, Validation Loss: 0.4823, Val_Acc: 0.8805\n",
            "Epoch 172/300, Train_Loss: 0.1048, Train_Acc: 0.9673, Validation Loss: 0.5039, Val_Acc: 0.8809\n",
            "Epoch 173/300, Train_Loss: 0.1058, Train_Acc: 0.9668, Validation Loss: 0.4916, Val_Acc: 0.8801\n",
            "Epoch 174/300, Train_Loss: 0.1079, Train_Acc: 0.9659, Validation Loss: 0.5112, Val_Acc: 0.8787\n",
            "Epoch 175/300, Train_Loss: 0.1057, Train_Acc: 0.9665, Validation Loss: 0.4970, Val_Acc: 0.8815\n",
            "Epoch 176/300, Train_Loss: 0.1042, Train_Acc: 0.9670, Validation Loss: 0.4982, Val_Acc: 0.8818\n",
            "Epoch 177/300, Train_Loss: 0.1059, Train_Acc: 0.9664, Validation Loss: 0.4973, Val_Acc: 0.8820\n",
            "Epoch 178/300, Train_Loss: 0.1065, Train_Acc: 0.9667, Validation Loss: 0.4985, Val_Acc: 0.8789\n",
            "Epoch 179/300, Train_Loss: 0.1056, Train_Acc: 0.9672, Validation Loss: 0.4971, Val_Acc: 0.8808\n",
            "Epoch 180/300, Train_Loss: 0.1035, Train_Acc: 0.9677, Validation Loss: 0.5019, Val_Acc: 0.8790\n",
            "Epoch 181/300, Train_Loss: 0.1113, Train_Acc: 0.9652, Validation Loss: 0.5000, Val_Acc: 0.8797\n",
            "Epoch 182/300, Train_Loss: 0.1066, Train_Acc: 0.9667, Validation Loss: 0.5173, Val_Acc: 0.8761\n",
            "Epoch 183/300, Train_Loss: 0.1004, Train_Acc: 0.9688, Validation Loss: 0.5043, Val_Acc: 0.8806\n",
            "Epoch 184/300, Train_Loss: 0.1004, Train_Acc: 0.9688, Validation Loss: 0.4853, Val_Acc: 0.8832\n",
            "Epoch 185/300, Train_Loss: 0.1039, Train_Acc: 0.9678, Validation Loss: 0.5115, Val_Acc: 0.8787\n",
            "Epoch 186/300, Train_Loss: 0.1002, Train_Acc: 0.9690, Validation Loss: 0.5050, Val_Acc: 0.8804\n",
            "Epoch 187/300, Train_Loss: 0.0982, Train_Acc: 0.9697, Validation Loss: 0.4961, Val_Acc: 0.8825\n",
            "Epoch 188/300, Train_Loss: 0.0990, Train_Acc: 0.9695, Validation Loss: 0.5078, Val_Acc: 0.8805\n",
            "Epoch 189/300, Train_Loss: 0.0974, Train_Acc: 0.9700, Validation Loss: 0.5045, Val_Acc: 0.8816\n",
            "Epoch 190/300, Train_Loss: 0.0978, Train_Acc: 0.9697, Validation Loss: 0.5067, Val_Acc: 0.8795\n",
            "Epoch 191/300, Train_Loss: 0.0975, Train_Acc: 0.9694, Validation Loss: 0.5056, Val_Acc: 0.8828\n",
            "Epoch 192/300, Train_Loss: 0.0972, Train_Acc: 0.9698, Validation Loss: 0.5360, Val_Acc: 0.8789\n",
            "Epoch 193/300, Train_Loss: 0.0965, Train_Acc: 0.9705, Validation Loss: 0.5210, Val_Acc: 0.8794\n",
            "Epoch 194/300, Train_Loss: 0.0994, Train_Acc: 0.9688, Validation Loss: 0.5028, Val_Acc: 0.8806\n",
            "Epoch 195/300, Train_Loss: 0.0955, Train_Acc: 0.9703, Validation Loss: 0.5093, Val_Acc: 0.8805\n",
            "Epoch 196/300, Train_Loss: 0.0939, Train_Acc: 0.9715, Validation Loss: 0.5187, Val_Acc: 0.8815\n",
            "Epoch 197/300, Train_Loss: 0.0954, Train_Acc: 0.9707, Validation Loss: 0.5218, Val_Acc: 0.8812\n",
            "Epoch 198/300, Train_Loss: 0.0941, Train_Acc: 0.9720, Validation Loss: 0.5279, Val_Acc: 0.8787\n",
            "Epoch 199/300, Train_Loss: 0.0923, Train_Acc: 0.9717, Validation Loss: 0.5309, Val_Acc: 0.8768\n",
            "Epoch 200/300, Train_Loss: 0.0915, Train_Acc: 0.9718, Validation Loss: 0.5275, Val_Acc: 0.8800\n",
            "Epoch 201/300, Train_Loss: 0.0915, Train_Acc: 0.9723, Validation Loss: 0.5439, Val_Acc: 0.8784\n",
            "Epoch 202/300, Train_Loss: 0.0910, Train_Acc: 0.9716, Validation Loss: 0.5388, Val_Acc: 0.8769\n",
            "Epoch 203/300, Train_Loss: 0.0918, Train_Acc: 0.9716, Validation Loss: 0.5395, Val_Acc: 0.8787\n",
            "Epoch 204/300, Train_Loss: 0.0916, Train_Acc: 0.9720, Validation Loss: 0.5310, Val_Acc: 0.8816\n",
            "Epoch 205/300, Train_Loss: 0.0924, Train_Acc: 0.9712, Validation Loss: 0.5367, Val_Acc: 0.8806\n",
            "Epoch 206/300, Train_Loss: 0.0903, Train_Acc: 0.9730, Validation Loss: 0.5408, Val_Acc: 0.8799\n",
            "Epoch 207/300, Train_Loss: 0.0904, Train_Acc: 0.9721, Validation Loss: 0.5453, Val_Acc: 0.8798\n",
            "Epoch 208/300, Train_Loss: 0.0879, Train_Acc: 0.9730, Validation Loss: 0.5407, Val_Acc: 0.8805\n",
            "Epoch 209/300, Train_Loss: 0.0886, Train_Acc: 0.9735, Validation Loss: 0.5442, Val_Acc: 0.8789\n",
            "Epoch 210/300, Train_Loss: 0.0900, Train_Acc: 0.9720, Validation Loss: 0.5592, Val_Acc: 0.8771\n",
            "Epoch 211/300, Train_Loss: 0.0858, Train_Acc: 0.9739, Validation Loss: 0.5616, Val_Acc: 0.8780\n",
            "Epoch 212/300, Train_Loss: 0.0879, Train_Acc: 0.9730, Validation Loss: 0.5396, Val_Acc: 0.8801\n",
            "Epoch 213/300, Train_Loss: 0.0867, Train_Acc: 0.9739, Validation Loss: 0.5395, Val_Acc: 0.8799\n",
            "Epoch 214/300, Train_Loss: 0.0953, Train_Acc: 0.9699, Validation Loss: 0.5514, Val_Acc: 0.8782\n",
            "Epoch 215/300, Train_Loss: 0.0879, Train_Acc: 0.9728, Validation Loss: 0.5494, Val_Acc: 0.8776\n",
            "Epoch 216/300, Train_Loss: 0.0862, Train_Acc: 0.9735, Validation Loss: 0.5473, Val_Acc: 0.8787\n",
            "Epoch 217/300, Train_Loss: 0.0853, Train_Acc: 0.9732, Validation Loss: 0.5382, Val_Acc: 0.8784\n",
            "Epoch 218/300, Train_Loss: 0.0826, Train_Acc: 0.9754, Validation Loss: 0.5660, Val_Acc: 0.8787\n",
            "Epoch 219/300, Train_Loss: 0.0837, Train_Acc: 0.9740, Validation Loss: 0.5533, Val_Acc: 0.8788\n",
            "Epoch 220/300, Train_Loss: 0.0848, Train_Acc: 0.9739, Validation Loss: 0.5431, Val_Acc: 0.8828\n",
            "Epoch 221/300, Train_Loss: 0.0852, Train_Acc: 0.9738, Validation Loss: 0.5449, Val_Acc: 0.8802\n",
            "Epoch 222/300, Train_Loss: 0.0859, Train_Acc: 0.9732, Validation Loss: 0.5442, Val_Acc: 0.8811\n",
            "Epoch 223/300, Train_Loss: 0.0815, Train_Acc: 0.9754, Validation Loss: 0.5519, Val_Acc: 0.8808\n",
            "Epoch 224/300, Train_Loss: 0.0846, Train_Acc: 0.9744, Validation Loss: 0.5652, Val_Acc: 0.8770\n",
            "Epoch 225/300, Train_Loss: 0.0801, Train_Acc: 0.9760, Validation Loss: 0.5613, Val_Acc: 0.8788\n",
            "Epoch 226/300, Train_Loss: 0.0791, Train_Acc: 0.9760, Validation Loss: 0.5602, Val_Acc: 0.8803\n",
            "Epoch 227/300, Train_Loss: 0.0796, Train_Acc: 0.9755, Validation Loss: 0.5543, Val_Acc: 0.8792\n",
            "Epoch 228/300, Train_Loss: 0.0830, Train_Acc: 0.9745, Validation Loss: 0.5635, Val_Acc: 0.8787\n",
            "Epoch 229/300, Train_Loss: 0.0822, Train_Acc: 0.9752, Validation Loss: 0.5594, Val_Acc: 0.8792\n",
            "Epoch 230/300, Train_Loss: 0.0795, Train_Acc: 0.9758, Validation Loss: 0.5680, Val_Acc: 0.8832\n",
            "Epoch 231/300, Train_Loss: 0.0827, Train_Acc: 0.9744, Validation Loss: 0.5711, Val_Acc: 0.8792\n",
            "Epoch 232/300, Train_Loss: 0.0812, Train_Acc: 0.9749, Validation Loss: 0.5728, Val_Acc: 0.8787\n",
            "Epoch 233/300, Train_Loss: 0.0832, Train_Acc: 0.9745, Validation Loss: 0.5628, Val_Acc: 0.8808\n",
            "Epoch 234/300, Train_Loss: 0.0832, Train_Acc: 0.9739, Validation Loss: 0.5642, Val_Acc: 0.8781\n",
            "Epoch 235/300, Train_Loss: 0.0830, Train_Acc: 0.9743, Validation Loss: 0.5800, Val_Acc: 0.8743\n",
            "Epoch 236/300, Train_Loss: 0.0798, Train_Acc: 0.9760, Validation Loss: 0.5618, Val_Acc: 0.8808\n",
            "Epoch 237/300, Train_Loss: 0.0808, Train_Acc: 0.9756, Validation Loss: 0.5862, Val_Acc: 0.8765\n",
            "Epoch 238/300, Train_Loss: 0.0761, Train_Acc: 0.9768, Validation Loss: 0.5640, Val_Acc: 0.8806\n",
            "Epoch 239/300, Train_Loss: 0.0758, Train_Acc: 0.9773, Validation Loss: 0.5762, Val_Acc: 0.8785\n",
            "Epoch 240/300, Train_Loss: 0.0766, Train_Acc: 0.9764, Validation Loss: 0.5714, Val_Acc: 0.8781\n",
            "Epoch 241/300, Train_Loss: 0.0807, Train_Acc: 0.9748, Validation Loss: 0.5879, Val_Acc: 0.8765\n",
            "Epoch 242/300, Train_Loss: 0.0791, Train_Acc: 0.9760, Validation Loss: 0.5910, Val_Acc: 0.8756\n",
            "Epoch 243/300, Train_Loss: 0.0775, Train_Acc: 0.9761, Validation Loss: 0.5685, Val_Acc: 0.8811\n",
            "Epoch 244/300, Train_Loss: 0.0750, Train_Acc: 0.9778, Validation Loss: 0.5765, Val_Acc: 0.8764\n",
            "Epoch 245/300, Train_Loss: 0.0764, Train_Acc: 0.9765, Validation Loss: 0.5972, Val_Acc: 0.8749\n",
            "Epoch 246/300, Train_Loss: 0.0737, Train_Acc: 0.9778, Validation Loss: 0.5750, Val_Acc: 0.8819\n",
            "Epoch 247/300, Train_Loss: 0.0742, Train_Acc: 0.9777, Validation Loss: 0.5954, Val_Acc: 0.8771\n",
            "Epoch 248/300, Train_Loss: 0.0724, Train_Acc: 0.9787, Validation Loss: 0.5735, Val_Acc: 0.8789\n",
            "Epoch 249/300, Train_Loss: 0.0699, Train_Acc: 0.9796, Validation Loss: 0.5901, Val_Acc: 0.8788\n",
            "Epoch 250/300, Train_Loss: 0.0700, Train_Acc: 0.9796, Validation Loss: 0.5784, Val_Acc: 0.8816\n",
            "Epoch 251/300, Train_Loss: 0.0696, Train_Acc: 0.9794, Validation Loss: 0.5984, Val_Acc: 0.8788\n",
            "Epoch 252/300, Train_Loss: 0.0771, Train_Acc: 0.9761, Validation Loss: 0.5896, Val_Acc: 0.8812\n",
            "Epoch 253/300, Train_Loss: 0.0715, Train_Acc: 0.9795, Validation Loss: 0.5788, Val_Acc: 0.8804\n",
            "Epoch 254/300, Train_Loss: 0.0704, Train_Acc: 0.9787, Validation Loss: 0.5963, Val_Acc: 0.8789\n",
            "Epoch 255/300, Train_Loss: 0.0736, Train_Acc: 0.9775, Validation Loss: 0.5988, Val_Acc: 0.8780\n",
            "Epoch 256/300, Train_Loss: 0.0782, Train_Acc: 0.9755, Validation Loss: 0.5876, Val_Acc: 0.8767\n",
            "Epoch 257/300, Train_Loss: 0.0766, Train_Acc: 0.9762, Validation Loss: 0.5770, Val_Acc: 0.8811\n",
            "Epoch 258/300, Train_Loss: 0.0776, Train_Acc: 0.9754, Validation Loss: 0.5807, Val_Acc: 0.8766\n",
            "Epoch 259/300, Train_Loss: 0.0788, Train_Acc: 0.9753, Validation Loss: 0.5799, Val_Acc: 0.8794\n",
            "Epoch 260/300, Train_Loss: 0.0704, Train_Acc: 0.9786, Validation Loss: 0.5922, Val_Acc: 0.8793\n",
            "Epoch 261/300, Train_Loss: 0.0765, Train_Acc: 0.9757, Validation Loss: 0.5755, Val_Acc: 0.8800\n",
            "Epoch 262/300, Train_Loss: 0.0687, Train_Acc: 0.9793, Validation Loss: 0.5876, Val_Acc: 0.8804\n",
            "Epoch 263/300, Train_Loss: 0.0718, Train_Acc: 0.9781, Validation Loss: 0.5803, Val_Acc: 0.8801\n",
            "Epoch 264/300, Train_Loss: 0.0727, Train_Acc: 0.9778, Validation Loss: 0.5834, Val_Acc: 0.8806\n",
            "Epoch 265/300, Train_Loss: 0.0695, Train_Acc: 0.9792, Validation Loss: 0.5949, Val_Acc: 0.8798\n",
            "Epoch 266/300, Train_Loss: 0.0707, Train_Acc: 0.9786, Validation Loss: 0.5844, Val_Acc: 0.8828\n",
            "Epoch 267/300, Train_Loss: 0.0718, Train_Acc: 0.9781, Validation Loss: 0.6232, Val_Acc: 0.8714\n",
            "Epoch 268/300, Train_Loss: 0.0703, Train_Acc: 0.9790, Validation Loss: 0.5904, Val_Acc: 0.8817\n",
            "Epoch 269/300, Train_Loss: 0.0713, Train_Acc: 0.9786, Validation Loss: 0.5927, Val_Acc: 0.8808\n",
            "Epoch 270/300, Train_Loss: 0.0670, Train_Acc: 0.9801, Validation Loss: 0.5854, Val_Acc: 0.8820\n",
            "Epoch 271/300, Train_Loss: 0.0664, Train_Acc: 0.9803, Validation Loss: 0.5791, Val_Acc: 0.8819\n",
            "Epoch 272/300, Train_Loss: 0.0646, Train_Acc: 0.9810, Validation Loss: 0.5964, Val_Acc: 0.8805\n",
            "Epoch 273/300, Train_Loss: 0.0698, Train_Acc: 0.9791, Validation Loss: 0.5991, Val_Acc: 0.8822\n",
            "Epoch 274/300, Train_Loss: 0.0685, Train_Acc: 0.9792, Validation Loss: 0.5929, Val_Acc: 0.8805\n",
            "Epoch 275/300, Train_Loss: 0.0689, Train_Acc: 0.9791, Validation Loss: 0.5960, Val_Acc: 0.8811\n",
            "Epoch 276/300, Train_Loss: 0.0679, Train_Acc: 0.9795, Validation Loss: 0.5921, Val_Acc: 0.8801\n",
            "Epoch 277/300, Train_Loss: 0.0636, Train_Acc: 0.9817, Validation Loss: 0.6119, Val_Acc: 0.8796\n",
            "Epoch 278/300, Train_Loss: 0.0686, Train_Acc: 0.9792, Validation Loss: 0.6036, Val_Acc: 0.8792\n",
            "Epoch 279/300, Train_Loss: 0.0614, Train_Acc: 0.9822, Validation Loss: 0.6040, Val_Acc: 0.8798\n",
            "Epoch 280/300, Train_Loss: 0.0636, Train_Acc: 0.9813, Validation Loss: 0.6018, Val_Acc: 0.8808\n",
            "Epoch 281/300, Train_Loss: 0.0638, Train_Acc: 0.9811, Validation Loss: 0.6111, Val_Acc: 0.8799\n",
            "Epoch 282/300, Train_Loss: 0.0641, Train_Acc: 0.9807, Validation Loss: 0.6144, Val_Acc: 0.8764\n",
            "Epoch 283/300, Train_Loss: 0.0671, Train_Acc: 0.9791, Validation Loss: 0.5946, Val_Acc: 0.8818\n",
            "Epoch 284/300, Train_Loss: 0.0609, Train_Acc: 0.9815, Validation Loss: 0.5975, Val_Acc: 0.8805\n",
            "Epoch 285/300, Train_Loss: 0.0671, Train_Acc: 0.9795, Validation Loss: 0.6044, Val_Acc: 0.8803\n",
            "Epoch 286/300, Train_Loss: 0.0649, Train_Acc: 0.9803, Validation Loss: 0.6117, Val_Acc: 0.8783\n",
            "Epoch 287/300, Train_Loss: 0.0651, Train_Acc: 0.9802, Validation Loss: 0.6071, Val_Acc: 0.8793\n",
            "Epoch 288/300, Train_Loss: 0.0622, Train_Acc: 0.9811, Validation Loss: 0.6088, Val_Acc: 0.8815\n",
            "Epoch 289/300, Train_Loss: 0.0610, Train_Acc: 0.9820, Validation Loss: 0.6146, Val_Acc: 0.8792\n",
            "Epoch 290/300, Train_Loss: 0.0619, Train_Acc: 0.9816, Validation Loss: 0.6207, Val_Acc: 0.8796\n",
            "Epoch 291/300, Train_Loss: 0.0593, Train_Acc: 0.9827, Validation Loss: 0.6216, Val_Acc: 0.8793\n",
            "Epoch 292/300, Train_Loss: 0.0590, Train_Acc: 0.9824, Validation Loss: 0.6200, Val_Acc: 0.8805\n",
            "Epoch 293/300, Train_Loss: 0.0612, Train_Acc: 0.9814, Validation Loss: 0.6068, Val_Acc: 0.8812\n",
            "Epoch 294/300, Train_Loss: 0.0586, Train_Acc: 0.9832, Validation Loss: 0.6257, Val_Acc: 0.8794\n",
            "Epoch 295/300, Train_Loss: 0.0615, Train_Acc: 0.9820, Validation Loss: 0.6144, Val_Acc: 0.8805\n",
            "Epoch 296/300, Train_Loss: 0.0587, Train_Acc: 0.9828, Validation Loss: 0.6087, Val_Acc: 0.8810\n",
            "Epoch 297/300, Train_Loss: 0.0582, Train_Acc: 0.9831, Validation Loss: 0.6397, Val_Acc: 0.8734\n",
            "Epoch 298/300, Train_Loss: 0.0766, Train_Acc: 0.9766, Validation Loss: 0.5980, Val_Acc: 0.8820\n",
            "Epoch 299/300, Train_Loss: 0.0620, Train_Acc: 0.9820, Validation Loss: 0.6010, Val_Acc: 0.8791\n",
            "Epoch 300/300, Train_Loss: 0.0642, Train_Acc: 0.9806, Validation Loss: 0.6141, Val_Acc: 0.8782\n"
          ]
        }
      ],
      "source": [
        "train_losses = []\n",
        "train_acc = []\n",
        "val_losses = []\n",
        "val_acc = []\n",
        "for epoch in range(num_epochs):\n",
        "    model.train()\n",
        "    t_loss = 0\n",
        "    t_acc = 0\n",
        "    cnt = 0\n",
        "    for X, y in train_loader:\n",
        "        X, y = X.to(device), y.to(device)\n",
        "        optimizer.zero_grad()\n",
        "        outputs = model(X)\n",
        "        loss = criterion(outputs, y)\n",
        "        loss.backward()\n",
        "        optimizer.step()\n",
        "        t_loss += loss.item()\n",
        "        t_acc += (torch.argmax(outputs, 1) == y).sum().item()\n",
        "        cnt += len(y)\n",
        "    t_loss /= len(train_loader)\n",
        "    train_losses.append(t_loss)\n",
        "    t_acc /= cnt\n",
        "    train_acc.append(t_acc)\n",
        "\n",
        "    model.eval()\n",
        "    v_loss = 0\n",
        "    v_acc = 0\n",
        "    cnt = 0\n",
        "    with torch.no_grad():\n",
        "        for X, y in test_loader:\n",
        "            X, y = X.to(device), y.to(device)\n",
        "            outputs = model(X)\n",
        "            loss = criterion(outputs, y)\n",
        "            v_loss += loss.item()\n",
        "            v_acc += (torch.argmax(outputs, 1)==y).sum().item()\n",
        "            cnt += len(y)\n",
        "    v_loss /= len(test_loader)\n",
        "    val_losses.append(v_loss)\n",
        "    v_acc /= cnt\n",
        "    val_acc.append(v_acc)\n",
        "    print(f\"Epoch {epoch+1}/{num_epochs}, Train_Loss: {t_loss:.4f}, Train_Acc: {t_acc:.4f}, Validation Loss: {v_loss:.4f}, Val_Acc: {v_acc:.4f}\")"
      ]
    },
    {
      "cell_type": "code",
      "execution_count": null,
      "id": "a88a2cd7-491f-43e3-abf5-1f100e431143",
      "metadata": {
        "colab": {
          "base_uri": "https://localhost:8080/"
        },
        "id": "a88a2cd7-491f-43e3-abf5-1f100e431143",
        "outputId": "436c4caf-17a0-49b0-ab92-23adb7fea07a"
      },
      "outputs": [
        {
          "output_type": "execute_result",
          "data": {
            "text/plain": [
              "<matplotlib.legend.Legend at 0x7d3e3f57afb0>"
            ]
          },
          "metadata": {},
          "execution_count": 8
        },
        {
          "output_type": "display_data",
          "data": {
            "text/plain": [
              "<Figure size 640x480 with 1 Axes>"
            ],
            "image/png": "[encoded data removed]"
          },
          "metadata": {}
        }
      ],
      "source": [
        "import matplotlib.pyplot as plt\n",
        "\n",
        "plt.plot(train_losses, label='loss')\n",
        "plt.plot(val_losses, label='val_loss')\n",
        "plt.xlabel('iteration')\n",
        "plt.ylabel('Loss')\n",
        "plt.legend()"
      ]
    },
    {
      "cell_type": "code",
      "execution_count": null,
      "id": "085ccb0d-69d8-46a3-a1e4-13b8df65f883",
      "metadata": {
        "colab": {
          "base_uri": "https://localhost:8080/"
        },
        "id": "085ccb0d-69d8-46a3-a1e4-13b8df65f883",
        "outputId": "0a1fb01b-51ec-4c6b-a7f5-339efaef830e"
      },
      "outputs": [
        {
          "output_type": "execute_result",
          "data": {
            "text/plain": [
              "<matplotlib.legend.Legend at 0x7d3e3f3ae1a0>"
            ]
          },
          "metadata": {},
          "execution_count": 9
        },
        {
          "output_type": "display_data",
          "data": {
            "text/plain": [
              "<Figure size 640x480 with 1 Axes>"
            ],
            "image/png": "[encoded data removed]"
          },
          "metadata": {}
        }
      ],
      "source": [
        "import matplotlib.pyplot as plt\n",
        "\n",
        "plt.plot(train_acc, label='train_accuracy')\n",
        "plt.plot(val_acc, label='val_accuracy')\n",
        "plt.xlabel('iteration')\n",
        "plt.ylabel('Accuracy')\n",
        "plt.legend()"
      ]
    }
  ],
  "metadata": {
    "accelerator": "TPU",
    "colab": {
      "provenance": [],
      "gpuType": "V28"
    },
    "kernelspec": {
      "display_name": "Python 3",
      "name": "python3"
    },
    "language_info": {
      "codemirror_mode": {
        "name": "ipython",
        "version": 3
      },
      "file_extension": ".py",
      "mimetype": "text/x-python",
      "name": "python",
      "nbconvert_exporter": "python",
      "pygments_lexer": "ipython3",
      "version": "3.12.4"
    },
    "toc": {
      "base_numbering": 1,
      "nav_menu": {},
      "number_sections": true,
      "sideBar": true,
      "skip_h1_title": false,
      "title_cell": "Table of Contents",
      "title_sidebar": "Contents",
      "toc_cell": false,
      "toc_position": {},
      "toc_section_display": true,
      "toc_window_display": false
    }
  },
  "nbformat": 4,
  "nbformat_minor": 5
}