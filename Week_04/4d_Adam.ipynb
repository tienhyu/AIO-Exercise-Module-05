{
 "cells": [
  {
   "cell_type": "markdown",
   "metadata": {
    "id": "PDZxOtCZt5VU"
   },
   "source": [
    "## Problem"
   ]
  },
  {
   "cell_type": "markdown",
   "metadata": {
    "id": "Z7esFCIXuNXS"
   },
   "source": [
    "$$f(w_1, w_2) = 0.1w_1^2 + 2w_2^2 \\;\\;\\;\\;\\;\\;\\;(1)$$"
   ]
  },
  {
   "cell_type": "code",
   "execution_count": 1,
   "metadata": {
    "id": "_IAVg99F9N0y"
   },
   "outputs": [],
   "source": [
    "import numpy as np"
   ]
  },
  {
   "cell_type": "markdown",
   "metadata": {
    "id": "77XQZxMK2l4x"
   },
   "source": [
    "### Adam"
   ]
  },
  {
   "cell_type": "code",
   "execution_count": 2,
   "metadata": {
    "id": "uai1hzbWuNaK"
   },
   "outputs": [],
   "source": [
    "def df_w(W):\n",
    "    w1, w2 = W\n",
    "    dw1 = 0.2 * w1\n",
    "    dw2 = 4 * w2\n",
    "    dW = np.array([dw1, dw2])\n",
    "    \n",
    "    return dW"
   ]
  },
  {
   "cell_type": "code",
   "execution_count": 3,
   "metadata": {
    "id": "d9HnD57lC1X1"
   },
   "outputs": [],
   "source": [
    "def Adam(W, dW, lr, V, S, beta1, beta2, t):\n",
    "    epsilon = 1e-6\n",
    "    V = beta1 * V + (1 - beta1) * dW\n",
    "    S = beta2 * S + (1 - beta2) * (dW ** 2)\n",
    "\n",
    "    V_corr = V / (1 - beta1 ** t)\n",
    "    S_corr = S / (1 - beta2 ** t)\n",
    "\n",
    "    W = W - lr * V_corr / (np.sqrt(S_corr) + epsilon)\n",
    "    return W, V, S"
   ]
  },
  {
   "cell_type": "code",
   "execution_count": 4,
   "metadata": {
    "id": "DSux416mEjYy"
   },
   "outputs": [],
   "source": [
    "def train_p1(optimizer, lr, epochs):\n",
    "    W = np.array([-5, -2], dtype=np.float32)\n",
    "    V = np.array([0, 0], dtype=np.float32)\n",
    "    S = np.array([0, 0], dtype=np.float32)\n",
    "    results = [W]\n",
    "\n",
    "    for t in range(1, epochs + 1):\n",
    "        dW = df_w(W)\n",
    "        W, V, S = optimizer(W, dW, lr, V, S, beta1=0.9, beta2=0.999, t=t)\n",
    "        results.append(W)\n",
    "    return results"
   ]
  },
  {
   "cell_type": "code",
   "execution_count": 5,
   "metadata": {
    "id": "uwBvH3HeEjUL"
   },
   "outputs": [
    {
     "data": {
      "text/plain": [
       "[array([-5., -2.], dtype=float32),\n",
       " array([-4.8000002 , -1.80000002]),\n",
       " array([-4.60025478, -1.60082451]),\n",
       " array([-4.40094848, -1.40317262]),\n",
       " array([-4.20227764, -1.20787822]),\n",
       " array([-4.00445033, -1.01592745]),\n",
       " array([-3.80768638, -0.82847307]),\n",
       " array([-3.61221732, -0.64684159]),\n",
       " array([-3.41828623, -0.47252765]),\n",
       " array([-3.22614739, -0.30716934]),\n",
       " array([-3.03606592, -0.15249855]),\n",
       " array([-2.84831706, -0.01026326]),\n",
       " array([-2.66318543,  0.11787552]),\n",
       " array([-2.480964  ,  0.23046161]),\n",
       " array([-2.30195279,  0.3263587 ]),\n",
       " array([-2.12645742,  0.40484195]),\n",
       " array([-1.95478732,  0.46564961]),\n",
       " array([-1.7872537 ,  0.50898799]),\n",
       " array([-1.62416726,  0.53549442]),\n",
       " array([-1.46583566,  0.54617144]),\n",
       " array([-1.31256067,  0.54230812]),\n",
       " array([-1.16463526,  0.52540206]),\n",
       " array([-1.02234036,  0.4970906 ]),\n",
       " array([-0.88594163,  0.4590951 ]),\n",
       " array([-0.75568617,  0.41317781]),\n",
       " array([-0.63179919,  0.3611089 ]),\n",
       " array([-0.51448089,  0.30464048]),\n",
       " array([-0.40390346,  0.24548409]),\n",
       " array([-0.30020842,  0.18528918]),\n",
       " array([-0.20350426,  0.12562074]),\n",
       " array([-0.11386457,  0.06793529])]"
      ]
     },
     "execution_count": 5,
     "metadata": {},
     "output_type": "execute_result"
    }
   ],
   "source": [
    "train_p1(Adam, lr=0.2, epochs=30)"
   ]
  }
 ],
 "metadata": {
  "colab": {
   "provenance": [],
   "toc_visible": true
  },
  "kernelspec": {
   "display_name": "Python 3",
   "name": "python3"
  },
  "language_info": {
   "codemirror_mode": {
    "name": "ipython",
    "version": 3
   },
   "file_extension": ".py",
   "mimetype": "text/x-python",
   "name": "python",
   "nbconvert_exporter": "python",
   "pygments_lexer": "ipython3",
   "version": "3.12.6"
  }
 },
 "nbformat": 4,
 "nbformat_minor": 0
}
