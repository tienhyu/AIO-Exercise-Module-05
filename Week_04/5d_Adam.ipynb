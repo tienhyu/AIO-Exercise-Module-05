{
 "cells": [
  {
   "cell_type": "markdown",
   "id": "syncB6SrV7ca",
   "metadata": {
    "id": "syncB6SrV7ca"
   },
   "source": [
    "## Load Data"
   ]
  },
  {
   "cell_type": "markdown",
   "id": "VajbqWjYr1y1",
   "metadata": {
    "id": "VajbqWjYr1y1"
   },
   "source": []
  },
  {
   "cell_type": "code",
   "execution_count": 2,
   "id": "e175eeac",
   "metadata": {
    "colab": {
     "base_uri": "https://localhost:8080/"
    },
    "executionInfo": {
     "elapsed": 10200,
     "status": "ok",
     "timestamp": 1732539482864,
     "user": {
      "displayName": "Tien Nguyen",
      "userId": "12615839768308909769"
     },
     "user_tz": -420
    },
    "id": "e175eeac",
    "outputId": "47a70f17-0c77-4eb2-bdb0-9e2cd289af37"
   },
   "outputs": [
    {
     "data": {
      "text/plain": [
       "<torch._C.Generator at 0x7b848c092d10>"
      ]
     },
     "execution_count": 2,
     "metadata": {},
     "output_type": "execute_result"
    }
   ],
   "source": [
    "import torch\n",
    "from torch import nn\n",
    "import torch.optim as optim\n",
    "from torch.utils.data import Dataset, DataLoader\n",
    "import torchvision\n",
    "from torchvision.datasets import FashionMNIST\n",
    "import torchvision.transforms as transforms\n",
    "import numpy as np\n",
    "device = torch.device('cuda:0' if torch.cuda.is_available() else 'cpu')\n",
    "torch.manual_seed(42)"
   ]
  },
  {
   "cell_type": "code",
   "execution_count": 3,
   "id": "cd6d8ed9-194c-4334-bd99-625b3d5b4a00",
   "metadata": {
    "executionInfo": {
     "elapsed": 2,
     "status": "ok",
     "timestamp": 1732539482864,
     "user": {
      "displayName": "Tien Nguyen",
      "userId": "12615839768308909769"
     },
     "user_tz": -420
    },
    "id": "cd6d8ed9-194c-4334-bd99-625b3d5b4a00"
   },
   "outputs": [],
   "source": [
    "batch_size = 512\n",
    "num_epochs = 300\n",
    "lr = 0.01"
   ]
  },
  {
   "cell_type": "code",
   "execution_count": 4,
   "id": "c99e7832-3603-48e2-aafa-45194af43501",
   "metadata": {
    "colab": {
     "base_uri": "https://localhost:8080/"
    },
    "executionInfo": {
     "elapsed": 5172,
     "status": "ok",
     "timestamp": 1732539488034,
     "user": {
      "displayName": "Tien Nguyen",
      "userId": "12615839768308909769"
     },
     "user_tz": -420
    },
    "id": "c99e7832-3603-48e2-aafa-45194af43501",
    "outputId": "29368e9e-53ad-4947-f881-b6eb97b1d2e4"
   },
   "outputs": [
    {
     "name": "stdout",
     "output_type": "stream",
     "text": [
      "Downloading http://fashion-mnist.s3-website.eu-central-1.amazonaws.com/train-images-idx3-ubyte.gz\n",
      "Downloading http://fashion-mnist.s3-website.eu-central-1.amazonaws.com/train-images-idx3-ubyte.gz to ./data/FashionMNIST/raw/train-images-idx3-ubyte.gz\n"
     ]
    },
    {
     "name": "stderr",
     "output_type": "stream",
     "text": [
      "100%|██████████| 26.4M/26.4M [00:01<00:00, 16.9MB/s]\n"
     ]
    },
    {
     "name": "stdout",
     "output_type": "stream",
     "text": [
      "Extracting ./data/FashionMNIST/raw/train-images-idx3-ubyte.gz to ./data/FashionMNIST/raw\n",
      "\n",
      "Downloading http://fashion-mnist.s3-website.eu-central-1.amazonaws.com/train-labels-idx1-ubyte.gz\n",
      "Downloading http://fashion-mnist.s3-website.eu-central-1.amazonaws.com/train-labels-idx1-ubyte.gz to ./data/FashionMNIST/raw/train-labels-idx1-ubyte.gz\n"
     ]
    },
    {
     "name": "stderr",
     "output_type": "stream",
     "text": [
      "100%|██████████| 29.5k/29.5k [00:00<00:00, 265kB/s]\n"
     ]
    },
    {
     "name": "stdout",
     "output_type": "stream",
     "text": [
      "Extracting ./data/FashionMNIST/raw/train-labels-idx1-ubyte.gz to ./data/FashionMNIST/raw\n",
      "\n",
      "Downloading http://fashion-mnist.s3-website.eu-central-1.amazonaws.com/t10k-images-idx3-ubyte.gz\n",
      "Downloading http://fashion-mnist.s3-website.eu-central-1.amazonaws.com/t10k-images-idx3-ubyte.gz to ./data/FashionMNIST/raw/t10k-images-idx3-ubyte.gz\n"
     ]
    },
    {
     "name": "stderr",
     "output_type": "stream",
     "text": [
      "100%|██████████| 4.42M/4.42M [00:00<00:00, 4.98MB/s]\n"
     ]
    },
    {
     "name": "stdout",
     "output_type": "stream",
     "text": [
      "Extracting ./data/FashionMNIST/raw/t10k-images-idx3-ubyte.gz to ./data/FashionMNIST/raw\n",
      "\n",
      "Downloading http://fashion-mnist.s3-website.eu-central-1.amazonaws.com/t10k-labels-idx1-ubyte.gz\n",
      "Downloading http://fashion-mnist.s3-website.eu-central-1.amazonaws.com/t10k-labels-idx1-ubyte.gz to ./data/FashionMNIST/raw/t10k-labels-idx1-ubyte.gz\n"
     ]
    },
    {
     "name": "stderr",
     "output_type": "stream",
     "text": [
      "100%|██████████| 5.15k/5.15k [00:00<00:00, 7.76MB/s]"
     ]
    },
    {
     "name": "stdout",
     "output_type": "stream",
     "text": [
      "Extracting ./data/FashionMNIST/raw/t10k-labels-idx1-ubyte.gz to ./data/FashionMNIST/raw\n",
      "\n"
     ]
    },
    {
     "name": "stderr",
     "output_type": "stream",
     "text": [
      "\n"
     ]
    }
   ],
   "source": [
    "train_dataset = FashionMNIST(root='./data', train=True, download=True, transform=transforms.ToTensor())\n",
    "train_loader = DataLoader(train_dataset, batch_size, shuffle=True)\n",
    "test_dataset = FashionMNIST(root='./data', train=False, download=True, transform=transforms.ToTensor())\n",
    "test_loader = DataLoader(test_dataset, batch_size)"
   ]
  },
  {
   "cell_type": "markdown",
   "id": "f068e1ea",
   "metadata": {
    "id": "f068e1ea"
   },
   "source": [
    "## Modeling"
   ]
  },
  {
   "cell_type": "code",
   "execution_count": 5,
   "id": "8aabf29a",
   "metadata": {
    "executionInfo": {
     "elapsed": 4,
     "status": "ok",
     "timestamp": 1732539488034,
     "user": {
      "displayName": "Tien Nguyen",
      "userId": "12615839768308909769"
     },
     "user_tz": -420
    },
    "id": "8aabf29a"
   },
   "outputs": [],
   "source": [
    "class MLP(nn.Module):\n",
    "    def __init__(self, input_dims, hidden_dims, output_dims):\n",
    "        super(MLP, self).__init__()\n",
    "        self.layer1 = nn.Linear(input_dims, hidden_dims)\n",
    "        self.layer2 = nn.Linear(hidden_dims, hidden_dims)\n",
    "        self.layer3 = nn.Linear(hidden_dims, hidden_dims)\n",
    "        self.layer4 = nn.Linear(hidden_dims, hidden_dims)\n",
    "        self.layer5 = nn.Linear(hidden_dims, hidden_dims)\n",
    "        self.output = nn.Linear(hidden_dims, output_dims)\n",
    "        self.sigmoid = nn.Sigmoid()\n",
    "\n",
    "    def forward(self, x):\n",
    "        x = nn.Flatten()(x)\n",
    "        x = self.layer1(x)\n",
    "        x = self.sigmoid(x)\n",
    "        x = self.layer2(x)\n",
    "        x = self.sigmoid(x)\n",
    "        x = self.layer3(x)\n",
    "        x = self.sigmoid(x)\n",
    "        x = self.layer4(x)\n",
    "        x = self.sigmoid(x)\n",
    "        x = self.layer5(x)\n",
    "        x = self.sigmoid(x)\n",
    "        out = self.output(x)\n",
    "        return out"
   ]
  },
  {
   "cell_type": "code",
   "execution_count": 6,
   "id": "8c6459b6-d042-4117-8ee1-e388a8b708f0",
   "metadata": {
    "executionInfo": {
     "elapsed": 3,
     "status": "ok",
     "timestamp": 1732539488034,
     "user": {
      "displayName": "Tien Nguyen",
      "userId": "12615839768308909769"
     },
     "user_tz": -420
    },
    "id": "8c6459b6-d042-4117-8ee1-e388a8b708f0"
   },
   "outputs": [],
   "source": [
    "model = MLP(input_dims=784, hidden_dims=128, output_dims=10).to(device)\n",
    "criterion = nn.CrossEntropyLoss()\n",
    "################## YOUR CODE HERE ##################\n",
    "\"\"\"Cấu hình optimizer theo yêu cầu đề bài\"\"\"\n",
    "optimizer = optim.Adam(model.parameters(), lr=lr)\n",
    "####################################################"
   ]
  },
  {
   "cell_type": "markdown",
   "id": "c3167cdb",
   "metadata": {
    "id": "c3167cdb"
   },
   "source": [
    "## ADAM"
   ]
  },
  {
   "cell_type": "code",
   "execution_count": 7,
   "id": "c46b65da",
   "metadata": {
    "colab": {
     "base_uri": "https://localhost:8080/"
    },
    "executionInfo": {
     "elapsed": 2147845,
     "status": "ok",
     "timestamp": 1732541635876,
     "user": {
      "displayName": "Tien Nguyen",
      "userId": "12615839768308909769"
     },
     "user_tz": -420
    },
    "id": "c46b65da",
    "outputId": "b2133dfa-ac64-45de-a413-70f3f07d30a0"
   },
   "outputs": [
    {
     "name": "stdout",
     "output_type": "stream",
     "text": [
      "Epoch 1/300, Train_Loss: 1.5855, Train_Acc: 0.3017, Validation Loss: 0.9681, Val_Acc: 0.6181\n",
      "Epoch 2/300, Train_Loss: 0.7717, Train_Acc: 0.6915, Validation Loss: 0.7042, Val_Acc: 0.7259\n",
      "Epoch 3/300, Train_Loss: 0.5841, Train_Acc: 0.7877, Validation Loss: 0.5343, Val_Acc: 0.8127\n",
      "Epoch 4/300, Train_Loss: 0.4752, Train_Acc: 0.8381, Validation Loss: 0.5015, Val_Acc: 0.8241\n",
      "Epoch 5/300, Train_Loss: 0.4168, Train_Acc: 0.8559, Validation Loss: 0.4369, Val_Acc: 0.8465\n",
      "Epoch 6/300, Train_Loss: 0.3818, Train_Acc: 0.8658, Validation Loss: 0.4239, Val_Acc: 0.8451\n",
      "Epoch 7/300, Train_Loss: 0.3543, Train_Acc: 0.8736, Validation Loss: 0.4070, Val_Acc: 0.8544\n",
      "Epoch 8/300, Train_Loss: 0.3319, Train_Acc: 0.8809, Validation Loss: 0.3915, Val_Acc: 0.8602\n",
      "Epoch 9/300, Train_Loss: 0.3287, Train_Acc: 0.8812, Validation Loss: 0.4089, Val_Acc: 0.8565\n",
      "Epoch 10/300, Train_Loss: 0.3124, Train_Acc: 0.8859, Validation Loss: 0.3958, Val_Acc: 0.8599\n",
      "Epoch 11/300, Train_Loss: 0.3066, Train_Acc: 0.8876, Validation Loss: 0.3784, Val_Acc: 0.8636\n",
      "Epoch 12/300, Train_Loss: 0.2960, Train_Acc: 0.8912, Validation Loss: 0.3915, Val_Acc: 0.8640\n",
      "Epoch 13/300, Train_Loss: 0.2881, Train_Acc: 0.8943, Validation Loss: 0.3784, Val_Acc: 0.8675\n",
      "Epoch 14/300, Train_Loss: 0.2853, Train_Acc: 0.8953, Validation Loss: 0.3643, Val_Acc: 0.8682\n",
      "Epoch 15/300, Train_Loss: 0.2779, Train_Acc: 0.8994, Validation Loss: 0.3657, Val_Acc: 0.8721\n",
      "Epoch 16/300, Train_Loss: 0.2746, Train_Acc: 0.8994, Validation Loss: 0.3554, Val_Acc: 0.8739\n",
      "Epoch 17/300, Train_Loss: 0.2638, Train_Acc: 0.9023, Validation Loss: 0.3826, Val_Acc: 0.8678\n",
      "Epoch 18/300, Train_Loss: 0.2647, Train_Acc: 0.9031, Validation Loss: 0.3565, Val_Acc: 0.8736\n",
      "Epoch 19/300, Train_Loss: 0.2544, Train_Acc: 0.9042, Validation Loss: 0.3726, Val_Acc: 0.8725\n",
      "Epoch 20/300, Train_Loss: 0.2537, Train_Acc: 0.9062, Validation Loss: 0.3735, Val_Acc: 0.8726\n",
      "Epoch 21/300, Train_Loss: 0.2535, Train_Acc: 0.9064, Validation Loss: 0.3591, Val_Acc: 0.8759\n",
      "Epoch 22/300, Train_Loss: 0.2494, Train_Acc: 0.9071, Validation Loss: 0.3686, Val_Acc: 0.8732\n",
      "Epoch 23/300, Train_Loss: 0.2405, Train_Acc: 0.9111, Validation Loss: 0.3652, Val_Acc: 0.8737\n",
      "Epoch 24/300, Train_Loss: 0.2411, Train_Acc: 0.9107, Validation Loss: 0.3566, Val_Acc: 0.8784\n",
      "Epoch 25/300, Train_Loss: 0.2398, Train_Acc: 0.9116, Validation Loss: 0.3737, Val_Acc: 0.8754\n",
      "Epoch 26/300, Train_Loss: 0.2302, Train_Acc: 0.9139, Validation Loss: 0.3706, Val_Acc: 0.8702\n",
      "Epoch 27/300, Train_Loss: 0.2341, Train_Acc: 0.9129, Validation Loss: 0.3842, Val_Acc: 0.8747\n",
      "Epoch 28/300, Train_Loss: 0.2287, Train_Acc: 0.9147, Validation Loss: 0.3495, Val_Acc: 0.8787\n",
      "Epoch 29/300, Train_Loss: 0.2196, Train_Acc: 0.9177, Validation Loss: 0.3979, Val_Acc: 0.8716\n",
      "Epoch 30/300, Train_Loss: 0.2258, Train_Acc: 0.9163, Validation Loss: 0.3784, Val_Acc: 0.8756\n",
      "Epoch 31/300, Train_Loss: 0.2200, Train_Acc: 0.9186, Validation Loss: 0.3773, Val_Acc: 0.8764\n",
      "Epoch 32/300, Train_Loss: 0.2109, Train_Acc: 0.9214, Validation Loss: 0.3690, Val_Acc: 0.8773\n",
      "Epoch 33/300, Train_Loss: 0.2131, Train_Acc: 0.9195, Validation Loss: 0.3740, Val_Acc: 0.8733\n",
      "Epoch 34/300, Train_Loss: 0.2127, Train_Acc: 0.9203, Validation Loss: 0.3832, Val_Acc: 0.8791\n",
      "Epoch 35/300, Train_Loss: 0.2100, Train_Acc: 0.9229, Validation Loss: 0.3797, Val_Acc: 0.8730\n",
      "Epoch 36/300, Train_Loss: 0.2044, Train_Acc: 0.9244, Validation Loss: 0.4006, Val_Acc: 0.8760\n",
      "Epoch 37/300, Train_Loss: 0.2087, Train_Acc: 0.9224, Validation Loss: 0.4014, Val_Acc: 0.8734\n",
      "Epoch 38/300, Train_Loss: 0.2067, Train_Acc: 0.9236, Validation Loss: 0.3994, Val_Acc: 0.8707\n",
      "Epoch 39/300, Train_Loss: 0.2029, Train_Acc: 0.9245, Validation Loss: 0.3719, Val_Acc: 0.8759\n",
      "Epoch 40/300, Train_Loss: 0.1937, Train_Acc: 0.9279, Validation Loss: 0.3752, Val_Acc: 0.8798\n",
      "Epoch 41/300, Train_Loss: 0.1947, Train_Acc: 0.9279, Validation Loss: 0.3955, Val_Acc: 0.8752\n",
      "Epoch 42/300, Train_Loss: 0.1978, Train_Acc: 0.9272, Validation Loss: 0.3693, Val_Acc: 0.8787\n",
      "Epoch 43/300, Train_Loss: 0.1917, Train_Acc: 0.9293, Validation Loss: 0.3893, Val_Acc: 0.8770\n",
      "Epoch 44/300, Train_Loss: 0.1963, Train_Acc: 0.9266, Validation Loss: 0.3780, Val_Acc: 0.8775\n",
      "Epoch 45/300, Train_Loss: 0.1835, Train_Acc: 0.9312, Validation Loss: 0.3932, Val_Acc: 0.8776\n",
      "Epoch 46/300, Train_Loss: 0.1861, Train_Acc: 0.9309, Validation Loss: 0.4138, Val_Acc: 0.8754\n",
      "Epoch 47/300, Train_Loss: 0.1869, Train_Acc: 0.9313, Validation Loss: 0.3891, Val_Acc: 0.8794\n",
      "Epoch 48/300, Train_Loss: 0.1896, Train_Acc: 0.9298, Validation Loss: 0.4064, Val_Acc: 0.8707\n",
      "Epoch 49/300, Train_Loss: 0.1807, Train_Acc: 0.9332, Validation Loss: 0.3769, Val_Acc: 0.8764\n",
      "Epoch 50/300, Train_Loss: 0.1784, Train_Acc: 0.9340, Validation Loss: 0.4061, Val_Acc: 0.8686\n",
      "Epoch 51/300, Train_Loss: 0.1814, Train_Acc: 0.9328, Validation Loss: 0.4017, Val_Acc: 0.8760\n",
      "Epoch 52/300, Train_Loss: 0.1848, Train_Acc: 0.9321, Validation Loss: 0.3953, Val_Acc: 0.8767\n",
      "Epoch 53/300, Train_Loss: 0.1836, Train_Acc: 0.9331, Validation Loss: 0.4176, Val_Acc: 0.8738\n",
      "Epoch 54/300, Train_Loss: 0.1751, Train_Acc: 0.9358, Validation Loss: 0.3863, Val_Acc: 0.8783\n",
      "Epoch 55/300, Train_Loss: 0.1833, Train_Acc: 0.9325, Validation Loss: 0.4015, Val_Acc: 0.8759\n",
      "Epoch 56/300, Train_Loss: 0.1752, Train_Acc: 0.9352, Validation Loss: 0.4082, Val_Acc: 0.8753\n",
      "Epoch 57/300, Train_Loss: 0.1724, Train_Acc: 0.9366, Validation Loss: 0.3997, Val_Acc: 0.8763\n",
      "Epoch 58/300, Train_Loss: 0.1728, Train_Acc: 0.9359, Validation Loss: 0.3888, Val_Acc: 0.8770\n",
      "Epoch 59/300, Train_Loss: 0.1684, Train_Acc: 0.9371, Validation Loss: 0.3961, Val_Acc: 0.8783\n",
      "Epoch 60/300, Train_Loss: 0.1606, Train_Acc: 0.9409, Validation Loss: 0.4171, Val_Acc: 0.8764\n",
      "Epoch 61/300, Train_Loss: 0.1701, Train_Acc: 0.9372, Validation Loss: 0.4318, Val_Acc: 0.8748\n",
      "Epoch 62/300, Train_Loss: 0.1680, Train_Acc: 0.9370, Validation Loss: 0.4043, Val_Acc: 0.8762\n",
      "Epoch 63/300, Train_Loss: 0.1642, Train_Acc: 0.9392, Validation Loss: 0.4179, Val_Acc: 0.8784\n",
      "Epoch 64/300, Train_Loss: 0.1590, Train_Acc: 0.9407, Validation Loss: 0.4148, Val_Acc: 0.8763\n",
      "Epoch 65/300, Train_Loss: 0.1617, Train_Acc: 0.9394, Validation Loss: 0.4130, Val_Acc: 0.8746\n",
      "Epoch 66/300, Train_Loss: 0.1643, Train_Acc: 0.9391, Validation Loss: 0.4366, Val_Acc: 0.8744\n",
      "Epoch 67/300, Train_Loss: 0.1604, Train_Acc: 0.9405, Validation Loss: 0.4345, Val_Acc: 0.8819\n",
      "Epoch 68/300, Train_Loss: 0.1502, Train_Acc: 0.9431, Validation Loss: 0.4620, Val_Acc: 0.8739\n",
      "Epoch 69/300, Train_Loss: 0.1555, Train_Acc: 0.9420, Validation Loss: 0.4127, Val_Acc: 0.8742\n",
      "Epoch 70/300, Train_Loss: 0.1528, Train_Acc: 0.9433, Validation Loss: 0.4595, Val_Acc: 0.8718\n",
      "Epoch 71/300, Train_Loss: 0.1493, Train_Acc: 0.9446, Validation Loss: 0.4211, Val_Acc: 0.8796\n",
      "Epoch 72/300, Train_Loss: 0.1513, Train_Acc: 0.9441, Validation Loss: 0.4446, Val_Acc: 0.8742\n",
      "Epoch 73/300, Train_Loss: 0.1495, Train_Acc: 0.9445, Validation Loss: 0.4211, Val_Acc: 0.8797\n",
      "Epoch 74/300, Train_Loss: 0.1533, Train_Acc: 0.9427, Validation Loss: 0.4494, Val_Acc: 0.8729\n",
      "Epoch 75/300, Train_Loss: 0.1424, Train_Acc: 0.9476, Validation Loss: 0.4235, Val_Acc: 0.8792\n",
      "Epoch 76/300, Train_Loss: 0.1436, Train_Acc: 0.9468, Validation Loss: 0.4489, Val_Acc: 0.8794\n",
      "Epoch 77/300, Train_Loss: 0.1481, Train_Acc: 0.9454, Validation Loss: 0.4316, Val_Acc: 0.8749\n",
      "Epoch 78/300, Train_Loss: 0.1494, Train_Acc: 0.9447, Validation Loss: 0.4349, Val_Acc: 0.8754\n",
      "Epoch 79/300, Train_Loss: 0.1397, Train_Acc: 0.9483, Validation Loss: 0.4400, Val_Acc: 0.8776\n",
      "Epoch 80/300, Train_Loss: 0.1401, Train_Acc: 0.9482, Validation Loss: 0.4544, Val_Acc: 0.8764\n",
      "Epoch 81/300, Train_Loss: 0.1368, Train_Acc: 0.9487, Validation Loss: 0.4680, Val_Acc: 0.8772\n",
      "Epoch 82/300, Train_Loss: 0.1432, Train_Acc: 0.9460, Validation Loss: 0.4667, Val_Acc: 0.8744\n",
      "Epoch 83/300, Train_Loss: 0.1479, Train_Acc: 0.9456, Validation Loss: 0.4348, Val_Acc: 0.8808\n",
      "Epoch 84/300, Train_Loss: 0.1393, Train_Acc: 0.9482, Validation Loss: 0.4614, Val_Acc: 0.8811\n",
      "Epoch 85/300, Train_Loss: 0.1395, Train_Acc: 0.9477, Validation Loss: 0.4503, Val_Acc: 0.8760\n",
      "Epoch 86/300, Train_Loss: 0.1383, Train_Acc: 0.9482, Validation Loss: 0.4567, Val_Acc: 0.8737\n",
      "Epoch 87/300, Train_Loss: 0.1434, Train_Acc: 0.9472, Validation Loss: 0.4801, Val_Acc: 0.8704\n",
      "Epoch 88/300, Train_Loss: 0.1351, Train_Acc: 0.9506, Validation Loss: 0.4574, Val_Acc: 0.8780\n",
      "Epoch 89/300, Train_Loss: 0.1350, Train_Acc: 0.9511, Validation Loss: 0.4595, Val_Acc: 0.8791\n",
      "Epoch 90/300, Train_Loss: 0.1344, Train_Acc: 0.9508, Validation Loss: 0.4789, Val_Acc: 0.8738\n",
      "Epoch 91/300, Train_Loss: 0.1352, Train_Acc: 0.9497, Validation Loss: 0.4776, Val_Acc: 0.8698\n",
      "Epoch 92/300, Train_Loss: 0.1317, Train_Acc: 0.9519, Validation Loss: 0.4468, Val_Acc: 0.8796\n",
      "Epoch 93/300, Train_Loss: 0.1364, Train_Acc: 0.9505, Validation Loss: 0.4676, Val_Acc: 0.8787\n",
      "Epoch 94/300, Train_Loss: 0.1346, Train_Acc: 0.9495, Validation Loss: 0.4904, Val_Acc: 0.8776\n",
      "Epoch 95/300, Train_Loss: 0.1295, Train_Acc: 0.9519, Validation Loss: 0.4583, Val_Acc: 0.8760\n",
      "Epoch 96/300, Train_Loss: 0.1246, Train_Acc: 0.9537, Validation Loss: 0.4643, Val_Acc: 0.8789\n",
      "Epoch 97/300, Train_Loss: 0.1324, Train_Acc: 0.9512, Validation Loss: 0.4634, Val_Acc: 0.8733\n",
      "Epoch 98/300, Train_Loss: 0.1272, Train_Acc: 0.9525, Validation Loss: 0.4813, Val_Acc: 0.8814\n",
      "Epoch 99/300, Train_Loss: 0.1240, Train_Acc: 0.9543, Validation Loss: 0.4814, Val_Acc: 0.8762\n",
      "Epoch 100/300, Train_Loss: 0.1310, Train_Acc: 0.9508, Validation Loss: 0.4898, Val_Acc: 0.8736\n",
      "Epoch 101/300, Train_Loss: 0.1262, Train_Acc: 0.9528, Validation Loss: 0.4423, Val_Acc: 0.8777\n",
      "Epoch 102/300, Train_Loss: 0.1258, Train_Acc: 0.9525, Validation Loss: 0.4753, Val_Acc: 0.8773\n",
      "Epoch 103/300, Train_Loss: 0.1309, Train_Acc: 0.9521, Validation Loss: 0.4718, Val_Acc: 0.8765\n",
      "Epoch 104/300, Train_Loss: 0.1265, Train_Acc: 0.9533, Validation Loss: 0.5125, Val_Acc: 0.8785\n",
      "Epoch 105/300, Train_Loss: 0.1254, Train_Acc: 0.9538, Validation Loss: 0.4754, Val_Acc: 0.8752\n",
      "Epoch 106/300, Train_Loss: 0.1301, Train_Acc: 0.9525, Validation Loss: 0.4453, Val_Acc: 0.8738\n",
      "Epoch 107/300, Train_Loss: 0.1236, Train_Acc: 0.9547, Validation Loss: 0.4558, Val_Acc: 0.8772\n",
      "Epoch 108/300, Train_Loss: 0.1227, Train_Acc: 0.9549, Validation Loss: 0.4948, Val_Acc: 0.8740\n",
      "Epoch 109/300, Train_Loss: 0.1220, Train_Acc: 0.9556, Validation Loss: 0.4745, Val_Acc: 0.8776\n",
      "Epoch 110/300, Train_Loss: 0.1191, Train_Acc: 0.9571, Validation Loss: 0.4694, Val_Acc: 0.8741\n",
      "Epoch 111/300, Train_Loss: 0.1171, Train_Acc: 0.9577, Validation Loss: 0.5329, Val_Acc: 0.8739\n",
      "Epoch 112/300, Train_Loss: 0.1237, Train_Acc: 0.9544, Validation Loss: 0.4855, Val_Acc: 0.8762\n",
      "Epoch 113/300, Train_Loss: 0.1183, Train_Acc: 0.9565, Validation Loss: 0.4982, Val_Acc: 0.8771\n",
      "Epoch 114/300, Train_Loss: 0.1103, Train_Acc: 0.9597, Validation Loss: 0.5276, Val_Acc: 0.8746\n",
      "Epoch 115/300, Train_Loss: 0.1304, Train_Acc: 0.9526, Validation Loss: 0.4945, Val_Acc: 0.8766\n",
      "Epoch 116/300, Train_Loss: 0.1139, Train_Acc: 0.9586, Validation Loss: 0.5171, Val_Acc: 0.8764\n",
      "Epoch 117/300, Train_Loss: 0.1158, Train_Acc: 0.9573, Validation Loss: 0.5109, Val_Acc: 0.8817\n",
      "Epoch 118/300, Train_Loss: 0.1122, Train_Acc: 0.9588, Validation Loss: 0.5395, Val_Acc: 0.8736\n",
      "Epoch 119/300, Train_Loss: 0.1263, Train_Acc: 0.9549, Validation Loss: 0.4994, Val_Acc: 0.8761\n",
      "Epoch 120/300, Train_Loss: 0.1214, Train_Acc: 0.9554, Validation Loss: 0.4583, Val_Acc: 0.8771\n",
      "Epoch 121/300, Train_Loss: 0.1168, Train_Acc: 0.9566, Validation Loss: 0.5004, Val_Acc: 0.8739\n",
      "Epoch 122/300, Train_Loss: 0.1211, Train_Acc: 0.9559, Validation Loss: 0.4765, Val_Acc: 0.8785\n",
      "Epoch 123/300, Train_Loss: 0.1082, Train_Acc: 0.9609, Validation Loss: 0.5062, Val_Acc: 0.8728\n",
      "Epoch 124/300, Train_Loss: 0.1159, Train_Acc: 0.9567, Validation Loss: 0.5272, Val_Acc: 0.8758\n",
      "Epoch 125/300, Train_Loss: 0.1064, Train_Acc: 0.9614, Validation Loss: 0.4973, Val_Acc: 0.8761\n",
      "Epoch 126/300, Train_Loss: 0.1116, Train_Acc: 0.9597, Validation Loss: 0.5118, Val_Acc: 0.8729\n",
      "Epoch 127/300, Train_Loss: 0.1079, Train_Acc: 0.9604, Validation Loss: 0.5204, Val_Acc: 0.8749\n",
      "Epoch 128/300, Train_Loss: 0.1137, Train_Acc: 0.9587, Validation Loss: 0.5100, Val_Acc: 0.8716\n",
      "Epoch 129/300, Train_Loss: 0.1115, Train_Acc: 0.9591, Validation Loss: 0.5372, Val_Acc: 0.8736\n",
      "Epoch 130/300, Train_Loss: 0.1131, Train_Acc: 0.9592, Validation Loss: 0.4969, Val_Acc: 0.8767\n",
      "Epoch 131/300, Train_Loss: 0.1125, Train_Acc: 0.9591, Validation Loss: 0.5104, Val_Acc: 0.8791\n",
      "Epoch 132/300, Train_Loss: 0.0983, Train_Acc: 0.9645, Validation Loss: 0.5329, Val_Acc: 0.8775\n",
      "Epoch 133/300, Train_Loss: 0.1212, Train_Acc: 0.9553, Validation Loss: 0.5003, Val_Acc: 0.8750\n",
      "Epoch 134/300, Train_Loss: 0.1134, Train_Acc: 0.9580, Validation Loss: 0.4739, Val_Acc: 0.8756\n",
      "Epoch 135/300, Train_Loss: 0.1041, Train_Acc: 0.9619, Validation Loss: 0.5277, Val_Acc: 0.8790\n",
      "Epoch 136/300, Train_Loss: 0.1038, Train_Acc: 0.9621, Validation Loss: 0.4816, Val_Acc: 0.8733\n",
      "Epoch 137/300, Train_Loss: 0.1096, Train_Acc: 0.9594, Validation Loss: 0.5575, Val_Acc: 0.8727\n",
      "Epoch 138/300, Train_Loss: 0.1022, Train_Acc: 0.9623, Validation Loss: 0.5512, Val_Acc: 0.8773\n",
      "Epoch 139/300, Train_Loss: 0.1055, Train_Acc: 0.9620, Validation Loss: 0.5518, Val_Acc: 0.8709\n",
      "Epoch 140/300, Train_Loss: 0.1142, Train_Acc: 0.9583, Validation Loss: 0.4963, Val_Acc: 0.8776\n",
      "Epoch 141/300, Train_Loss: 0.1070, Train_Acc: 0.9612, Validation Loss: 0.5474, Val_Acc: 0.8815\n",
      "Epoch 142/300, Train_Loss: 0.1089, Train_Acc: 0.9597, Validation Loss: 0.5008, Val_Acc: 0.8719\n",
      "Epoch 143/300, Train_Loss: 0.1094, Train_Acc: 0.9594, Validation Loss: 0.5430, Val_Acc: 0.8754\n",
      "Epoch 144/300, Train_Loss: 0.1101, Train_Acc: 0.9588, Validation Loss: 0.5397, Val_Acc: 0.8751\n",
      "Epoch 145/300, Train_Loss: 0.1058, Train_Acc: 0.9610, Validation Loss: 0.4967, Val_Acc: 0.8753\n",
      "Epoch 146/300, Train_Loss: 0.1066, Train_Acc: 0.9609, Validation Loss: 0.5373, Val_Acc: 0.8794\n",
      "Epoch 147/300, Train_Loss: 0.1044, Train_Acc: 0.9624, Validation Loss: 0.5465, Val_Acc: 0.8738\n",
      "Epoch 148/300, Train_Loss: 0.1010, Train_Acc: 0.9636, Validation Loss: 0.5480, Val_Acc: 0.8746\n",
      "Epoch 149/300, Train_Loss: 0.1109, Train_Acc: 0.9597, Validation Loss: 0.5209, Val_Acc: 0.8726\n",
      "Epoch 150/300, Train_Loss: 0.1010, Train_Acc: 0.9637, Validation Loss: 0.5686, Val_Acc: 0.8742\n",
      "Epoch 151/300, Train_Loss: 0.0926, Train_Acc: 0.9663, Validation Loss: 0.5511, Val_Acc: 0.8822\n",
      "Epoch 152/300, Train_Loss: 0.1025, Train_Acc: 0.9625, Validation Loss: 0.5259, Val_Acc: 0.8757\n",
      "Epoch 153/300, Train_Loss: 0.1118, Train_Acc: 0.9588, Validation Loss: 0.5576, Val_Acc: 0.8762\n",
      "Epoch 154/300, Train_Loss: 0.1057, Train_Acc: 0.9612, Validation Loss: 0.5198, Val_Acc: 0.8753\n",
      "Epoch 155/300, Train_Loss: 0.1036, Train_Acc: 0.9622, Validation Loss: 0.5169, Val_Acc: 0.8728\n",
      "Epoch 156/300, Train_Loss: 0.0939, Train_Acc: 0.9663, Validation Loss: 0.5436, Val_Acc: 0.8707\n",
      "Epoch 157/300, Train_Loss: 0.1048, Train_Acc: 0.9619, Validation Loss: 0.5274, Val_Acc: 0.8777\n",
      "Epoch 158/300, Train_Loss: 0.0900, Train_Acc: 0.9670, Validation Loss: 0.5540, Val_Acc: 0.8777\n",
      "Epoch 159/300, Train_Loss: 0.0955, Train_Acc: 0.9656, Validation Loss: 0.5416, Val_Acc: 0.8748\n",
      "Epoch 160/300, Train_Loss: 0.0959, Train_Acc: 0.9650, Validation Loss: 0.5403, Val_Acc: 0.8677\n",
      "Epoch 161/300, Train_Loss: 0.1009, Train_Acc: 0.9633, Validation Loss: 0.5519, Val_Acc: 0.8738\n",
      "Epoch 162/300, Train_Loss: 0.1022, Train_Acc: 0.9621, Validation Loss: 0.5501, Val_Acc: 0.8698\n",
      "Epoch 163/300, Train_Loss: 0.0991, Train_Acc: 0.9637, Validation Loss: 0.5750, Val_Acc: 0.8791\n",
      "Epoch 164/300, Train_Loss: 0.1040, Train_Acc: 0.9617, Validation Loss: 0.5368, Val_Acc: 0.8806\n",
      "Epoch 165/300, Train_Loss: 0.1021, Train_Acc: 0.9635, Validation Loss: 0.5538, Val_Acc: 0.8739\n",
      "Epoch 166/300, Train_Loss: 0.0975, Train_Acc: 0.9652, Validation Loss: 0.5312, Val_Acc: 0.8704\n",
      "Epoch 167/300, Train_Loss: 0.0943, Train_Acc: 0.9655, Validation Loss: 0.5556, Val_Acc: 0.8772\n",
      "Epoch 168/300, Train_Loss: 0.0875, Train_Acc: 0.9680, Validation Loss: 0.5428, Val_Acc: 0.8789\n",
      "Epoch 169/300, Train_Loss: 0.0840, Train_Acc: 0.9694, Validation Loss: 0.5850, Val_Acc: 0.8753\n",
      "Epoch 170/300, Train_Loss: 0.0987, Train_Acc: 0.9644, Validation Loss: 0.5385, Val_Acc: 0.8724\n",
      "Epoch 171/300, Train_Loss: 0.0908, Train_Acc: 0.9665, Validation Loss: 0.5652, Val_Acc: 0.8756\n",
      "Epoch 172/300, Train_Loss: 0.1132, Train_Acc: 0.9575, Validation Loss: 0.5199, Val_Acc: 0.8761\n",
      "Epoch 173/300, Train_Loss: 0.0999, Train_Acc: 0.9633, Validation Loss: 0.5609, Val_Acc: 0.8760\n",
      "Epoch 174/300, Train_Loss: 0.0979, Train_Acc: 0.9636, Validation Loss: 0.5583, Val_Acc: 0.8777\n",
      "Epoch 175/300, Train_Loss: 0.1071, Train_Acc: 0.9617, Validation Loss: 0.5767, Val_Acc: 0.8749\n",
      "Epoch 176/300, Train_Loss: 0.0955, Train_Acc: 0.9657, Validation Loss: 0.5777, Val_Acc: 0.8727\n",
      "Epoch 177/300, Train_Loss: 0.0993, Train_Acc: 0.9644, Validation Loss: 0.5493, Val_Acc: 0.8727\n",
      "Epoch 178/300, Train_Loss: 0.0985, Train_Acc: 0.9629, Validation Loss: 0.5655, Val_Acc: 0.8732\n",
      "Epoch 179/300, Train_Loss: 0.0967, Train_Acc: 0.9653, Validation Loss: 0.5541, Val_Acc: 0.8759\n",
      "Epoch 180/300, Train_Loss: 0.1046, Train_Acc: 0.9613, Validation Loss: 0.5308, Val_Acc: 0.8732\n",
      "Epoch 181/300, Train_Loss: 0.1035, Train_Acc: 0.9616, Validation Loss: 0.5626, Val_Acc: 0.8766\n",
      "Epoch 182/300, Train_Loss: 0.1027, Train_Acc: 0.9632, Validation Loss: 0.5506, Val_Acc: 0.8747\n",
      "Epoch 183/300, Train_Loss: 0.1052, Train_Acc: 0.9616, Validation Loss: 0.5833, Val_Acc: 0.8780\n",
      "Epoch 184/300, Train_Loss: 0.0898, Train_Acc: 0.9670, Validation Loss: 0.5680, Val_Acc: 0.8743\n",
      "Epoch 185/300, Train_Loss: 0.1078, Train_Acc: 0.9601, Validation Loss: 0.5554, Val_Acc: 0.8777\n",
      "Epoch 186/300, Train_Loss: 0.0947, Train_Acc: 0.9655, Validation Loss: 0.5260, Val_Acc: 0.8702\n",
      "Epoch 187/300, Train_Loss: 0.0980, Train_Acc: 0.9641, Validation Loss: 0.5785, Val_Acc: 0.8770\n",
      "Epoch 188/300, Train_Loss: 0.0962, Train_Acc: 0.9646, Validation Loss: 0.5580, Val_Acc: 0.8750\n",
      "Epoch 189/300, Train_Loss: 0.0819, Train_Acc: 0.9695, Validation Loss: 0.5974, Val_Acc: 0.8754\n",
      "Epoch 190/300, Train_Loss: 0.0878, Train_Acc: 0.9677, Validation Loss: 0.5684, Val_Acc: 0.8735\n",
      "Epoch 191/300, Train_Loss: 0.0818, Train_Acc: 0.9698, Validation Loss: 0.5971, Val_Acc: 0.8730\n",
      "Epoch 192/300, Train_Loss: 0.0880, Train_Acc: 0.9676, Validation Loss: 0.5731, Val_Acc: 0.8707\n",
      "Epoch 193/300, Train_Loss: 0.1007, Train_Acc: 0.9633, Validation Loss: 0.5699, Val_Acc: 0.8665\n",
      "Epoch 194/300, Train_Loss: 0.0874, Train_Acc: 0.9685, Validation Loss: 0.5581, Val_Acc: 0.8723\n",
      "Epoch 195/300, Train_Loss: 0.0867, Train_Acc: 0.9676, Validation Loss: 0.5833, Val_Acc: 0.8731\n",
      "Epoch 196/300, Train_Loss: 0.0908, Train_Acc: 0.9672, Validation Loss: 0.5629, Val_Acc: 0.8761\n",
      "Epoch 197/300, Train_Loss: 0.0967, Train_Acc: 0.9647, Validation Loss: 0.5423, Val_Acc: 0.8756\n",
      "Epoch 198/300, Train_Loss: 0.0969, Train_Acc: 0.9649, Validation Loss: 0.5621, Val_Acc: 0.8768\n",
      "Epoch 199/300, Train_Loss: 0.0816, Train_Acc: 0.9702, Validation Loss: 0.5775, Val_Acc: 0.8767\n",
      "Epoch 200/300, Train_Loss: 0.0905, Train_Acc: 0.9675, Validation Loss: 0.5420, Val_Acc: 0.8761\n",
      "Epoch 201/300, Train_Loss: 0.0874, Train_Acc: 0.9676, Validation Loss: 0.6194, Val_Acc: 0.8740\n",
      "Epoch 202/300, Train_Loss: 0.0988, Train_Acc: 0.9649, Validation Loss: 0.5699, Val_Acc: 0.8714\n",
      "Epoch 203/300, Train_Loss: 0.0862, Train_Acc: 0.9689, Validation Loss: 0.5865, Val_Acc: 0.8772\n",
      "Epoch 204/300, Train_Loss: 0.0887, Train_Acc: 0.9674, Validation Loss: 0.5485, Val_Acc: 0.8725\n",
      "Epoch 205/300, Train_Loss: 0.0832, Train_Acc: 0.9704, Validation Loss: 0.5982, Val_Acc: 0.8742\n",
      "Epoch 206/300, Train_Loss: 0.0875, Train_Acc: 0.9678, Validation Loss: 0.6060, Val_Acc: 0.8738\n",
      "Epoch 207/300, Train_Loss: 0.0890, Train_Acc: 0.9680, Validation Loss: 0.5599, Val_Acc: 0.8741\n",
      "Epoch 208/300, Train_Loss: 0.0862, Train_Acc: 0.9689, Validation Loss: 0.6166, Val_Acc: 0.8755\n",
      "Epoch 209/300, Train_Loss: 0.0871, Train_Acc: 0.9689, Validation Loss: 0.5823, Val_Acc: 0.8755\n",
      "Epoch 210/300, Train_Loss: 0.0991, Train_Acc: 0.9649, Validation Loss: 0.5224, Val_Acc: 0.8730\n",
      "Epoch 211/300, Train_Loss: 0.0888, Train_Acc: 0.9681, Validation Loss: 0.5710, Val_Acc: 0.8759\n",
      "Epoch 212/300, Train_Loss: 0.0886, Train_Acc: 0.9676, Validation Loss: 0.5575, Val_Acc: 0.8764\n",
      "Epoch 213/300, Train_Loss: 0.0773, Train_Acc: 0.9722, Validation Loss: 0.6377, Val_Acc: 0.8719\n",
      "Epoch 214/300, Train_Loss: 0.0814, Train_Acc: 0.9711, Validation Loss: 0.5722, Val_Acc: 0.8791\n",
      "Epoch 215/300, Train_Loss: 0.0980, Train_Acc: 0.9648, Validation Loss: 0.5523, Val_Acc: 0.8750\n",
      "Epoch 216/300, Train_Loss: 0.0894, Train_Acc: 0.9677, Validation Loss: 0.5759, Val_Acc: 0.8724\n",
      "Epoch 217/300, Train_Loss: 0.0842, Train_Acc: 0.9697, Validation Loss: 0.5658, Val_Acc: 0.8744\n",
      "Epoch 218/300, Train_Loss: 0.0843, Train_Acc: 0.9695, Validation Loss: 0.5690, Val_Acc: 0.8706\n",
      "Epoch 219/300, Train_Loss: 0.0854, Train_Acc: 0.9687, Validation Loss: 0.5936, Val_Acc: 0.8762\n",
      "Epoch 220/300, Train_Loss: 0.0902, Train_Acc: 0.9673, Validation Loss: 0.5399, Val_Acc: 0.8742\n",
      "Epoch 221/300, Train_Loss: 0.0843, Train_Acc: 0.9692, Validation Loss: 0.5653, Val_Acc: 0.8749\n",
      "Epoch 222/300, Train_Loss: 0.0909, Train_Acc: 0.9675, Validation Loss: 0.5633, Val_Acc: 0.8772\n",
      "Epoch 223/300, Train_Loss: 0.0804, Train_Acc: 0.9706, Validation Loss: 0.6266, Val_Acc: 0.8715\n",
      "Epoch 224/300, Train_Loss: 0.0972, Train_Acc: 0.9645, Validation Loss: 0.5600, Val_Acc: 0.8779\n",
      "Epoch 225/300, Train_Loss: 0.0854, Train_Acc: 0.9691, Validation Loss: 0.5713, Val_Acc: 0.8773\n",
      "Epoch 226/300, Train_Loss: 0.0771, Train_Acc: 0.9717, Validation Loss: 0.6391, Val_Acc: 0.8740\n",
      "Epoch 227/300, Train_Loss: 0.0787, Train_Acc: 0.9720, Validation Loss: 0.6472, Val_Acc: 0.8725\n",
      "Epoch 228/300, Train_Loss: 0.0885, Train_Acc: 0.9682, Validation Loss: 0.5774, Val_Acc: 0.8750\n",
      "Epoch 229/300, Train_Loss: 0.0861, Train_Acc: 0.9689, Validation Loss: 0.5588, Val_Acc: 0.8717\n",
      "Epoch 230/300, Train_Loss: 0.0815, Train_Acc: 0.9691, Validation Loss: 0.5863, Val_Acc: 0.8776\n",
      "Epoch 231/300, Train_Loss: 0.0920, Train_Acc: 0.9674, Validation Loss: 0.5784, Val_Acc: 0.8704\n",
      "Epoch 232/300, Train_Loss: 0.0839, Train_Acc: 0.9705, Validation Loss: 0.5876, Val_Acc: 0.8728\n",
      "Epoch 233/300, Train_Loss: 0.0774, Train_Acc: 0.9721, Validation Loss: 0.6286, Val_Acc: 0.8690\n",
      "Epoch 234/300, Train_Loss: 0.0872, Train_Acc: 0.9681, Validation Loss: 0.6127, Val_Acc: 0.8706\n",
      "Epoch 235/300, Train_Loss: 0.0954, Train_Acc: 0.9665, Validation Loss: 0.5951, Val_Acc: 0.8756\n",
      "Epoch 236/300, Train_Loss: 0.0891, Train_Acc: 0.9682, Validation Loss: 0.6132, Val_Acc: 0.8747\n",
      "Epoch 237/300, Train_Loss: 0.0789, Train_Acc: 0.9717, Validation Loss: 0.6084, Val_Acc: 0.8761\n",
      "Epoch 238/300, Train_Loss: 0.0946, Train_Acc: 0.9660, Validation Loss: 0.5419, Val_Acc: 0.8729\n",
      "Epoch 239/300, Train_Loss: 0.0837, Train_Acc: 0.9697, Validation Loss: 0.5901, Val_Acc: 0.8762\n",
      "Epoch 240/300, Train_Loss: 0.0756, Train_Acc: 0.9716, Validation Loss: 0.6444, Val_Acc: 0.8710\n",
      "Epoch 241/300, Train_Loss: 0.0791, Train_Acc: 0.9718, Validation Loss: 0.6007, Val_Acc: 0.8812\n",
      "Epoch 242/300, Train_Loss: 0.0753, Train_Acc: 0.9729, Validation Loss: 0.6131, Val_Acc: 0.8757\n",
      "Epoch 243/300, Train_Loss: 0.0870, Train_Acc: 0.9687, Validation Loss: 0.5756, Val_Acc: 0.8774\n",
      "Epoch 244/300, Train_Loss: 0.0771, Train_Acc: 0.9721, Validation Loss: 0.6049, Val_Acc: 0.8757\n",
      "Epoch 245/300, Train_Loss: 0.0860, Train_Acc: 0.9678, Validation Loss: 0.5560, Val_Acc: 0.8762\n",
      "Epoch 246/300, Train_Loss: 0.1006, Train_Acc: 0.9641, Validation Loss: 0.6010, Val_Acc: 0.8729\n",
      "Epoch 247/300, Train_Loss: 0.0968, Train_Acc: 0.9653, Validation Loss: 0.5389, Val_Acc: 0.8765\n",
      "Epoch 248/300, Train_Loss: 0.0975, Train_Acc: 0.9649, Validation Loss: 0.6110, Val_Acc: 0.8735\n",
      "Epoch 249/300, Train_Loss: 0.0800, Train_Acc: 0.9710, Validation Loss: 0.5945, Val_Acc: 0.8704\n",
      "Epoch 250/300, Train_Loss: 0.0812, Train_Acc: 0.9706, Validation Loss: 0.6393, Val_Acc: 0.8751\n",
      "Epoch 251/300, Train_Loss: 0.0864, Train_Acc: 0.9692, Validation Loss: 0.6100, Val_Acc: 0.8735\n",
      "Epoch 252/300, Train_Loss: 0.0806, Train_Acc: 0.9704, Validation Loss: 0.6272, Val_Acc: 0.8787\n",
      "Epoch 253/300, Train_Loss: 0.0768, Train_Acc: 0.9724, Validation Loss: 0.5974, Val_Acc: 0.8752\n",
      "Epoch 254/300, Train_Loss: 0.0923, Train_Acc: 0.9671, Validation Loss: 0.6139, Val_Acc: 0.8714\n",
      "Epoch 255/300, Train_Loss: 0.0797, Train_Acc: 0.9714, Validation Loss: 0.5978, Val_Acc: 0.8769\n",
      "Epoch 256/300, Train_Loss: 0.0707, Train_Acc: 0.9750, Validation Loss: 0.5934, Val_Acc: 0.8741\n",
      "Epoch 257/300, Train_Loss: 0.0793, Train_Acc: 0.9718, Validation Loss: 0.5951, Val_Acc: 0.8739\n",
      "Epoch 258/300, Train_Loss: 0.0701, Train_Acc: 0.9748, Validation Loss: 0.6266, Val_Acc: 0.8776\n",
      "Epoch 259/300, Train_Loss: 0.0771, Train_Acc: 0.9713, Validation Loss: 0.5926, Val_Acc: 0.8765\n",
      "Epoch 260/300, Train_Loss: 0.0842, Train_Acc: 0.9694, Validation Loss: 0.5790, Val_Acc: 0.8696\n",
      "Epoch 261/300, Train_Loss: 0.0747, Train_Acc: 0.9723, Validation Loss: 0.5913, Val_Acc: 0.8770\n",
      "Epoch 262/300, Train_Loss: 0.0723, Train_Acc: 0.9744, Validation Loss: 0.6115, Val_Acc: 0.8743\n",
      "Epoch 263/300, Train_Loss: 0.0864, Train_Acc: 0.9686, Validation Loss: 0.5931, Val_Acc: 0.8779\n",
      "Epoch 264/300, Train_Loss: 0.0789, Train_Acc: 0.9718, Validation Loss: 0.6098, Val_Acc: 0.8757\n",
      "Epoch 265/300, Train_Loss: 0.0835, Train_Acc: 0.9704, Validation Loss: 0.5837, Val_Acc: 0.8778\n",
      "Epoch 266/300, Train_Loss: 0.0662, Train_Acc: 0.9765, Validation Loss: 0.6391, Val_Acc: 0.8763\n",
      "Epoch 267/300, Train_Loss: 0.0685, Train_Acc: 0.9753, Validation Loss: 0.6009, Val_Acc: 0.8747\n",
      "Epoch 268/300, Train_Loss: 0.0720, Train_Acc: 0.9740, Validation Loss: 0.6109, Val_Acc: 0.8749\n",
      "Epoch 269/300, Train_Loss: 0.0733, Train_Acc: 0.9732, Validation Loss: 0.6473, Val_Acc: 0.8712\n",
      "Epoch 270/300, Train_Loss: 0.0828, Train_Acc: 0.9703, Validation Loss: 0.5828, Val_Acc: 0.8701\n",
      "Epoch 271/300, Train_Loss: 0.0843, Train_Acc: 0.9700, Validation Loss: 0.5734, Val_Acc: 0.8768\n",
      "Epoch 272/300, Train_Loss: 0.0724, Train_Acc: 0.9735, Validation Loss: 0.6312, Val_Acc: 0.8800\n",
      "Epoch 273/300, Train_Loss: 0.0705, Train_Acc: 0.9744, Validation Loss: 0.6397, Val_Acc: 0.8762\n",
      "Epoch 274/300, Train_Loss: 0.0807, Train_Acc: 0.9714, Validation Loss: 0.5605, Val_Acc: 0.8717\n",
      "Epoch 275/300, Train_Loss: 0.0670, Train_Acc: 0.9760, Validation Loss: 0.6090, Val_Acc: 0.8791\n",
      "Epoch 276/300, Train_Loss: 0.0729, Train_Acc: 0.9740, Validation Loss: 0.6185, Val_Acc: 0.8727\n",
      "Epoch 277/300, Train_Loss: 0.0740, Train_Acc: 0.9738, Validation Loss: 0.5827, Val_Acc: 0.8803\n",
      "Epoch 278/300, Train_Loss: 0.0713, Train_Acc: 0.9748, Validation Loss: 0.5938, Val_Acc: 0.8745\n",
      "Epoch 279/300, Train_Loss: 0.0743, Train_Acc: 0.9731, Validation Loss: 0.6014, Val_Acc: 0.8811\n",
      "Epoch 280/300, Train_Loss: 0.0845, Train_Acc: 0.9697, Validation Loss: 0.5957, Val_Acc: 0.8762\n",
      "Epoch 281/300, Train_Loss: 0.0785, Train_Acc: 0.9720, Validation Loss: 0.5771, Val_Acc: 0.8765\n",
      "Epoch 282/300, Train_Loss: 0.0812, Train_Acc: 0.9706, Validation Loss: 0.5826, Val_Acc: 0.8778\n",
      "Epoch 283/300, Train_Loss: 0.0700, Train_Acc: 0.9744, Validation Loss: 0.6091, Val_Acc: 0.8753\n",
      "Epoch 284/300, Train_Loss: 0.0721, Train_Acc: 0.9740, Validation Loss: 0.6103, Val_Acc: 0.8745\n",
      "Epoch 285/300, Train_Loss: 0.0875, Train_Acc: 0.9688, Validation Loss: 0.5531, Val_Acc: 0.8794\n",
      "Epoch 286/300, Train_Loss: 0.0835, Train_Acc: 0.9705, Validation Loss: 0.5671, Val_Acc: 0.8729\n",
      "Epoch 287/300, Train_Loss: 0.0862, Train_Acc: 0.9696, Validation Loss: 0.5800, Val_Acc: 0.8745\n",
      "Epoch 288/300, Train_Loss: 0.0752, Train_Acc: 0.9726, Validation Loss: 0.6086, Val_Acc: 0.8762\n",
      "Epoch 289/300, Train_Loss: 0.0814, Train_Acc: 0.9709, Validation Loss: 0.6070, Val_Acc: 0.8795\n",
      "Epoch 290/300, Train_Loss: 0.0783, Train_Acc: 0.9718, Validation Loss: 0.5973, Val_Acc: 0.8777\n",
      "Epoch 291/300, Train_Loss: 0.0734, Train_Acc: 0.9737, Validation Loss: 0.6401, Val_Acc: 0.8739\n",
      "Epoch 292/300, Train_Loss: 0.0775, Train_Acc: 0.9718, Validation Loss: 0.6054, Val_Acc: 0.8773\n",
      "Epoch 293/300, Train_Loss: 0.0709, Train_Acc: 0.9743, Validation Loss: 0.6222, Val_Acc: 0.8732\n",
      "Epoch 294/300, Train_Loss: 0.0861, Train_Acc: 0.9686, Validation Loss: 0.6030, Val_Acc: 0.8725\n",
      "Epoch 295/300, Train_Loss: 0.0729, Train_Acc: 0.9731, Validation Loss: 0.5863, Val_Acc: 0.8722\n",
      "Epoch 296/300, Train_Loss: 0.0600, Train_Acc: 0.9784, Validation Loss: 0.6611, Val_Acc: 0.8773\n",
      "Epoch 297/300, Train_Loss: 0.0799, Train_Acc: 0.9727, Validation Loss: 0.6032, Val_Acc: 0.8712\n",
      "Epoch 298/300, Train_Loss: 0.1086, Train_Acc: 0.9618, Validation Loss: 0.5923, Val_Acc: 0.8748\n",
      "Epoch 299/300, Train_Loss: 0.0672, Train_Acc: 0.9763, Validation Loss: 0.6358, Val_Acc: 0.8753\n",
      "Epoch 300/300, Train_Loss: 0.0712, Train_Acc: 0.9744, Validation Loss: 0.6429, Val_Acc: 0.8724\n"
     ]
    }
   ],
   "source": [
    "train_losses = []\n",
    "train_acc = []\n",
    "val_losses = []\n",
    "val_acc = []\n",
    "for epoch in range(num_epochs):\n",
    "    model.train()\n",
    "    t_loss = 0\n",
    "    t_acc = 0\n",
    "    cnt = 0\n",
    "    for X, y in train_loader:\n",
    "        X, y = X.to(device), y.to(device)\n",
    "        optimizer.zero_grad()\n",
    "        outputs = model(X)\n",
    "        loss = criterion(outputs, y)\n",
    "        loss.backward()\n",
    "        optimizer.step()\n",
    "        t_loss += loss.item()\n",
    "        t_acc += (torch.argmax(outputs, 1) == y).sum().item()\n",
    "        cnt += len(y)\n",
    "    t_loss /= len(train_loader)\n",
    "    train_losses.append(t_loss)\n",
    "    t_acc /= cnt\n",
    "    train_acc.append(t_acc)\n",
    "\n",
    "    model.eval()\n",
    "    v_loss = 0\n",
    "    v_acc = 0\n",
    "    cnt = 0\n",
    "    with torch.no_grad():\n",
    "        for X, y in test_loader:\n",
    "            X, y = X.to(device), y.to(device)\n",
    "            outputs = model(X)\n",
    "            loss = criterion(outputs, y)\n",
    "            v_loss += loss.item()\n",
    "            v_acc += (torch.argmax(outputs, 1)==y).sum().item()\n",
    "            cnt += len(y)\n",
    "    v_loss /= len(test_loader)\n",
    "    val_losses.append(v_loss)\n",
    "    v_acc /= cnt\n",
    "    val_acc.append(v_acc)\n",
    "    print(f\"Epoch {epoch+1}/{num_epochs}, Train_Loss: {t_loss:.4f}, Train_Acc: {t_acc:.4f}, Validation Loss: {v_loss:.4f}, Val_Acc: {v_acc:.4f}\")"
   ]
  },
  {
   "cell_type": "code",
   "execution_count": 8,
   "id": "a88a2cd7-491f-43e3-abf5-1f100e431143",
   "metadata": {
    "colab": {
     "base_uri": "https://localhost:8080/",
     "height": 466
    },
    "executionInfo": {
     "elapsed": 17,
     "status": "ok",
     "timestamp": 1732541635877,
     "user": {
      "displayName": "Tien Nguyen",
      "userId": "12615839768308909769"
     },
     "user_tz": -420
    },
    "id": "a88a2cd7-491f-43e3-abf5-1f100e431143",
    "outputId": "700e860d-1857-42ed-a3eb-9db7879edaa1"
   },
   "outputs": [
    {
     "data": {
      "text/plain": [
       "<matplotlib.legend.Legend at 0x7b848cb3d390>"
      ]
     },
     "execution_count": 8,
     "metadata": {},
     "output_type": "execute_result"
    },
    {
     "data": {
      "image/png": "[encoded data removed]",
      "text/plain": [
       "<Figure size 640x480 with 1 Axes>"
      ]
     },
     "metadata": {},
     "output_type": "display_data"
    }
   ],
   "source": [
    "import matplotlib.pyplot as plt\n",
    "\n",
    "plt.plot(train_losses, label='loss')\n",
    "plt.plot(val_losses, label='val_loss')\n",
    "plt.xlabel('iteration')\n",
    "plt.ylabel('Loss')\n",
    "plt.legend()"
   ]
  },
  {
   "cell_type": "code",
   "execution_count": 9,
   "id": "085ccb0d-69d8-46a3-a1e4-13b8df65f883",
   "metadata": {
    "colab": {
     "base_uri": "https://localhost:8080/",
     "height": 466
    },
    "executionInfo": {
     "elapsed": 882,
     "status": "ok",
     "timestamp": 1732541636753,
     "user": {
      "displayName": "Tien Nguyen",
      "userId": "12615839768308909769"
     },
     "user_tz": -420
    },
    "id": "085ccb0d-69d8-46a3-a1e4-13b8df65f883",
    "outputId": "4799fcc4-d1bf-4d33-d074-47fa3159d410"
   },
   "outputs": [
    {
     "data": {
      "text/plain": [
       "<matplotlib.legend.Legend at 0x7b8442125c90>"
      ]
     },
     "execution_count": 9,
     "metadata": {},
     "output_type": "execute_result"
    },
    {
     "data": {
      "image/png": "[encoded data removed]",
      "text/plain": [
       "<Figure size 640x480 with 1 Axes>"
      ]
     },
     "metadata": {},
     "output_type": "display_data"
    }
   ],
   "source": [
    "import matplotlib.pyplot as plt\n",
    "\n",
    "plt.plot(train_acc, label='train_accuracy')\n",
    "plt.plot(val_acc, label='val_accuracy')\n",
    "plt.xlabel('iteration')\n",
    "plt.ylabel('Accuracy')\n",
    "plt.legend()"
   ]
  }
 ],
 "metadata": {
  "accelerator": "TPU",
  "colab": {
   "gpuType": "V28",
   "provenance": [],
   "toc_visible": true
  },
  "kernelspec": {
   "display_name": "Python 3",
   "name": "python3"
  },
  "language_info": {
   "codemirror_mode": {
    "name": "ipython",
    "version": 3
   },
   "file_extension": ".py",
   "mimetype": "text/x-python",
   "name": "python",
   "nbconvert_exporter": "python",
   "pygments_lexer": "ipython3",
   "version": "3.10.13"
  },
  "toc": {
   "base_numbering": 1,
   "nav_menu": {},
   "number_sections": true,
   "sideBar": true,
   "skip_h1_title": false,
   "title_cell": "Table of Contents",
   "title_sidebar": "Contents",
   "toc_cell": false,
   "toc_position": {},
   "toc_section_display": true,
   "toc_window_display": false
  }
 },
 "nbformat": 4,
 "nbformat_minor": 5
}
