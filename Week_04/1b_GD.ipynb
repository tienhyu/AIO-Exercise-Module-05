{
 "cells": [
  {
   "cell_type": "markdown",
   "metadata": {
    "id": "PDZxOtCZt5VU"
   },
   "source": [
    "## Problem"
   ]
  },
  {
   "cell_type": "markdown",
   "metadata": {
    "id": "Z7esFCIXuNXS"
   },
   "source": [
    "$$f(w_1, w_2) = 0.1w_1^2 + 2w_2^2 \\;\\;\\;\\;\\;\\;\\;(1)$$"
   ]
  },
  {
   "cell_type": "code",
   "execution_count": 1,
   "metadata": {
    "id": "_IAVg99F9N0y"
   },
   "outputs": [],
   "source": [
    "import numpy as np"
   ]
  },
  {
   "cell_type": "markdown",
   "metadata": {
    "id": "oRzDf03x2JqM"
   },
   "source": [
    "### GD"
   ]
  },
  {
   "cell_type": "code",
   "execution_count": 2,
   "metadata": {
    "id": "uai1hzbWuNaK"
   },
   "outputs": [],
   "source": [
    "def df_w(W):\n",
    "    w1, w2 = W\n",
    "    dw1 = 0.2 * w1\n",
    "    dw2 = 4 * w2\n",
    "    dW = np.array([dw1, dw2])\n",
    "\n",
    "    return dW"
   ]
  },
  {
   "cell_type": "code",
   "execution_count": 3,
   "metadata": {
    "id": "634hfieBwwza"
   },
   "outputs": [],
   "source": [
    "def sgd(W, dW, lr):\n",
    "    W = W - lr * dW\n",
    "    return W"
   ]
  },
  {
   "cell_type": "code",
   "execution_count": 4,
   "metadata": {
    "id": "jugR0jsA2-uC"
   },
   "outputs": [],
   "source": [
    "def train_p1(optimizer, lr, epochs):\n",
    "    # initial point\n",
    "    W = np.array([-5, -2], dtype=np.float32)\n",
    "    # list of results\n",
    "    results = [W]\n",
    "    \n",
    "\n",
    "    for epoch in range(epochs-1):\n",
    "\n",
    "        # Find gradient dW consisting of dw1 and dw2\n",
    "        dW = df_w(W)\n",
    "\n",
    "        # Use optimization algorithm to update w1 and w2\n",
    "        W = optimizer(W, dW, lr)\n",
    "\n",
    "        # Append the pair [w1, w2] to the results list\n",
    "        results.append(W)\n",
    "\n",
    "    return results"
   ]
  },
  {
   "cell_type": "code",
   "execution_count": 5,
   "metadata": {
    "id": "ZAAcmcEl8bQj"
   },
   "outputs": [
    {
     "data": {
      "text/plain": [
       "[array([-5., -2.], dtype=float32),\n",
       " array([-4.6,  1.2]),\n",
       " array([-4.232, -0.72 ]),\n",
       " array([-3.89344,  0.432  ]),\n",
       " array([-3.5819648, -0.2592   ]),\n",
       " array([-3.29540762,  0.15552   ]),\n",
       " array([-3.03177501, -0.093312  ]),\n",
       " array([-2.78923301,  0.0559872 ]),\n",
       " array([-2.56609437, -0.03359232]),\n",
       " array([-2.36080682,  0.02015539]),\n",
       " array([-2.17194227, -0.01209324]),\n",
       " array([-1.99818689,  0.00725594]),\n",
       " array([-1.83833194, -0.00435356]),\n",
       " array([-1.69126538,  0.00261214]),\n",
       " array([-1.55596415, -0.00156728]),\n",
       " array([-1.43148702e+00,  9.40369969e-04]),\n",
       " array([-1.31696806e+00, -5.64221981e-04]),\n",
       " array([-1.21161061e+00,  3.38533189e-04]),\n",
       " array([-1.11468176e+00, -2.03119913e-04]),\n",
       " array([-1.02550722e+00,  1.21871948e-04]),\n",
       " array([-9.43466646e-01, -7.31231688e-05]),\n",
       " array([-8.67989314e-01,  4.38739013e-05]),\n",
       " array([-7.98550169e-01, -2.63243408e-05]),\n",
       " array([-7.34666155e-01,  1.57946045e-05]),\n",
       " array([-6.75892863e-01, -9.47676268e-06]),\n",
       " array([-6.21821434e-01,  5.68605761e-06]),\n",
       " array([-5.72075719e-01, -3.41163456e-06]),\n",
       " array([-5.26309662e-01,  2.04698074e-06]),\n",
       " array([-4.84204889e-01, -1.22818844e-06]),\n",
       " array([-4.45468498e-01,  7.36913066e-07])]"
      ]
     },
     "execution_count": 5,
     "metadata": {},
     "output_type": "execute_result"
    }
   ],
   "source": [
    "train_p1(sgd, lr=0.4, epochs=30)"
   ]
  }
 ],
 "metadata": {
  "colab": {
   "provenance": [],
   "toc_visible": true
  },
  "kernelspec": {
   "display_name": "Python 3",
   "name": "python3"
  },
  "language_info": {
   "codemirror_mode": {
    "name": "ipython",
    "version": 3
   },
   "file_extension": ".py",
   "mimetype": "text/x-python",
   "name": "python",
   "nbconvert_exporter": "python",
   "pygments_lexer": "ipython3",
   "version": "3.12.6"
  }
 },
 "nbformat": 4,
 "nbformat_minor": 0
}
