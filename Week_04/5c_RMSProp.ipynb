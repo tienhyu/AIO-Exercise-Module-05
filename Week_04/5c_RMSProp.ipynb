{
 "cells": [
  {
   "cell_type": "markdown",
   "id": "syncB6SrV7ca",
   "metadata": {
    "id": "syncB6SrV7ca"
   },
   "source": [
    "## Load Data"
   ]
  },
  {
   "cell_type": "markdown",
   "id": "VajbqWjYr1y1",
   "metadata": {
    "id": "VajbqWjYr1y1"
   },
   "source": []
  },
  {
   "cell_type": "code",
   "execution_count": 2,
   "id": "e175eeac",
   "metadata": {
    "colab": {
     "base_uri": "https://localhost:8080/"
    },
    "executionInfo": {
     "elapsed": 10323,
     "status": "ok",
     "timestamp": 1732537205295,
     "user": {
      "displayName": "Tien Nguyen",
      "userId": "12615839768308909769"
     },
     "user_tz": -420
    },
    "id": "e175eeac",
    "outputId": "9b71c5f4-6990-48c3-c539-44a6438842cb"
   },
   "outputs": [
    {
     "data": {
      "text/plain": [
       "<torch._C.Generator at 0x7a7b5e196b30>"
      ]
     },
     "execution_count": 2,
     "metadata": {},
     "output_type": "execute_result"
    }
   ],
   "source": [
    "import torch\n",
    "from torch import nn\n",
    "import torch.optim as optim\n",
    "from torch.utils.data import Dataset, DataLoader\n",
    "import torchvision\n",
    "from torchvision.datasets import FashionMNIST\n",
    "import torchvision.transforms as transforms\n",
    "import numpy as np\n",
    "device = torch.device('cuda:0' if torch.cuda.is_available() else 'cpu')\n",
    "torch.manual_seed(42)"
   ]
  },
  {
   "cell_type": "code",
   "execution_count": 3,
   "id": "cd6d8ed9-194c-4334-bd99-625b3d5b4a00",
   "metadata": {
    "executionInfo": {
     "elapsed": 7,
     "status": "ok",
     "timestamp": 1732537205295,
     "user": {
      "displayName": "Tien Nguyen",
      "userId": "12615839768308909769"
     },
     "user_tz": -420
    },
    "id": "cd6d8ed9-194c-4334-bd99-625b3d5b4a00"
   },
   "outputs": [],
   "source": [
    "batch_size = 512\n",
    "num_epochs = 300\n",
    "lr = 0.01"
   ]
  },
  {
   "cell_type": "code",
   "execution_count": 4,
   "id": "c99e7832-3603-48e2-aafa-45194af43501",
   "metadata": {
    "colab": {
     "base_uri": "https://localhost:8080/"
    },
    "executionInfo": {
     "elapsed": 5018,
     "status": "ok",
     "timestamp": 1732537210307,
     "user": {
      "displayName": "Tien Nguyen",
      "userId": "12615839768308909769"
     },
     "user_tz": -420
    },
    "id": "c99e7832-3603-48e2-aafa-45194af43501",
    "outputId": "39b868cc-d82a-4bb6-a4e2-fb98fa5c986c"
   },
   "outputs": [
    {
     "name": "stdout",
     "output_type": "stream",
     "text": [
      "Downloading http://fashion-mnist.s3-website.eu-central-1.amazonaws.com/train-images-idx3-ubyte.gz\n",
      "Downloading http://fashion-mnist.s3-website.eu-central-1.amazonaws.com/train-images-idx3-ubyte.gz to ./data/FashionMNIST/raw/train-images-idx3-ubyte.gz\n"
     ]
    },
    {
     "name": "stderr",
     "output_type": "stream",
     "text": [
      "100%|██████████| 26.4M/26.4M [00:01<00:00, 16.6MB/s]\n"
     ]
    },
    {
     "name": "stdout",
     "output_type": "stream",
     "text": [
      "Extracting ./data/FashionMNIST/raw/train-images-idx3-ubyte.gz to ./data/FashionMNIST/raw\n",
      "\n",
      "Downloading http://fashion-mnist.s3-website.eu-central-1.amazonaws.com/train-labels-idx1-ubyte.gz\n",
      "Downloading http://fashion-mnist.s3-website.eu-central-1.amazonaws.com/train-labels-idx1-ubyte.gz to ./data/FashionMNIST/raw/train-labels-idx1-ubyte.gz\n"
     ]
    },
    {
     "name": "stderr",
     "output_type": "stream",
     "text": [
      "100%|██████████| 29.5k/29.5k [00:00<00:00, 267kB/s]\n"
     ]
    },
    {
     "name": "stdout",
     "output_type": "stream",
     "text": [
      "Extracting ./data/FashionMNIST/raw/train-labels-idx1-ubyte.gz to ./data/FashionMNIST/raw\n",
      "\n",
      "Downloading http://fashion-mnist.s3-website.eu-central-1.amazonaws.com/t10k-images-idx3-ubyte.gz\n",
      "Downloading http://fashion-mnist.s3-website.eu-central-1.amazonaws.com/t10k-images-idx3-ubyte.gz to ./data/FashionMNIST/raw/t10k-images-idx3-ubyte.gz\n"
     ]
    },
    {
     "name": "stderr",
     "output_type": "stream",
     "text": [
      "100%|██████████| 4.42M/4.42M [00:00<00:00, 4.82MB/s]\n"
     ]
    },
    {
     "name": "stdout",
     "output_type": "stream",
     "text": [
      "Extracting ./data/FashionMNIST/raw/t10k-images-idx3-ubyte.gz to ./data/FashionMNIST/raw\n",
      "\n",
      "Downloading http://fashion-mnist.s3-website.eu-central-1.amazonaws.com/t10k-labels-idx1-ubyte.gz\n",
      "Downloading http://fashion-mnist.s3-website.eu-central-1.amazonaws.com/t10k-labels-idx1-ubyte.gz to ./data/FashionMNIST/raw/t10k-labels-idx1-ubyte.gz\n"
     ]
    },
    {
     "name": "stderr",
     "output_type": "stream",
     "text": [
      "100%|██████████| 5.15k/5.15k [00:00<00:00, 8.44MB/s]"
     ]
    },
    {
     "name": "stdout",
     "output_type": "stream",
     "text": [
      "Extracting ./data/FashionMNIST/raw/t10k-labels-idx1-ubyte.gz to ./data/FashionMNIST/raw\n",
      "\n"
     ]
    },
    {
     "name": "stderr",
     "output_type": "stream",
     "text": [
      "\n"
     ]
    }
   ],
   "source": [
    "train_dataset = FashionMNIST(root='./data', train=True, download=True, transform=transforms.ToTensor())\n",
    "train_loader = DataLoader(train_dataset, batch_size, shuffle=True)\n",
    "test_dataset = FashionMNIST(root='./data', train=False, download=True, transform=transforms.ToTensor())\n",
    "test_loader = DataLoader(test_dataset, batch_size)"
   ]
  },
  {
   "cell_type": "markdown",
   "id": "f068e1ea",
   "metadata": {
    "id": "f068e1ea"
   },
   "source": [
    "## Modeling"
   ]
  },
  {
   "cell_type": "code",
   "execution_count": 5,
   "id": "8aabf29a",
   "metadata": {
    "executionInfo": {
     "elapsed": 2,
     "status": "ok",
     "timestamp": 1732537210307,
     "user": {
      "displayName": "Tien Nguyen",
      "userId": "12615839768308909769"
     },
     "user_tz": -420
    },
    "id": "8aabf29a"
   },
   "outputs": [],
   "source": [
    "class MLP(nn.Module):\n",
    "    def __init__(self, input_dims, hidden_dims, output_dims):\n",
    "        super(MLP, self).__init__()\n",
    "        self.layer1 = nn.Linear(input_dims, hidden_dims)\n",
    "        self.layer2 = nn.Linear(hidden_dims, hidden_dims)\n",
    "        self.layer3 = nn.Linear(hidden_dims, hidden_dims)\n",
    "        self.layer4 = nn.Linear(hidden_dims, hidden_dims)\n",
    "        self.layer5 = nn.Linear(hidden_dims, hidden_dims)\n",
    "        self.output = nn.Linear(hidden_dims, output_dims)\n",
    "        self.sigmoid = nn.Sigmoid()\n",
    "\n",
    "    def forward(self, x):\n",
    "        x = nn.Flatten()(x)\n",
    "        x = self.layer1(x)\n",
    "        x = self.sigmoid(x)\n",
    "        x = self.layer2(x)\n",
    "        x = self.sigmoid(x)\n",
    "        x = self.layer3(x)\n",
    "        x = self.sigmoid(x)\n",
    "        x = self.layer4(x)\n",
    "        x = self.sigmoid(x)\n",
    "        x = self.layer5(x)\n",
    "        x = self.sigmoid(x)\n",
    "        out = self.output(x)\n",
    "        return out"
   ]
  },
  {
   "cell_type": "code",
   "execution_count": 6,
   "id": "8c6459b6-d042-4117-8ee1-e388a8b708f0",
   "metadata": {
    "executionInfo": {
     "elapsed": 337,
     "status": "ok",
     "timestamp": 1732537210642,
     "user": {
      "displayName": "Tien Nguyen",
      "userId": "12615839768308909769"
     },
     "user_tz": -420
    },
    "id": "8c6459b6-d042-4117-8ee1-e388a8b708f0"
   },
   "outputs": [],
   "source": [
    "model = MLP(input_dims=784, hidden_dims=128, output_dims=10).to(device)\n",
    "criterion = nn.CrossEntropyLoss()\n",
    "################## YOUR CODE HERE ##################\n",
    "\"\"\"Cấu hình optimizer theo yêu cầu đề bài\"\"\"\n",
    "optimizer = optim.RMSprop(model.parameters(), lr=lr, alpha=0.99)\n",
    "####################################################"
   ]
  },
  {
   "cell_type": "markdown",
   "id": "c3167cdb",
   "metadata": {
    "id": "c3167cdb"
   },
   "source": [
    "## ADAM"
   ]
  },
  {
   "cell_type": "code",
   "execution_count": 7,
   "id": "c46b65da",
   "metadata": {
    "colab": {
     "base_uri": "https://localhost:8080/"
    },
    "executionInfo": {
     "elapsed": 2166105,
     "status": "ok",
     "timestamp": 1732539376745,
     "user": {
      "displayName": "Tien Nguyen",
      "userId": "12615839768308909769"
     },
     "user_tz": -420
    },
    "id": "c46b65da",
    "outputId": "b6f7e8bd-5c81-4ed3-b6db-88c8c82b6459"
   },
   "outputs": [
    {
     "name": "stdout",
     "output_type": "stream",
     "text": [
      "Epoch 1/300, Train_Loss: 2.3545, Train_Acc: 0.1006, Validation Loss: 2.3256, Val_Acc: 0.1000\n",
      "Epoch 2/300, Train_Loss: 1.8325, Train_Acc: 0.2029, Validation Loss: 1.9574, Val_Acc: 0.2185\n",
      "Epoch 3/300, Train_Loss: 1.3458, Train_Acc: 0.3628, Validation Loss: 1.1189, Val_Acc: 0.4585\n",
      "Epoch 4/300, Train_Loss: 0.9948, Train_Acc: 0.5721, Validation Loss: 0.8606, Val_Acc: 0.6890\n",
      "Epoch 5/300, Train_Loss: 0.7537, Train_Acc: 0.7058, Validation Loss: 0.7431, Val_Acc: 0.7102\n",
      "Epoch 6/300, Train_Loss: 0.6575, Train_Acc: 0.7315, Validation Loss: 0.7102, Val_Acc: 0.7104\n",
      "Epoch 7/300, Train_Loss: 0.6125, Train_Acc: 0.7573, Validation Loss: 0.6297, Val_Acc: 0.7585\n",
      "Epoch 8/300, Train_Loss: 0.5552, Train_Acc: 0.7912, Validation Loss: 0.7874, Val_Acc: 0.6765\n",
      "Epoch 9/300, Train_Loss: 0.5318, Train_Acc: 0.8127, Validation Loss: 0.5305, Val_Acc: 0.8163\n",
      "Epoch 10/300, Train_Loss: 0.4640, Train_Acc: 0.8386, Validation Loss: 0.5177, Val_Acc: 0.8184\n",
      "Epoch 11/300, Train_Loss: 0.4423, Train_Acc: 0.8467, Validation Loss: 0.7298, Val_Acc: 0.7671\n",
      "Epoch 12/300, Train_Loss: 0.4264, Train_Acc: 0.8503, Validation Loss: 0.5715, Val_Acc: 0.7927\n",
      "Epoch 13/300, Train_Loss: 0.4100, Train_Acc: 0.8569, Validation Loss: 0.4460, Val_Acc: 0.8464\n",
      "Epoch 14/300, Train_Loss: 0.4015, Train_Acc: 0.8592, Validation Loss: 0.5135, Val_Acc: 0.8219\n",
      "Epoch 15/300, Train_Loss: 0.3822, Train_Acc: 0.8659, Validation Loss: 0.4893, Val_Acc: 0.8269\n",
      "Epoch 16/300, Train_Loss: 0.3748, Train_Acc: 0.8675, Validation Loss: 0.5742, Val_Acc: 0.8024\n",
      "Epoch 17/300, Train_Loss: 0.3635, Train_Acc: 0.8710, Validation Loss: 0.4649, Val_Acc: 0.8331\n",
      "Epoch 18/300, Train_Loss: 0.3522, Train_Acc: 0.8760, Validation Loss: 0.5657, Val_Acc: 0.7850\n",
      "Epoch 19/300, Train_Loss: 0.3402, Train_Acc: 0.8775, Validation Loss: 0.4170, Val_Acc: 0.8451\n",
      "Epoch 20/300, Train_Loss: 0.3407, Train_Acc: 0.8776, Validation Loss: 0.4077, Val_Acc: 0.8604\n",
      "Epoch 21/300, Train_Loss: 0.3299, Train_Acc: 0.8807, Validation Loss: 0.5223, Val_Acc: 0.8207\n",
      "Epoch 22/300, Train_Loss: 0.3272, Train_Acc: 0.8803, Validation Loss: 0.3925, Val_Acc: 0.8634\n",
      "Epoch 23/300, Train_Loss: 0.3169, Train_Acc: 0.8858, Validation Loss: 0.3828, Val_Acc: 0.8677\n",
      "Epoch 24/300, Train_Loss: 0.3127, Train_Acc: 0.8867, Validation Loss: 0.4545, Val_Acc: 0.8359\n",
      "Epoch 25/300, Train_Loss: 0.3113, Train_Acc: 0.8876, Validation Loss: 0.3909, Val_Acc: 0.8634\n",
      "Epoch 26/300, Train_Loss: 0.3065, Train_Acc: 0.8889, Validation Loss: 0.3938, Val_Acc: 0.8638\n",
      "Epoch 27/300, Train_Loss: 0.2993, Train_Acc: 0.8916, Validation Loss: 0.4825, Val_Acc: 0.8410\n",
      "Epoch 28/300, Train_Loss: 0.2959, Train_Acc: 0.8923, Validation Loss: 0.5554, Val_Acc: 0.8106\n",
      "Epoch 29/300, Train_Loss: 0.2935, Train_Acc: 0.8927, Validation Loss: 0.4193, Val_Acc: 0.8588\n",
      "Epoch 30/300, Train_Loss: 0.2888, Train_Acc: 0.8936, Validation Loss: 0.5240, Val_Acc: 0.8196\n",
      "Epoch 31/300, Train_Loss: 0.2823, Train_Acc: 0.8977, Validation Loss: 0.3854, Val_Acc: 0.8697\n",
      "Epoch 32/300, Train_Loss: 0.2862, Train_Acc: 0.8950, Validation Loss: 0.5241, Val_Acc: 0.8078\n",
      "Epoch 33/300, Train_Loss: 0.2795, Train_Acc: 0.8972, Validation Loss: 0.4784, Val_Acc: 0.8450\n",
      "Epoch 34/300, Train_Loss: 0.2758, Train_Acc: 0.8995, Validation Loss: 0.4505, Val_Acc: 0.8492\n",
      "Epoch 35/300, Train_Loss: 0.2669, Train_Acc: 0.9019, Validation Loss: 0.4262, Val_Acc: 0.8636\n",
      "Epoch 36/300, Train_Loss: 0.2687, Train_Acc: 0.9009, Validation Loss: 0.4292, Val_Acc: 0.8629\n",
      "Epoch 37/300, Train_Loss: 0.2663, Train_Acc: 0.9020, Validation Loss: 0.4853, Val_Acc: 0.8039\n",
      "Epoch 38/300, Train_Loss: 0.2660, Train_Acc: 0.9022, Validation Loss: 0.4494, Val_Acc: 0.8420\n",
      "Epoch 39/300, Train_Loss: 0.2591, Train_Acc: 0.9045, Validation Loss: 0.4577, Val_Acc: 0.8412\n",
      "Epoch 40/300, Train_Loss: 0.2594, Train_Acc: 0.9043, Validation Loss: 0.3851, Val_Acc: 0.8747\n",
      "Epoch 41/300, Train_Loss: 0.2520, Train_Acc: 0.9060, Validation Loss: 0.7137, Val_Acc: 0.7581\n",
      "Epoch 42/300, Train_Loss: 0.2570, Train_Acc: 0.9060, Validation Loss: 0.4975, Val_Acc: 0.8298\n",
      "Epoch 43/300, Train_Loss: 0.2522, Train_Acc: 0.9072, Validation Loss: 0.3908, Val_Acc: 0.8717\n",
      "Epoch 44/300, Train_Loss: 0.2488, Train_Acc: 0.9087, Validation Loss: 0.4597, Val_Acc: 0.8584\n",
      "Epoch 45/300, Train_Loss: 0.2479, Train_Acc: 0.9080, Validation Loss: 0.4521, Val_Acc: 0.8521\n",
      "Epoch 46/300, Train_Loss: 0.2456, Train_Acc: 0.9093, Validation Loss: 0.4809, Val_Acc: 0.8571\n",
      "Epoch 47/300, Train_Loss: 0.2512, Train_Acc: 0.9071, Validation Loss: 0.4540, Val_Acc: 0.8527\n",
      "Epoch 48/300, Train_Loss: 0.2476, Train_Acc: 0.9100, Validation Loss: 0.4645, Val_Acc: 0.8596\n",
      "Epoch 49/300, Train_Loss: 0.2433, Train_Acc: 0.9115, Validation Loss: 0.4120, Val_Acc: 0.8560\n",
      "Epoch 50/300, Train_Loss: 0.2395, Train_Acc: 0.9124, Validation Loss: 0.4315, Val_Acc: 0.8605\n",
      "Epoch 51/300, Train_Loss: 0.2382, Train_Acc: 0.9126, Validation Loss: 0.4383, Val_Acc: 0.8526\n",
      "Epoch 52/300, Train_Loss: 0.2446, Train_Acc: 0.9105, Validation Loss: 0.4479, Val_Acc: 0.8340\n",
      "Epoch 53/300, Train_Loss: 0.2334, Train_Acc: 0.9142, Validation Loss: 0.4391, Val_Acc: 0.8520\n",
      "Epoch 54/300, Train_Loss: 0.2315, Train_Acc: 0.9157, Validation Loss: 0.4305, Val_Acc: 0.8639\n",
      "Epoch 55/300, Train_Loss: 0.2325, Train_Acc: 0.9152, Validation Loss: 0.4079, Val_Acc: 0.8685\n",
      "Epoch 56/300, Train_Loss: 0.2303, Train_Acc: 0.9156, Validation Loss: 0.3948, Val_Acc: 0.8708\n",
      "Epoch 57/300, Train_Loss: 0.2271, Train_Acc: 0.9157, Validation Loss: 0.4830, Val_Acc: 0.8433\n",
      "Epoch 58/300, Train_Loss: 0.2258, Train_Acc: 0.9159, Validation Loss: 0.4638, Val_Acc: 0.8550\n",
      "Epoch 59/300, Train_Loss: 0.2297, Train_Acc: 0.9157, Validation Loss: 0.4146, Val_Acc: 0.8720\n",
      "Epoch 60/300, Train_Loss: 0.2261, Train_Acc: 0.9175, Validation Loss: 0.4066, Val_Acc: 0.8745\n",
      "Epoch 61/300, Train_Loss: 0.2250, Train_Acc: 0.9181, Validation Loss: 0.4935, Val_Acc: 0.8313\n",
      "Epoch 62/300, Train_Loss: 0.2230, Train_Acc: 0.9180, Validation Loss: 0.5136, Val_Acc: 0.8336\n",
      "Epoch 63/300, Train_Loss: 0.2225, Train_Acc: 0.9173, Validation Loss: 0.4062, Val_Acc: 0.8743\n",
      "Epoch 64/300, Train_Loss: 0.2186, Train_Acc: 0.9191, Validation Loss: 0.4214, Val_Acc: 0.8605\n",
      "Epoch 65/300, Train_Loss: 0.2227, Train_Acc: 0.9175, Validation Loss: 0.4763, Val_Acc: 0.8558\n",
      "Epoch 66/300, Train_Loss: 0.2144, Train_Acc: 0.9215, Validation Loss: 0.4569, Val_Acc: 0.8580\n",
      "Epoch 67/300, Train_Loss: 0.2171, Train_Acc: 0.9203, Validation Loss: 0.4134, Val_Acc: 0.8623\n",
      "Epoch 68/300, Train_Loss: 0.2135, Train_Acc: 0.9217, Validation Loss: 0.4791, Val_Acc: 0.8455\n",
      "Epoch 69/300, Train_Loss: 0.2176, Train_Acc: 0.9194, Validation Loss: 0.3995, Val_Acc: 0.8796\n",
      "Epoch 70/300, Train_Loss: 0.2080, Train_Acc: 0.9237, Validation Loss: 0.3742, Val_Acc: 0.8799\n",
      "Epoch 71/300, Train_Loss: 0.2106, Train_Acc: 0.9220, Validation Loss: 0.4367, Val_Acc: 0.8628\n",
      "Epoch 72/300, Train_Loss: 0.2011, Train_Acc: 0.9248, Validation Loss: 0.3948, Val_Acc: 0.8815\n",
      "Epoch 73/300, Train_Loss: 0.2097, Train_Acc: 0.9228, Validation Loss: 0.5600, Val_Acc: 0.8425\n",
      "Epoch 74/300, Train_Loss: 0.2092, Train_Acc: 0.9240, Validation Loss: 0.4294, Val_Acc: 0.8688\n",
      "Epoch 75/300, Train_Loss: 0.2070, Train_Acc: 0.9236, Validation Loss: 0.4336, Val_Acc: 0.8663\n",
      "Epoch 76/300, Train_Loss: 0.2043, Train_Acc: 0.9240, Validation Loss: 0.4691, Val_Acc: 0.8486\n",
      "Epoch 77/300, Train_Loss: 0.1978, Train_Acc: 0.9268, Validation Loss: 0.5056, Val_Acc: 0.8377\n",
      "Epoch 78/300, Train_Loss: 0.2006, Train_Acc: 0.9256, Validation Loss: 0.5243, Val_Acc: 0.8431\n",
      "Epoch 79/300, Train_Loss: 0.1989, Train_Acc: 0.9262, Validation Loss: 0.4517, Val_Acc: 0.8662\n",
      "Epoch 80/300, Train_Loss: 0.1939, Train_Acc: 0.9274, Validation Loss: 0.4160, Val_Acc: 0.8797\n",
      "Epoch 81/300, Train_Loss: 0.1948, Train_Acc: 0.9271, Validation Loss: 0.4403, Val_Acc: 0.8600\n",
      "Epoch 82/300, Train_Loss: 0.1931, Train_Acc: 0.9280, Validation Loss: 0.4409, Val_Acc: 0.8694\n",
      "Epoch 83/300, Train_Loss: 0.1939, Train_Acc: 0.9291, Validation Loss: 0.4410, Val_Acc: 0.8682\n",
      "Epoch 84/300, Train_Loss: 0.1962, Train_Acc: 0.9291, Validation Loss: 0.4122, Val_Acc: 0.8783\n",
      "Epoch 85/300, Train_Loss: 0.1918, Train_Acc: 0.9289, Validation Loss: 0.4075, Val_Acc: 0.8818\n",
      "Epoch 86/300, Train_Loss: 0.1969, Train_Acc: 0.9272, Validation Loss: 0.4125, Val_Acc: 0.8681\n",
      "Epoch 87/300, Train_Loss: 0.1875, Train_Acc: 0.9304, Validation Loss: 0.5798, Val_Acc: 0.8290\n",
      "Epoch 88/300, Train_Loss: 0.1943, Train_Acc: 0.9287, Validation Loss: 0.5522, Val_Acc: 0.8578\n",
      "Epoch 89/300, Train_Loss: 0.1954, Train_Acc: 0.9285, Validation Loss: 0.4194, Val_Acc: 0.8781\n",
      "Epoch 90/300, Train_Loss: 0.1905, Train_Acc: 0.9288, Validation Loss: 0.4530, Val_Acc: 0.8640\n",
      "Epoch 91/300, Train_Loss: 0.1840, Train_Acc: 0.9314, Validation Loss: 0.4114, Val_Acc: 0.8799\n",
      "Epoch 92/300, Train_Loss: 0.1855, Train_Acc: 0.9319, Validation Loss: 0.4342, Val_Acc: 0.8740\n",
      "Epoch 93/300, Train_Loss: 0.1859, Train_Acc: 0.9309, Validation Loss: 0.4565, Val_Acc: 0.8802\n",
      "Epoch 94/300, Train_Loss: 0.1892, Train_Acc: 0.9292, Validation Loss: 0.4098, Val_Acc: 0.8756\n",
      "Epoch 95/300, Train_Loss: 0.1809, Train_Acc: 0.9337, Validation Loss: 0.5522, Val_Acc: 0.8311\n",
      "Epoch 96/300, Train_Loss: 0.1926, Train_Acc: 0.9291, Validation Loss: 0.4673, Val_Acc: 0.8532\n",
      "Epoch 97/300, Train_Loss: 0.1831, Train_Acc: 0.9324, Validation Loss: 0.5461, Val_Acc: 0.8568\n",
      "Epoch 98/300, Train_Loss: 0.1819, Train_Acc: 0.9318, Validation Loss: 0.4553, Val_Acc: 0.8790\n",
      "Epoch 99/300, Train_Loss: 0.1822, Train_Acc: 0.9325, Validation Loss: 0.4669, Val_Acc: 0.8681\n",
      "Epoch 100/300, Train_Loss: 0.1835, Train_Acc: 0.9316, Validation Loss: 0.4722, Val_Acc: 0.8675\n",
      "Epoch 101/300, Train_Loss: 0.1784, Train_Acc: 0.9342, Validation Loss: 0.4221, Val_Acc: 0.8848\n",
      "Epoch 102/300, Train_Loss: 0.1795, Train_Acc: 0.9351, Validation Loss: 0.4627, Val_Acc: 0.8663\n",
      "Epoch 103/300, Train_Loss: 0.1776, Train_Acc: 0.9342, Validation Loss: 0.4370, Val_Acc: 0.8774\n",
      "Epoch 104/300, Train_Loss: 0.1777, Train_Acc: 0.9356, Validation Loss: 0.4386, Val_Acc: 0.8783\n",
      "Epoch 105/300, Train_Loss: 0.1743, Train_Acc: 0.9362, Validation Loss: 0.4706, Val_Acc: 0.8680\n",
      "Epoch 106/300, Train_Loss: 0.1800, Train_Acc: 0.9342, Validation Loss: 0.4384, Val_Acc: 0.8753\n",
      "Epoch 107/300, Train_Loss: 0.1729, Train_Acc: 0.9371, Validation Loss: 0.4163, Val_Acc: 0.8772\n",
      "Epoch 108/300, Train_Loss: 0.1722, Train_Acc: 0.9358, Validation Loss: 0.4223, Val_Acc: 0.8823\n",
      "Epoch 109/300, Train_Loss: 0.1778, Train_Acc: 0.9351, Validation Loss: 0.4633, Val_Acc: 0.8623\n",
      "Epoch 110/300, Train_Loss: 0.1699, Train_Acc: 0.9377, Validation Loss: 0.5061, Val_Acc: 0.8666\n",
      "Epoch 111/300, Train_Loss: 0.1745, Train_Acc: 0.9362, Validation Loss: 0.4583, Val_Acc: 0.8715\n",
      "Epoch 112/300, Train_Loss: 0.1689, Train_Acc: 0.9381, Validation Loss: 0.4743, Val_Acc: 0.8631\n",
      "Epoch 113/300, Train_Loss: 0.1694, Train_Acc: 0.9367, Validation Loss: 0.4548, Val_Acc: 0.8706\n",
      "Epoch 114/300, Train_Loss: 0.1699, Train_Acc: 0.9372, Validation Loss: 0.4401, Val_Acc: 0.8790\n",
      "Epoch 115/300, Train_Loss: 0.1668, Train_Acc: 0.9390, Validation Loss: 0.4798, Val_Acc: 0.8574\n",
      "Epoch 116/300, Train_Loss: 0.1647, Train_Acc: 0.9395, Validation Loss: 0.4690, Val_Acc: 0.8680\n",
      "Epoch 117/300, Train_Loss: 0.1667, Train_Acc: 0.9378, Validation Loss: 0.4698, Val_Acc: 0.8675\n",
      "Epoch 118/300, Train_Loss: 0.1721, Train_Acc: 0.9369, Validation Loss: 0.4225, Val_Acc: 0.8783\n",
      "Epoch 119/300, Train_Loss: 0.1668, Train_Acc: 0.9384, Validation Loss: 0.5162, Val_Acc: 0.8506\n",
      "Epoch 120/300, Train_Loss: 0.1655, Train_Acc: 0.9391, Validation Loss: 0.5283, Val_Acc: 0.8453\n",
      "Epoch 121/300, Train_Loss: 0.1705, Train_Acc: 0.9374, Validation Loss: 0.4208, Val_Acc: 0.8872\n",
      "Epoch 122/300, Train_Loss: 0.1636, Train_Acc: 0.9401, Validation Loss: 0.4787, Val_Acc: 0.8685\n",
      "Epoch 123/300, Train_Loss: 0.1642, Train_Acc: 0.9402, Validation Loss: 0.4606, Val_Acc: 0.8805\n",
      "Epoch 124/300, Train_Loss: 0.1615, Train_Acc: 0.9407, Validation Loss: 0.4547, Val_Acc: 0.8865\n",
      "Epoch 125/300, Train_Loss: 0.1639, Train_Acc: 0.9402, Validation Loss: 0.5050, Val_Acc: 0.8720\n",
      "Epoch 126/300, Train_Loss: 0.1660, Train_Acc: 0.9393, Validation Loss: 0.4820, Val_Acc: 0.8713\n",
      "Epoch 127/300, Train_Loss: 0.1644, Train_Acc: 0.9392, Validation Loss: 0.4807, Val_Acc: 0.8691\n",
      "Epoch 128/300, Train_Loss: 0.1646, Train_Acc: 0.9391, Validation Loss: 0.4460, Val_Acc: 0.8760\n",
      "Epoch 129/300, Train_Loss: 0.1614, Train_Acc: 0.9403, Validation Loss: 0.5137, Val_Acc: 0.8461\n",
      "Epoch 130/300, Train_Loss: 0.1640, Train_Acc: 0.9401, Validation Loss: 0.4551, Val_Acc: 0.8704\n",
      "Epoch 131/300, Train_Loss: 0.1656, Train_Acc: 0.9401, Validation Loss: 0.5135, Val_Acc: 0.8505\n",
      "Epoch 132/300, Train_Loss: 0.1619, Train_Acc: 0.9403, Validation Loss: 0.4523, Val_Acc: 0.8761\n",
      "Epoch 133/300, Train_Loss: 0.1615, Train_Acc: 0.9410, Validation Loss: 0.4808, Val_Acc: 0.8778\n",
      "Epoch 134/300, Train_Loss: 0.1623, Train_Acc: 0.9403, Validation Loss: 0.4616, Val_Acc: 0.8682\n",
      "Epoch 135/300, Train_Loss: 0.1590, Train_Acc: 0.9415, Validation Loss: 0.5114, Val_Acc: 0.8650\n",
      "Epoch 136/300, Train_Loss: 0.1573, Train_Acc: 0.9430, Validation Loss: 0.4842, Val_Acc: 0.8816\n",
      "Epoch 137/300, Train_Loss: 0.1622, Train_Acc: 0.9413, Validation Loss: 0.6224, Val_Acc: 0.8517\n",
      "Epoch 138/300, Train_Loss: 0.1586, Train_Acc: 0.9423, Validation Loss: 0.4953, Val_Acc: 0.8806\n",
      "Epoch 139/300, Train_Loss: 0.1555, Train_Acc: 0.9432, Validation Loss: 0.4681, Val_Acc: 0.8744\n",
      "Epoch 140/300, Train_Loss: 0.1597, Train_Acc: 0.9415, Validation Loss: 0.4964, Val_Acc: 0.8833\n",
      "Epoch 141/300, Train_Loss: 0.1576, Train_Acc: 0.9427, Validation Loss: 0.4813, Val_Acc: 0.8777\n",
      "Epoch 142/300, Train_Loss: 0.1600, Train_Acc: 0.9426, Validation Loss: 0.5129, Val_Acc: 0.8751\n",
      "Epoch 143/300, Train_Loss: 0.1527, Train_Acc: 0.9443, Validation Loss: 0.4808, Val_Acc: 0.8837\n",
      "Epoch 144/300, Train_Loss: 0.1579, Train_Acc: 0.9432, Validation Loss: 0.4575, Val_Acc: 0.8681\n",
      "Epoch 145/300, Train_Loss: 0.1496, Train_Acc: 0.9443, Validation Loss: 0.4968, Val_Acc: 0.8731\n",
      "Epoch 146/300, Train_Loss: 0.1562, Train_Acc: 0.9429, Validation Loss: 0.4830, Val_Acc: 0.8738\n",
      "Epoch 147/300, Train_Loss: 0.1483, Train_Acc: 0.9452, Validation Loss: 0.4394, Val_Acc: 0.8820\n",
      "Epoch 148/300, Train_Loss: 0.1583, Train_Acc: 0.9423, Validation Loss: 0.4523, Val_Acc: 0.8709\n",
      "Epoch 149/300, Train_Loss: 0.1600, Train_Acc: 0.9422, Validation Loss: 0.4315, Val_Acc: 0.8833\n",
      "Epoch 150/300, Train_Loss: 0.1505, Train_Acc: 0.9447, Validation Loss: 0.4700, Val_Acc: 0.8808\n",
      "Epoch 151/300, Train_Loss: 0.1479, Train_Acc: 0.9465, Validation Loss: 0.6649, Val_Acc: 0.8528\n",
      "Epoch 152/300, Train_Loss: 0.1607, Train_Acc: 0.9414, Validation Loss: 0.4654, Val_Acc: 0.8777\n",
      "Epoch 153/300, Train_Loss: 0.1590, Train_Acc: 0.9422, Validation Loss: 0.5361, Val_Acc: 0.8620\n",
      "Epoch 154/300, Train_Loss: 0.1478, Train_Acc: 0.9463, Validation Loss: 0.5258, Val_Acc: 0.8742\n",
      "Epoch 155/300, Train_Loss: 0.1436, Train_Acc: 0.9481, Validation Loss: 0.4729, Val_Acc: 0.8822\n",
      "Epoch 156/300, Train_Loss: 0.1477, Train_Acc: 0.9456, Validation Loss: 0.4884, Val_Acc: 0.8784\n",
      "Epoch 157/300, Train_Loss: 0.1427, Train_Acc: 0.9477, Validation Loss: 0.5915, Val_Acc: 0.8718\n",
      "Epoch 158/300, Train_Loss: 0.1537, Train_Acc: 0.9446, Validation Loss: 0.4594, Val_Acc: 0.8819\n",
      "Epoch 159/300, Train_Loss: 0.1431, Train_Acc: 0.9474, Validation Loss: 0.4917, Val_Acc: 0.8806\n",
      "Epoch 160/300, Train_Loss: 0.1491, Train_Acc: 0.9445, Validation Loss: 0.4979, Val_Acc: 0.8722\n",
      "Epoch 161/300, Train_Loss: 0.1442, Train_Acc: 0.9477, Validation Loss: 0.5882, Val_Acc: 0.8619\n",
      "Epoch 162/300, Train_Loss: 0.1430, Train_Acc: 0.9477, Validation Loss: 0.4632, Val_Acc: 0.8818\n",
      "Epoch 163/300, Train_Loss: 0.1471, Train_Acc: 0.9462, Validation Loss: 0.5381, Val_Acc: 0.8606\n",
      "Epoch 164/300, Train_Loss: 0.1568, Train_Acc: 0.9424, Validation Loss: 0.4627, Val_Acc: 0.8844\n",
      "Epoch 165/300, Train_Loss: 0.1509, Train_Acc: 0.9446, Validation Loss: 0.4844, Val_Acc: 0.8800\n",
      "Epoch 166/300, Train_Loss: 0.1491, Train_Acc: 0.9459, Validation Loss: 0.5171, Val_Acc: 0.8695\n",
      "Epoch 167/300, Train_Loss: 0.1416, Train_Acc: 0.9481, Validation Loss: 0.4908, Val_Acc: 0.8756\n",
      "Epoch 168/300, Train_Loss: 0.1484, Train_Acc: 0.9453, Validation Loss: 0.5406, Val_Acc: 0.8648\n",
      "Epoch 169/300, Train_Loss: 0.1465, Train_Acc: 0.9456, Validation Loss: 0.5094, Val_Acc: 0.8713\n",
      "Epoch 170/300, Train_Loss: 0.1487, Train_Acc: 0.9459, Validation Loss: 0.5025, Val_Acc: 0.8741\n",
      "Epoch 171/300, Train_Loss: 0.1451, Train_Acc: 0.9477, Validation Loss: 0.4952, Val_Acc: 0.8740\n",
      "Epoch 172/300, Train_Loss: 0.1423, Train_Acc: 0.9483, Validation Loss: 0.5111, Val_Acc: 0.8792\n",
      "Epoch 173/300, Train_Loss: 0.1381, Train_Acc: 0.9496, Validation Loss: 0.5106, Val_Acc: 0.8812\n",
      "Epoch 174/300, Train_Loss: 0.1394, Train_Acc: 0.9479, Validation Loss: 0.5691, Val_Acc: 0.8648\n",
      "Epoch 175/300, Train_Loss: 0.1447, Train_Acc: 0.9463, Validation Loss: 0.5008, Val_Acc: 0.8763\n",
      "Epoch 176/300, Train_Loss: 0.1406, Train_Acc: 0.9485, Validation Loss: 0.5230, Val_Acc: 0.8765\n",
      "Epoch 177/300, Train_Loss: 0.1434, Train_Acc: 0.9483, Validation Loss: 0.5187, Val_Acc: 0.8774\n",
      "Epoch 178/300, Train_Loss: 0.1415, Train_Acc: 0.9489, Validation Loss: 0.4726, Val_Acc: 0.8831\n",
      "Epoch 179/300, Train_Loss: 0.1377, Train_Acc: 0.9493, Validation Loss: 0.5099, Val_Acc: 0.8782\n",
      "Epoch 180/300, Train_Loss: 0.1405, Train_Acc: 0.9501, Validation Loss: 0.6215, Val_Acc: 0.8603\n",
      "Epoch 181/300, Train_Loss: 0.1424, Train_Acc: 0.9494, Validation Loss: 0.5258, Val_Acc: 0.8770\n",
      "Epoch 182/300, Train_Loss: 0.1418, Train_Acc: 0.9487, Validation Loss: 0.4941, Val_Acc: 0.8797\n",
      "Epoch 183/300, Train_Loss: 0.1351, Train_Acc: 0.9511, Validation Loss: 0.5389, Val_Acc: 0.8683\n",
      "Epoch 184/300, Train_Loss: 0.1442, Train_Acc: 0.9478, Validation Loss: 0.4749, Val_Acc: 0.8834\n",
      "Epoch 185/300, Train_Loss: 0.1443, Train_Acc: 0.9475, Validation Loss: 0.4886, Val_Acc: 0.8704\n",
      "Epoch 186/300, Train_Loss: 0.1414, Train_Acc: 0.9494, Validation Loss: 0.5596, Val_Acc: 0.8708\n",
      "Epoch 187/300, Train_Loss: 0.1325, Train_Acc: 0.9518, Validation Loss: 0.5262, Val_Acc: 0.8678\n",
      "Epoch 188/300, Train_Loss: 0.1391, Train_Acc: 0.9495, Validation Loss: 0.5696, Val_Acc: 0.8675\n",
      "Epoch 189/300, Train_Loss: 0.1360, Train_Acc: 0.9512, Validation Loss: 0.6397, Val_Acc: 0.8670\n",
      "Epoch 190/300, Train_Loss: 0.1349, Train_Acc: 0.9512, Validation Loss: 0.4990, Val_Acc: 0.8699\n",
      "Epoch 191/300, Train_Loss: 0.1392, Train_Acc: 0.9493, Validation Loss: 0.5357, Val_Acc: 0.8783\n",
      "Epoch 192/300, Train_Loss: 0.1306, Train_Acc: 0.9517, Validation Loss: 0.6147, Val_Acc: 0.8723\n",
      "Epoch 193/300, Train_Loss: 0.1396, Train_Acc: 0.9500, Validation Loss: 0.5680, Val_Acc: 0.8632\n",
      "Epoch 194/300, Train_Loss: 0.1368, Train_Acc: 0.9508, Validation Loss: 0.5485, Val_Acc: 0.8644\n",
      "Epoch 195/300, Train_Loss: 0.1358, Train_Acc: 0.9507, Validation Loss: 0.4944, Val_Acc: 0.8779\n",
      "Epoch 196/300, Train_Loss: 0.1381, Train_Acc: 0.9495, Validation Loss: 0.5336, Val_Acc: 0.8647\n",
      "Epoch 197/300, Train_Loss: 0.1362, Train_Acc: 0.9501, Validation Loss: 0.5588, Val_Acc: 0.8705\n",
      "Epoch 198/300, Train_Loss: 0.1292, Train_Acc: 0.9540, Validation Loss: 0.6136, Val_Acc: 0.8675\n",
      "Epoch 199/300, Train_Loss: 0.1288, Train_Acc: 0.9535, Validation Loss: 0.5407, Val_Acc: 0.8836\n",
      "Epoch 200/300, Train_Loss: 0.1427, Train_Acc: 0.9493, Validation Loss: 0.5223, Val_Acc: 0.8606\n",
      "Epoch 201/300, Train_Loss: 0.1421, Train_Acc: 0.9482, Validation Loss: 0.5051, Val_Acc: 0.8740\n",
      "Epoch 202/300, Train_Loss: 0.1274, Train_Acc: 0.9536, Validation Loss: 0.5503, Val_Acc: 0.8784\n",
      "Epoch 203/300, Train_Loss: 0.1318, Train_Acc: 0.9526, Validation Loss: 0.4893, Val_Acc: 0.8798\n",
      "Epoch 204/300, Train_Loss: 0.1359, Train_Acc: 0.9509, Validation Loss: 0.5345, Val_Acc: 0.8817\n",
      "Epoch 205/300, Train_Loss: 0.1299, Train_Acc: 0.9537, Validation Loss: 0.5396, Val_Acc: 0.8578\n",
      "Epoch 206/300, Train_Loss: 0.1461, Train_Acc: 0.9473, Validation Loss: 0.5028, Val_Acc: 0.8774\n",
      "Epoch 207/300, Train_Loss: 0.1286, Train_Acc: 0.9537, Validation Loss: 0.5130, Val_Acc: 0.8835\n",
      "Epoch 208/300, Train_Loss: 0.1270, Train_Acc: 0.9545, Validation Loss: 0.5672, Val_Acc: 0.8653\n",
      "Epoch 209/300, Train_Loss: 0.1320, Train_Acc: 0.9532, Validation Loss: 0.4881, Val_Acc: 0.8841\n",
      "Epoch 210/300, Train_Loss: 0.1302, Train_Acc: 0.9537, Validation Loss: 0.5248, Val_Acc: 0.8811\n",
      "Epoch 211/300, Train_Loss: 0.1293, Train_Acc: 0.9533, Validation Loss: 0.5670, Val_Acc: 0.8703\n",
      "Epoch 212/300, Train_Loss: 0.1282, Train_Acc: 0.9533, Validation Loss: 0.5543, Val_Acc: 0.8726\n",
      "Epoch 213/300, Train_Loss: 0.1405, Train_Acc: 0.9483, Validation Loss: 0.5016, Val_Acc: 0.8812\n",
      "Epoch 214/300, Train_Loss: 0.1361, Train_Acc: 0.9505, Validation Loss: 0.5521, Val_Acc: 0.8710\n",
      "Epoch 215/300, Train_Loss: 0.1379, Train_Acc: 0.9499, Validation Loss: 0.5550, Val_Acc: 0.8790\n",
      "Epoch 216/300, Train_Loss: 0.1237, Train_Acc: 0.9554, Validation Loss: 0.5669, Val_Acc: 0.8674\n",
      "Epoch 217/300, Train_Loss: 0.1281, Train_Acc: 0.9527, Validation Loss: 0.5242, Val_Acc: 0.8752\n",
      "Epoch 218/300, Train_Loss: 0.1253, Train_Acc: 0.9548, Validation Loss: 0.5334, Val_Acc: 0.8755\n",
      "Epoch 219/300, Train_Loss: 0.1238, Train_Acc: 0.9559, Validation Loss: 0.5222, Val_Acc: 0.8779\n",
      "Epoch 220/300, Train_Loss: 0.1282, Train_Acc: 0.9547, Validation Loss: 0.5254, Val_Acc: 0.8755\n",
      "Epoch 221/300, Train_Loss: 0.1315, Train_Acc: 0.9526, Validation Loss: 0.5599, Val_Acc: 0.8762\n",
      "Epoch 222/300, Train_Loss: 0.1280, Train_Acc: 0.9537, Validation Loss: 0.5616, Val_Acc: 0.8666\n",
      "Epoch 223/300, Train_Loss: 0.1268, Train_Acc: 0.9544, Validation Loss: 0.6150, Val_Acc: 0.8660\n",
      "Epoch 224/300, Train_Loss: 0.1294, Train_Acc: 0.9534, Validation Loss: 0.5213, Val_Acc: 0.8859\n",
      "Epoch 225/300, Train_Loss: 0.1169, Train_Acc: 0.9568, Validation Loss: 0.5235, Val_Acc: 0.8825\n",
      "Epoch 226/300, Train_Loss: 0.1246, Train_Acc: 0.9551, Validation Loss: 0.5322, Val_Acc: 0.8793\n",
      "Epoch 227/300, Train_Loss: 0.1258, Train_Acc: 0.9546, Validation Loss: 0.5439, Val_Acc: 0.8789\n",
      "Epoch 228/300, Train_Loss: 0.1224, Train_Acc: 0.9561, Validation Loss: 0.5293, Val_Acc: 0.8784\n",
      "Epoch 229/300, Train_Loss: 0.1284, Train_Acc: 0.9534, Validation Loss: 0.6293, Val_Acc: 0.8519\n",
      "Epoch 230/300, Train_Loss: 0.1200, Train_Acc: 0.9570, Validation Loss: 0.5530, Val_Acc: 0.8831\n",
      "Epoch 231/300, Train_Loss: 0.1238, Train_Acc: 0.9565, Validation Loss: 0.5120, Val_Acc: 0.8792\n",
      "Epoch 232/300, Train_Loss: 0.1190, Train_Acc: 0.9571, Validation Loss: 0.5122, Val_Acc: 0.8757\n",
      "Epoch 233/300, Train_Loss: 0.1181, Train_Acc: 0.9574, Validation Loss: 0.5971, Val_Acc: 0.8797\n",
      "Epoch 234/300, Train_Loss: 0.1238, Train_Acc: 0.9549, Validation Loss: 0.5384, Val_Acc: 0.8794\n",
      "Epoch 235/300, Train_Loss: 0.1258, Train_Acc: 0.9555, Validation Loss: 0.5694, Val_Acc: 0.8737\n",
      "Epoch 236/300, Train_Loss: 0.1248, Train_Acc: 0.9549, Validation Loss: 0.5543, Val_Acc: 0.8800\n",
      "Epoch 237/300, Train_Loss: 0.1266, Train_Acc: 0.9533, Validation Loss: 0.6557, Val_Acc: 0.8717\n",
      "Epoch 238/300, Train_Loss: 0.1271, Train_Acc: 0.9556, Validation Loss: 0.5836, Val_Acc: 0.8666\n",
      "Epoch 239/300, Train_Loss: 0.1282, Train_Acc: 0.9553, Validation Loss: 0.4834, Val_Acc: 0.8782\n",
      "Epoch 240/300, Train_Loss: 0.1172, Train_Acc: 0.9580, Validation Loss: 0.5138, Val_Acc: 0.8806\n",
      "Epoch 241/300, Train_Loss: 0.1250, Train_Acc: 0.9560, Validation Loss: 0.5181, Val_Acc: 0.8798\n",
      "Epoch 242/300, Train_Loss: 0.1230, Train_Acc: 0.9549, Validation Loss: 0.5995, Val_Acc: 0.8755\n",
      "Epoch 243/300, Train_Loss: 0.1237, Train_Acc: 0.9557, Validation Loss: 0.5772, Val_Acc: 0.8727\n",
      "Epoch 244/300, Train_Loss: 0.1232, Train_Acc: 0.9562, Validation Loss: 0.5333, Val_Acc: 0.8767\n",
      "Epoch 245/300, Train_Loss: 0.1185, Train_Acc: 0.9587, Validation Loss: 0.5449, Val_Acc: 0.8753\n",
      "Epoch 246/300, Train_Loss: 0.1224, Train_Acc: 0.9560, Validation Loss: 0.6023, Val_Acc: 0.8652\n",
      "Epoch 247/300, Train_Loss: 0.1269, Train_Acc: 0.9550, Validation Loss: 0.5378, Val_Acc: 0.8824\n",
      "Epoch 248/300, Train_Loss: 0.1108, Train_Acc: 0.9600, Validation Loss: 0.5843, Val_Acc: 0.8773\n",
      "Epoch 249/300, Train_Loss: 0.1205, Train_Acc: 0.9572, Validation Loss: 0.5540, Val_Acc: 0.8659\n",
      "Epoch 250/300, Train_Loss: 0.1154, Train_Acc: 0.9593, Validation Loss: 0.6030, Val_Acc: 0.8651\n",
      "Epoch 251/300, Train_Loss: 0.1217, Train_Acc: 0.9569, Validation Loss: 0.5627, Val_Acc: 0.8796\n",
      "Epoch 252/300, Train_Loss: 0.1137, Train_Acc: 0.9594, Validation Loss: 0.5589, Val_Acc: 0.8717\n",
      "Epoch 253/300, Train_Loss: 0.1249, Train_Acc: 0.9554, Validation Loss: 0.5486, Val_Acc: 0.8812\n",
      "Epoch 254/300, Train_Loss: 0.1141, Train_Acc: 0.9595, Validation Loss: 0.5897, Val_Acc: 0.8707\n",
      "Epoch 255/300, Train_Loss: 0.1122, Train_Acc: 0.9598, Validation Loss: 0.7446, Val_Acc: 0.8519\n",
      "Epoch 256/300, Train_Loss: 0.1275, Train_Acc: 0.9544, Validation Loss: 0.5708, Val_Acc: 0.8753\n",
      "Epoch 257/300, Train_Loss: 0.1144, Train_Acc: 0.9586, Validation Loss: 0.5555, Val_Acc: 0.8838\n",
      "Epoch 258/300, Train_Loss: 0.1144, Train_Acc: 0.9594, Validation Loss: 0.5447, Val_Acc: 0.8710\n",
      "Epoch 259/300, Train_Loss: 0.1249, Train_Acc: 0.9553, Validation Loss: 0.6190, Val_Acc: 0.8648\n",
      "Epoch 260/300, Train_Loss: 0.1145, Train_Acc: 0.9589, Validation Loss: 0.5572, Val_Acc: 0.8752\n",
      "Epoch 261/300, Train_Loss: 0.1132, Train_Acc: 0.9592, Validation Loss: 0.6196, Val_Acc: 0.8676\n",
      "Epoch 262/300, Train_Loss: 0.1248, Train_Acc: 0.9553, Validation Loss: 0.5095, Val_Acc: 0.8816\n",
      "Epoch 263/300, Train_Loss: 0.1085, Train_Acc: 0.9617, Validation Loss: 0.5559, Val_Acc: 0.8770\n",
      "Epoch 264/300, Train_Loss: 0.1113, Train_Acc: 0.9599, Validation Loss: 0.5307, Val_Acc: 0.8813\n",
      "Epoch 265/300, Train_Loss: 0.1149, Train_Acc: 0.9581, Validation Loss: 0.5532, Val_Acc: 0.8778\n",
      "Epoch 266/300, Train_Loss: 0.1102, Train_Acc: 0.9604, Validation Loss: 0.6139, Val_Acc: 0.8768\n",
      "Epoch 267/300, Train_Loss: 0.1144, Train_Acc: 0.9597, Validation Loss: 0.5693, Val_Acc: 0.8814\n",
      "Epoch 268/300, Train_Loss: 0.1164, Train_Acc: 0.9583, Validation Loss: 0.6031, Val_Acc: 0.8775\n",
      "Epoch 269/300, Train_Loss: 0.1143, Train_Acc: 0.9601, Validation Loss: 0.5406, Val_Acc: 0.8850\n",
      "Epoch 270/300, Train_Loss: 0.1179, Train_Acc: 0.9595, Validation Loss: 0.5404, Val_Acc: 0.8661\n",
      "Epoch 271/300, Train_Loss: 0.1169, Train_Acc: 0.9589, Validation Loss: 0.5406, Val_Acc: 0.8814\n",
      "Epoch 272/300, Train_Loss: 0.1103, Train_Acc: 0.9613, Validation Loss: 0.5569, Val_Acc: 0.8659\n",
      "Epoch 273/300, Train_Loss: 0.1246, Train_Acc: 0.9557, Validation Loss: 0.4964, Val_Acc: 0.8837\n",
      "Epoch 274/300, Train_Loss: 0.1106, Train_Acc: 0.9612, Validation Loss: 0.5917, Val_Acc: 0.8559\n",
      "Epoch 275/300, Train_Loss: 0.1165, Train_Acc: 0.9590, Validation Loss: 0.5226, Val_Acc: 0.8804\n",
      "Epoch 276/300, Train_Loss: 0.1082, Train_Acc: 0.9618, Validation Loss: 0.5923, Val_Acc: 0.8700\n",
      "Epoch 277/300, Train_Loss: 0.1164, Train_Acc: 0.9603, Validation Loss: 0.5585, Val_Acc: 0.8784\n",
      "Epoch 278/300, Train_Loss: 0.1167, Train_Acc: 0.9590, Validation Loss: 0.5753, Val_Acc: 0.8747\n",
      "Epoch 279/300, Train_Loss: 0.1073, Train_Acc: 0.9619, Validation Loss: 0.5672, Val_Acc: 0.8792\n",
      "Epoch 280/300, Train_Loss: 0.1196, Train_Acc: 0.9585, Validation Loss: 0.6305, Val_Acc: 0.8685\n",
      "Epoch 281/300, Train_Loss: 0.1200, Train_Acc: 0.9586, Validation Loss: 0.6284, Val_Acc: 0.8558\n",
      "Epoch 282/300, Train_Loss: 0.1094, Train_Acc: 0.9614, Validation Loss: 0.6200, Val_Acc: 0.8719\n",
      "Epoch 283/300, Train_Loss: 0.1164, Train_Acc: 0.9581, Validation Loss: 0.6016, Val_Acc: 0.8752\n",
      "Epoch 284/300, Train_Loss: 0.1135, Train_Acc: 0.9606, Validation Loss: 0.5778, Val_Acc: 0.8753\n",
      "Epoch 285/300, Train_Loss: 0.1167, Train_Acc: 0.9591, Validation Loss: 0.5730, Val_Acc: 0.8802\n",
      "Epoch 286/300, Train_Loss: 0.1102, Train_Acc: 0.9607, Validation Loss: 0.6527, Val_Acc: 0.8725\n",
      "Epoch 287/300, Train_Loss: 0.1092, Train_Acc: 0.9615, Validation Loss: 0.6529, Val_Acc: 0.8642\n",
      "Epoch 288/300, Train_Loss: 0.1210, Train_Acc: 0.9571, Validation Loss: 0.5601, Val_Acc: 0.8707\n",
      "Epoch 289/300, Train_Loss: 0.1197, Train_Acc: 0.9570, Validation Loss: 0.5419, Val_Acc: 0.8756\n",
      "Epoch 290/300, Train_Loss: 0.1151, Train_Acc: 0.9598, Validation Loss: 0.5952, Val_Acc: 0.8756\n",
      "Epoch 291/300, Train_Loss: 0.1053, Train_Acc: 0.9621, Validation Loss: 0.6360, Val_Acc: 0.8790\n",
      "Epoch 292/300, Train_Loss: 0.1142, Train_Acc: 0.9593, Validation Loss: 0.5549, Val_Acc: 0.8762\n",
      "Epoch 293/300, Train_Loss: 0.1096, Train_Acc: 0.9611, Validation Loss: 0.5792, Val_Acc: 0.8748\n",
      "Epoch 294/300, Train_Loss: 0.1124, Train_Acc: 0.9607, Validation Loss: 0.5387, Val_Acc: 0.8755\n",
      "Epoch 295/300, Train_Loss: 0.1125, Train_Acc: 0.9603, Validation Loss: 0.6051, Val_Acc: 0.8739\n",
      "Epoch 296/300, Train_Loss: 0.1097, Train_Acc: 0.9607, Validation Loss: 0.6286, Val_Acc: 0.8772\n",
      "Epoch 297/300, Train_Loss: 0.1078, Train_Acc: 0.9623, Validation Loss: 0.6702, Val_Acc: 0.8717\n",
      "Epoch 298/300, Train_Loss: 0.1140, Train_Acc: 0.9602, Validation Loss: 0.5827, Val_Acc: 0.8731\n",
      "Epoch 299/300, Train_Loss: 0.1202, Train_Acc: 0.9585, Validation Loss: 0.6584, Val_Acc: 0.8635\n",
      "Epoch 300/300, Train_Loss: 0.1171, Train_Acc: 0.9582, Validation Loss: 0.5258, Val_Acc: 0.8809\n"
     ]
    }
   ],
   "source": [
    "train_losses = []\n",
    "train_acc = []\n",
    "val_losses = []\n",
    "val_acc = []\n",
    "for epoch in range(num_epochs):\n",
    "    model.train()\n",
    "    t_loss = 0\n",
    "    t_acc = 0\n",
    "    cnt = 0\n",
    "    for X, y in train_loader:\n",
    "        X, y = X.to(device), y.to(device)\n",
    "        optimizer.zero_grad()\n",
    "        outputs = model(X)\n",
    "        loss = criterion(outputs, y)\n",
    "        loss.backward()\n",
    "        optimizer.step()\n",
    "        t_loss += loss.item()\n",
    "        t_acc += (torch.argmax(outputs, 1) == y).sum().item()\n",
    "        cnt += len(y)\n",
    "    t_loss /= len(train_loader)\n",
    "    train_losses.append(t_loss)\n",
    "    t_acc /= cnt\n",
    "    train_acc.append(t_acc)\n",
    "\n",
    "    model.eval()\n",
    "    v_loss = 0\n",
    "    v_acc = 0\n",
    "    cnt = 0\n",
    "    with torch.no_grad():\n",
    "        for X, y in test_loader:\n",
    "            X, y = X.to(device), y.to(device)\n",
    "            outputs = model(X)\n",
    "            loss = criterion(outputs, y)\n",
    "            v_loss += loss.item()\n",
    "            v_acc += (torch.argmax(outputs, 1)==y).sum().item()\n",
    "            cnt += len(y)\n",
    "    v_loss /= len(test_loader)\n",
    "    val_losses.append(v_loss)\n",
    "    v_acc /= cnt\n",
    "    val_acc.append(v_acc)\n",
    "    print(f\"Epoch {epoch+1}/{num_epochs}, Train_Loss: {t_loss:.4f}, Train_Acc: {t_acc:.4f}, Validation Loss: {v_loss:.4f}, Val_Acc: {v_acc:.4f}\")"
   ]
  },
  {
   "cell_type": "code",
   "execution_count": 8,
   "id": "a88a2cd7-491f-43e3-abf5-1f100e431143",
   "metadata": {
    "colab": {
     "base_uri": "https://localhost:8080/",
     "height": 466
    },
    "executionInfo": {
     "elapsed": 6,
     "status": "ok",
     "timestamp": 1732539376745,
     "user": {
      "displayName": "Tien Nguyen",
      "userId": "12615839768308909769"
     },
     "user_tz": -420
    },
    "id": "a88a2cd7-491f-43e3-abf5-1f100e431143",
    "outputId": "cac2509b-75e9-4bcb-fdf6-2353f19e61ce"
   },
   "outputs": [
    {
     "data": {
      "text/plain": [
       "<matplotlib.legend.Legend at 0x7a7b1c6dd150>"
      ]
     },
     "execution_count": 8,
     "metadata": {},
     "output_type": "execute_result"
    },
    {
     "data": {
      "image/png": "[encoded data removed]",
      "text/plain": [
       "<Figure size 640x480 with 1 Axes>"
      ]
     },
     "metadata": {},
     "output_type": "display_data"
    }
   ],
   "source": [
    "import matplotlib.pyplot as plt\n",
    "\n",
    "plt.plot(train_losses, label='loss')\n",
    "plt.plot(val_losses, label='val_loss')\n",
    "plt.xlabel('iteration')\n",
    "plt.ylabel('Loss')\n",
    "plt.legend()"
   ]
  },
  {
   "cell_type": "code",
   "execution_count": 9,
   "id": "085ccb0d-69d8-46a3-a1e4-13b8df65f883",
   "metadata": {
    "colab": {
     "base_uri": "https://localhost:8080/",
     "height": 470
    },
    "executionInfo": {
     "elapsed": 730,
     "status": "ok",
     "timestamp": 1732539377470,
     "user": {
      "displayName": "Tien Nguyen",
      "userId": "12615839768308909769"
     },
     "user_tz": -420
    },
    "id": "085ccb0d-69d8-46a3-a1e4-13b8df65f883",
    "outputId": "ea6ea0cd-16cd-4fc8-c38c-7b7cc3a5acc1"
   },
   "outputs": [
    {
     "data": {
      "text/plain": [
       "<matplotlib.legend.Legend at 0x7a7b194dd990>"
      ]
     },
     "execution_count": 9,
     "metadata": {},
     "output_type": "execute_result"
    },
    {
     "data": {
      "image/png": "[encoded data removed]",
      "text/plain": [
       "<Figure size 640x480 with 1 Axes>"
      ]
     },
     "metadata": {},
     "output_type": "display_data"
    }
   ],
   "source": [
    "import matplotlib.pyplot as plt\n",
    "\n",
    "plt.plot(train_acc, label='train_accuracy')\n",
    "plt.plot(val_acc, label='val_accuracy')\n",
    "plt.xlabel('iteration')\n",
    "plt.ylabel('Accuracy')\n",
    "plt.legend()"
   ]
  }
 ],
 "metadata": {
  "accelerator": "TPU",
  "colab": {
   "gpuType": "V28",
   "provenance": [],
   "toc_visible": true
  },
  "kernelspec": {
   "display_name": "Python 3",
   "name": "python3"
  },
  "language_info": {
   "codemirror_mode": {
    "name": "ipython",
    "version": 3
   },
   "file_extension": ".py",
   "mimetype": "text/x-python",
   "name": "python",
   "nbconvert_exporter": "python",
   "pygments_lexer": "ipython3",
   "version": "3.12.5"
  },
  "toc": {
   "base_numbering": 1,
   "nav_menu": {},
   "number_sections": true,
   "sideBar": true,
   "skip_h1_title": false,
   "title_cell": "Table of Contents",
   "title_sidebar": "Contents",
   "toc_cell": false,
   "toc_position": {},
   "toc_section_display": true,
   "toc_window_display": false
  }
 },
 "nbformat": 4,
 "nbformat_minor": 5
}
