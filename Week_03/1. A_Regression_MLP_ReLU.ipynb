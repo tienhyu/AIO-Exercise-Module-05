{
 "cells": [
  {
   "cell_type": "markdown",
   "metadata": {
    "id": "E4sS0PFnr2Nu"
   },
   "source": [
    "## **0. Download dataset**\n",
    "**Note:** If you can't download using gdown due to limited number of downloads, please download it manually and upload it to your drive, then copy it from the drive to colab.\n",
    "```python\n",
    "from google.colab import drive\n",
    "\n",
    "drive.mount('/content/drive')\n",
    "!cp /path/to/dataset/on/your/drive .\n",
    "```"
   ]
  },
  {
   "cell_type": "code",
   "execution_count": 115,
   "metadata": {
    "id": "EVKQJrh6qhh9"
   },
   "outputs": [],
   "source": [
    "# https://drive.google.com/file/d/1qiUDDoYyRLBiKOoYWdFl_5WByHE8Cugu/view?usp=sharing\n",
    "#!gdown --id 1qiUDDoYyRLBiKOoYWdFl_5WByHE8Cugu"
   ]
  },
  {
   "cell_type": "markdown",
   "metadata": {
    "id": "PUWcf3M7iAk7"
   },
   "source": [
    "## **1. Import libraries**"
   ]
  },
  {
   "cell_type": "code",
   "execution_count": 116,
   "metadata": {
    "id": "G3bkvnjeX3Qw"
   },
   "outputs": [],
   "source": [
    "import numpy as np\n",
    "import pandas as pd\n",
    "import matplotlib.pyplot as plt\n",
    "import torch\n",
    "import torch.nn as nn\n",
    "import torch.nn.functional as F\n",
    "from torch.utils.data import Dataset, DataLoader\n",
    "\n",
    "from sklearn.model_selection import train_test_split\n",
    "from sklearn.preprocessing import StandardScaler\n",
    "\n",
    "device = torch.device('cuda:0' if torch.cuda.is_available() else 'cpu')\n",
    "random_state = 59\n",
    "np.random.seed(random_state)\n",
    "torch.manual_seed(random_state)\n",
    "if torch.cuda.is_available():\n",
    "    torch.cuda.manual_seed(random_state)"
   ]
  },
  {
   "cell_type": "markdown",
   "metadata": {
    "id": "YZLOVWxF3CA3"
   },
   "source": [
    "## **2. Read dataset**"
   ]
  },
  {
   "cell_type": "code",
   "execution_count": 117,
   "metadata": {
    "id": "mD0-N0bRb9c5"
   },
   "outputs": [
    {
     "data": {
      "text/html": [
       "<div>\n",
       "<style scoped>\n",
       "    .dataframe tbody tr th:only-of-type {\n",
       "        vertical-align: middle;\n",
       "    }\n",
       "\n",
       "    .dataframe tbody tr th {\n",
       "        vertical-align: top;\n",
       "    }\n",
       "\n",
       "    .dataframe thead th {\n",
       "        text-align: right;\n",
       "    }\n",
       "</style>\n",
       "<table border=\"1\" class=\"dataframe\">\n",
       "  <thead>\n",
       "    <tr style=\"text-align: right;\">\n",
       "      <th></th>\n",
       "      <th>MPG</th>\n",
       "      <th>Cylinders</th>\n",
       "      <th>Displacement</th>\n",
       "      <th>Horsepower</th>\n",
       "      <th>Weight</th>\n",
       "      <th>Acceleration</th>\n",
       "      <th>Model Year</th>\n",
       "      <th>Europe</th>\n",
       "      <th>Japan</th>\n",
       "      <th>USA</th>\n",
       "    </tr>\n",
       "  </thead>\n",
       "  <tbody>\n",
       "    <tr>\n",
       "      <th>0</th>\n",
       "      <td>18.0</td>\n",
       "      <td>8</td>\n",
       "      <td>307.0</td>\n",
       "      <td>130.0</td>\n",
       "      <td>3504.0</td>\n",
       "      <td>12.0</td>\n",
       "      <td>70</td>\n",
       "      <td>0</td>\n",
       "      <td>0</td>\n",
       "      <td>1</td>\n",
       "    </tr>\n",
       "    <tr>\n",
       "      <th>1</th>\n",
       "      <td>15.0</td>\n",
       "      <td>8</td>\n",
       "      <td>350.0</td>\n",
       "      <td>165.0</td>\n",
       "      <td>3693.0</td>\n",
       "      <td>11.5</td>\n",
       "      <td>70</td>\n",
       "      <td>0</td>\n",
       "      <td>0</td>\n",
       "      <td>1</td>\n",
       "    </tr>\n",
       "    <tr>\n",
       "      <th>2</th>\n",
       "      <td>18.0</td>\n",
       "      <td>8</td>\n",
       "      <td>318.0</td>\n",
       "      <td>150.0</td>\n",
       "      <td>3436.0</td>\n",
       "      <td>11.0</td>\n",
       "      <td>70</td>\n",
       "      <td>0</td>\n",
       "      <td>0</td>\n",
       "      <td>1</td>\n",
       "    </tr>\n",
       "    <tr>\n",
       "      <th>3</th>\n",
       "      <td>16.0</td>\n",
       "      <td>8</td>\n",
       "      <td>304.0</td>\n",
       "      <td>150.0</td>\n",
       "      <td>3433.0</td>\n",
       "      <td>12.0</td>\n",
       "      <td>70</td>\n",
       "      <td>0</td>\n",
       "      <td>0</td>\n",
       "      <td>1</td>\n",
       "    </tr>\n",
       "    <tr>\n",
       "      <th>4</th>\n",
       "      <td>17.0</td>\n",
       "      <td>8</td>\n",
       "      <td>302.0</td>\n",
       "      <td>140.0</td>\n",
       "      <td>3449.0</td>\n",
       "      <td>10.5</td>\n",
       "      <td>70</td>\n",
       "      <td>0</td>\n",
       "      <td>0</td>\n",
       "      <td>1</td>\n",
       "    </tr>\n",
       "    <tr>\n",
       "      <th>...</th>\n",
       "      <td>...</td>\n",
       "      <td>...</td>\n",
       "      <td>...</td>\n",
       "      <td>...</td>\n",
       "      <td>...</td>\n",
       "      <td>...</td>\n",
       "      <td>...</td>\n",
       "      <td>...</td>\n",
       "      <td>...</td>\n",
       "      <td>...</td>\n",
       "    </tr>\n",
       "    <tr>\n",
       "      <th>387</th>\n",
       "      <td>27.0</td>\n",
       "      <td>4</td>\n",
       "      <td>140.0</td>\n",
       "      <td>86.0</td>\n",
       "      <td>2790.0</td>\n",
       "      <td>15.6</td>\n",
       "      <td>82</td>\n",
       "      <td>0</td>\n",
       "      <td>0</td>\n",
       "      <td>1</td>\n",
       "    </tr>\n",
       "    <tr>\n",
       "      <th>388</th>\n",
       "      <td>44.0</td>\n",
       "      <td>4</td>\n",
       "      <td>97.0</td>\n",
       "      <td>52.0</td>\n",
       "      <td>2130.0</td>\n",
       "      <td>24.6</td>\n",
       "      <td>82</td>\n",
       "      <td>1</td>\n",
       "      <td>0</td>\n",
       "      <td>0</td>\n",
       "    </tr>\n",
       "    <tr>\n",
       "      <th>389</th>\n",
       "      <td>32.0</td>\n",
       "      <td>4</td>\n",
       "      <td>135.0</td>\n",
       "      <td>84.0</td>\n",
       "      <td>2295.0</td>\n",
       "      <td>11.6</td>\n",
       "      <td>82</td>\n",
       "      <td>0</td>\n",
       "      <td>0</td>\n",
       "      <td>1</td>\n",
       "    </tr>\n",
       "    <tr>\n",
       "      <th>390</th>\n",
       "      <td>28.0</td>\n",
       "      <td>4</td>\n",
       "      <td>120.0</td>\n",
       "      <td>79.0</td>\n",
       "      <td>2625.0</td>\n",
       "      <td>18.6</td>\n",
       "      <td>82</td>\n",
       "      <td>0</td>\n",
       "      <td>0</td>\n",
       "      <td>1</td>\n",
       "    </tr>\n",
       "    <tr>\n",
       "      <th>391</th>\n",
       "      <td>31.0</td>\n",
       "      <td>4</td>\n",
       "      <td>119.0</td>\n",
       "      <td>82.0</td>\n",
       "      <td>2720.0</td>\n",
       "      <td>19.4</td>\n",
       "      <td>82</td>\n",
       "      <td>0</td>\n",
       "      <td>0</td>\n",
       "      <td>1</td>\n",
       "    </tr>\n",
       "  </tbody>\n",
       "</table>\n",
       "<p>392 rows × 10 columns</p>\n",
       "</div>"
      ],
      "text/plain": [
       "      MPG  Cylinders  Displacement  Horsepower  Weight  Acceleration  \\\n",
       "0    18.0          8         307.0       130.0  3504.0          12.0   \n",
       "1    15.0          8         350.0       165.0  3693.0          11.5   \n",
       "2    18.0          8         318.0       150.0  3436.0          11.0   \n",
       "3    16.0          8         304.0       150.0  3433.0          12.0   \n",
       "4    17.0          8         302.0       140.0  3449.0          10.5   \n",
       "..    ...        ...           ...         ...     ...           ...   \n",
       "387  27.0          4         140.0        86.0  2790.0          15.6   \n",
       "388  44.0          4          97.0        52.0  2130.0          24.6   \n",
       "389  32.0          4         135.0        84.0  2295.0          11.6   \n",
       "390  28.0          4         120.0        79.0  2625.0          18.6   \n",
       "391  31.0          4         119.0        82.0  2720.0          19.4   \n",
       "\n",
       "     Model Year  Europe  Japan  USA  \n",
       "0            70       0      0    1  \n",
       "1            70       0      0    1  \n",
       "2            70       0      0    1  \n",
       "3            70       0      0    1  \n",
       "4            70       0      0    1  \n",
       "..          ...     ...    ...  ...  \n",
       "387          82       0      0    1  \n",
       "388          82       1      0    0  \n",
       "389          82       0      0    1  \n",
       "390          82       0      0    1  \n",
       "391          82       0      0    1  \n",
       "\n",
       "[392 rows x 10 columns]"
      ]
     },
     "execution_count": 117,
     "metadata": {},
     "output_type": "execute_result"
    }
   ],
   "source": [
    "dataset_path = 'Auto_MPG_data.csv'\n",
    "dataset = pd.read_csv(dataset_path)\n",
    "dataset"
   ]
  },
  {
   "cell_type": "markdown",
   "metadata": {
    "id": "T6eIMDg_8G88"
   },
   "source": [
    "## **3. Preprocessing data**"
   ]
  },
  {
   "cell_type": "markdown",
   "metadata": {
    "id": "FyJI_cLkkE6C"
   },
   "source": [
    "### **3.1. X, y split**"
   ]
  },
  {
   "cell_type": "code",
   "execution_count": 118,
   "metadata": {
    "id": "gESa74pukGzL"
   },
   "outputs": [],
   "source": [
    "X = dataset.drop(columns='MPG').values\n",
    "y = dataset['MPG'].values"
   ]
  },
  {
   "cell_type": "markdown",
   "metadata": {
    "id": "eYQgHFPy3M-G"
   },
   "source": [
    "### **3.2. Train/val/test split**"
   ]
  },
  {
   "cell_type": "code",
   "execution_count": 119,
   "metadata": {
    "id": "3KFNxNctYgTY"
   },
   "outputs": [],
   "source": [
    "val_size = 0.2\n",
    "test_size = 0.125\n",
    "is_shuffle = True\n",
    "\n",
    "X_train, X_val, y_train, y_val = train_test_split(\n",
    "    X, y,\n",
    "    test_size=val_size,\n",
    "    random_state=random_state,\n",
    "    shuffle=is_shuffle\n",
    ")\n",
    "\n",
    "X_train, X_test, y_train, y_test = train_test_split(\n",
    "    X_train, y_train,\n",
    "    test_size=test_size,\n",
    "    random_state=random_state,\n",
    "    shuffle=is_shuffle\n",
    ")"
   ]
  },
  {
   "cell_type": "code",
   "execution_count": 120,
   "metadata": {
    "id": "g5iEiqW8m5Nl"
   },
   "outputs": [
    {
     "name": "stdout",
     "output_type": "stream",
     "text": [
      "Number of training samples: 273\n",
      "Number of val samples: 79\n",
      "Number of test samples: 40\n"
     ]
    }
   ],
   "source": [
    "print(f'Number of training samples: {X_train.shape[0]}')\n",
    "print(f'Number of val samples: {X_val.shape[0]}')\n",
    "print(f'Number of test samples: {X_test.shape[0]}')"
   ]
  },
  {
   "cell_type": "markdown",
   "metadata": {
    "id": "fJwFqmUn3ifv"
   },
   "source": [
    "### **3.3. Data Normalization**"
   ]
  },
  {
   "cell_type": "code",
   "execution_count": 121,
   "metadata": {},
   "outputs": [],
   "source": [
    "normalizer = StandardScaler()\n",
    "X_train = normalizer.fit_transform(X_train)\n",
    "X_val = normalizer.transform(X_val)\n",
    "X_test = normalizer.transform(X_test)"
   ]
  },
  {
   "cell_type": "code",
   "execution_count": 122,
   "metadata": {},
   "outputs": [],
   "source": [
    "# Convert the datasets to PyTorch tensors\n",
    "X_train = torch.tensor(X_train, dtype=torch.float32)\n",
    "X_val = torch.tensor(X_val, dtype=torch.float32)\n",
    "X_test = torch.tensor(X_test, dtype=torch.float32)\n",
    "\n",
    "# Convert the labels to PyTorch tensors\n",
    "y_train = torch.tensor(y_train, dtype=torch.float32)\n",
    "y_val = torch.tensor(y_val, dtype=torch.float32)\n",
    "y_test = torch.tensor(y_test, dtype=torch.float32)"
   ]
  },
  {
   "cell_type": "markdown",
   "metadata": {
    "id": "NrZ520zomN8e"
   },
   "source": [
    "## **4. Create PyTorch DataLoader**"
   ]
  },
  {
   "cell_type": "code",
   "execution_count": 123,
   "metadata": {
    "id": "il-wRorLdmTV"
   },
   "outputs": [],
   "source": [
    "class CustomDataset(Dataset):\n",
    "    def __init__(self, X, y):\n",
    "        self.X = X\n",
    "        self.y = y\n",
    "\n",
    "    def __len__(self):\n",
    "        return len(self.y)\n",
    "\n",
    "    def __getitem__(self, idx):\n",
    "        return self.X[idx], self.y[idx]"
   ]
  },
  {
   "cell_type": "code",
   "execution_count": 124,
   "metadata": {},
   "outputs": [],
   "source": [
    "batch_size = 32\n",
    "\n",
    "train_dataset = CustomDataset(X_train, y_train)\n",
    "val_dataset = CustomDataset(X_val, y_val)\n",
    "\n",
    "\n",
    "train_loader = DataLoader(train_dataset, batch_size=batch_size, shuffle=True)\n",
    "val_loader = DataLoader(val_dataset, batch_size=batch_size, shuffle=False)"
   ]
  },
  {
   "cell_type": "markdown",
   "metadata": {
    "id": "qT1Fm6YgoCRZ"
   },
   "source": [
    "## **5. Build MLP network**"
   ]
  },
  {
   "cell_type": "code",
   "execution_count": 125,
   "metadata": {
    "id": "Co98aXfydtz0"
   },
   "outputs": [],
   "source": [
    "class MLP(nn.Module):\n",
    "  def __init__(self, input_dims, hidden_dims, output_dims):\n",
    "      super(MLP, self).__init__()\n",
    "      self.linear1 = nn.Linear(input_dims, hidden_dims)\n",
    "      self.linear2 = nn.Linear(hidden_dims, hidden_dims)\n",
    "      self.output = nn.Linear(hidden_dims, output_dims)\n",
    "\n",
    "\n",
    "  def forward(self, x):\n",
    "      x = self.linear1(x)\n",
    "      x = F.relu(x)\n",
    "      x = self.linear2(x)\n",
    "      x = F.relu(x)\n",
    "      out = self.output(x)\n",
    "      return out.squeeze(1)"
   ]
  },
  {
   "cell_type": "code",
   "execution_count": 126,
   "metadata": {},
   "outputs": [],
   "source": [
    "input_dims = X_train.shape[1]\n",
    "output_dims = 1\n",
    "hidden_dims = 64\n",
    "lr = 1e-2"
   ]
  },
  {
   "cell_type": "code",
   "execution_count": 127,
   "metadata": {},
   "outputs": [],
   "source": [
    "model = MLP(input_dims = input_dims, \n",
    "            hidden_dims= hidden_dims,\n",
    "            output_dims = output_dims).to(device)\n",
    "\n",
    "criterion = nn.MSELoss()\n",
    "optimizer = torch.optim.SGD(model.parameters(), lr=lr)"
   ]
  },
  {
   "cell_type": "markdown",
   "metadata": {
    "id": "oJzhhPUn4zy8"
   },
   "source": [
    "## **6. Training**"
   ]
  },
  {
   "cell_type": "code",
   "execution_count": 128,
   "metadata": {
    "id": "kY1rB1usfEUc"
   },
   "outputs": [],
   "source": [
    "def r_squared(y_true, y_pred):\n",
    "  y_true = torch.Tensor(y_true).to(device)\n",
    "  y_pred = torch.Tensor(y_pred).to(device)\n",
    "  mean_true = torch.mean(y_true)\n",
    "  ss_tot = torch.sum((y_true - mean_true) ** 2)\n",
    "  ss_res = torch.sum((y_true - y_pred) ** 2)\n",
    "  r2 = 1 - (ss_res / ss_tot)\n",
    "  return r2"
   ]
  },
  {
   "cell_type": "code",
   "execution_count": 129,
   "metadata": {},
   "outputs": [],
   "source": [
    "epochs = 100\n",
    "train_losses = []\n",
    "val_losses = []\n",
    "train_r2 = []\n",
    "val_r2 = []"
   ]
  },
  {
   "cell_type": "code",
   "execution_count": 130,
   "metadata": {
    "id": "4krCCYspfI4W"
   },
   "outputs": [
    {
     "name": "stdout",
     "output_type": "stream",
     "text": [
      "\n",
      "EPOCH 1:\tTraining loss: 282.770\tValidation loss: 88.669\n",
      "\n",
      "EPOCH 2:\tTraining loss: 137.609\tValidation loss: 72.726\n",
      "\n",
      "EPOCH 3:\tTraining loss: 72.953\tValidation loss: 23.262\n",
      "\n",
      "EPOCH 4:\tTraining loss: 32.745\tValidation loss: 11.395\n",
      "\n",
      "EPOCH 5:\tTraining loss: 17.699\tValidation loss: 24.114\n",
      "\n",
      "EPOCH 6:\tTraining loss: 40.560\tValidation loss: 26.787\n",
      "\n",
      "EPOCH 7:\tTraining loss: 21.413\tValidation loss: 5.749\n",
      "\n",
      "EPOCH 8:\tTraining loss: 42.476\tValidation loss: 100.706\n",
      "\n",
      "EPOCH 9:\tTraining loss: 18.688\tValidation loss: 36.141\n",
      "\n",
      "EPOCH 10:\tTraining loss: 30.496\tValidation loss: 46.897\n",
      "\n",
      "EPOCH 11:\tTraining loss: 35.381\tValidation loss: 28.985\n",
      "\n",
      "EPOCH 12:\tTraining loss: 10.978\tValidation loss: 5.494\n",
      "\n",
      "EPOCH 13:\tTraining loss: 15.335\tValidation loss: 21.177\n",
      "\n",
      "EPOCH 14:\tTraining loss: 14.262\tValidation loss: 18.676\n",
      "\n",
      "EPOCH 15:\tTraining loss: 17.358\tValidation loss: 9.158\n",
      "\n",
      "EPOCH 16:\tTraining loss: 11.851\tValidation loss: 22.762\n",
      "\n",
      "EPOCH 17:\tTraining loss: 14.628\tValidation loss: 13.259\n",
      "\n",
      "EPOCH 18:\tTraining loss: 15.998\tValidation loss: 12.802\n",
      "\n",
      "EPOCH 19:\tTraining loss: 15.639\tValidation loss: 5.939\n",
      "\n",
      "EPOCH 20:\tTraining loss: 7.390\tValidation loss: 5.047\n",
      "\n",
      "EPOCH 21:\tTraining loss: 8.855\tValidation loss: 4.694\n",
      "\n",
      "EPOCH 22:\tTraining loss: 6.396\tValidation loss: 5.067\n",
      "\n",
      "EPOCH 23:\tTraining loss: 10.876\tValidation loss: 59.765\n",
      "\n",
      "EPOCH 24:\tTraining loss: 12.878\tValidation loss: 14.952\n",
      "\n",
      "EPOCH 25:\tTraining loss: 9.473\tValidation loss: 8.458\n",
      "\n",
      "EPOCH 26:\tTraining loss: 11.358\tValidation loss: 6.508\n",
      "\n",
      "EPOCH 27:\tTraining loss: 6.508\tValidation loss: 6.540\n",
      "\n",
      "EPOCH 28:\tTraining loss: 11.143\tValidation loss: 4.932\n",
      "\n",
      "EPOCH 29:\tTraining loss: 7.037\tValidation loss: 13.336\n",
      "\n",
      "EPOCH 30:\tTraining loss: 20.240\tValidation loss: 5.021\n",
      "\n",
      "EPOCH 31:\tTraining loss: 8.584\tValidation loss: 6.782\n",
      "\n",
      "EPOCH 32:\tTraining loss: 7.617\tValidation loss: 6.380\n",
      "\n",
      "EPOCH 33:\tTraining loss: 8.080\tValidation loss: 4.637\n",
      "\n",
      "EPOCH 34:\tTraining loss: 7.219\tValidation loss: 6.354\n",
      "\n",
      "EPOCH 35:\tTraining loss: 7.979\tValidation loss: 6.853\n",
      "\n",
      "EPOCH 36:\tTraining loss: 6.315\tValidation loss: 6.711\n",
      "\n",
      "EPOCH 37:\tTraining loss: 6.697\tValidation loss: 6.237\n",
      "\n",
      "EPOCH 38:\tTraining loss: 7.940\tValidation loss: 10.751\n",
      "\n",
      "EPOCH 39:\tTraining loss: 7.959\tValidation loss: 16.674\n",
      "\n",
      "EPOCH 40:\tTraining loss: 8.301\tValidation loss: 6.274\n",
      "\n",
      "EPOCH 41:\tTraining loss: 6.342\tValidation loss: 28.837\n",
      "\n",
      "EPOCH 42:\tTraining loss: 10.143\tValidation loss: 5.953\n",
      "\n",
      "EPOCH 43:\tTraining loss: 7.325\tValidation loss: 29.738\n",
      "\n",
      "EPOCH 44:\tTraining loss: 10.429\tValidation loss: 12.642\n",
      "\n",
      "EPOCH 45:\tTraining loss: 6.931\tValidation loss: 5.020\n",
      "\n",
      "EPOCH 46:\tTraining loss: 8.497\tValidation loss: 7.850\n",
      "\n",
      "EPOCH 47:\tTraining loss: 6.717\tValidation loss: 6.197\n",
      "\n",
      "EPOCH 48:\tTraining loss: 5.596\tValidation loss: 6.455\n",
      "\n",
      "EPOCH 49:\tTraining loss: 6.865\tValidation loss: 12.657\n",
      "\n",
      "EPOCH 50:\tTraining loss: 7.838\tValidation loss: 14.427\n",
      "\n",
      "EPOCH 51:\tTraining loss: 8.908\tValidation loss: 8.772\n",
      "\n",
      "EPOCH 52:\tTraining loss: 12.587\tValidation loss: 5.266\n",
      "\n",
      "EPOCH 53:\tTraining loss: 7.832\tValidation loss: 5.293\n",
      "\n",
      "EPOCH 54:\tTraining loss: 6.837\tValidation loss: 5.651\n",
      "\n",
      "EPOCH 55:\tTraining loss: 5.648\tValidation loss: 5.405\n",
      "\n",
      "EPOCH 56:\tTraining loss: 5.741\tValidation loss: 5.796\n",
      "\n",
      "EPOCH 57:\tTraining loss: 7.896\tValidation loss: 7.548\n",
      "\n",
      "EPOCH 58:\tTraining loss: 7.279\tValidation loss: 16.652\n",
      "\n",
      "EPOCH 59:\tTraining loss: 7.387\tValidation loss: 8.270\n",
      "\n",
      "EPOCH 60:\tTraining loss: 6.117\tValidation loss: 4.895\n",
      "\n",
      "EPOCH 61:\tTraining loss: 5.983\tValidation loss: 8.848\n",
      "\n",
      "EPOCH 62:\tTraining loss: 11.216\tValidation loss: 4.972\n",
      "\n",
      "EPOCH 63:\tTraining loss: 6.879\tValidation loss: 14.164\n",
      "\n",
      "EPOCH 64:\tTraining loss: 6.201\tValidation loss: 5.578\n",
      "\n",
      "EPOCH 65:\tTraining loss: 9.153\tValidation loss: 5.274\n",
      "\n",
      "EPOCH 66:\tTraining loss: 5.776\tValidation loss: 5.308\n",
      "\n",
      "EPOCH 67:\tTraining loss: 6.985\tValidation loss: 8.168\n",
      "\n",
      "EPOCH 68:\tTraining loss: 10.448\tValidation loss: 6.820\n",
      "\n",
      "EPOCH 69:\tTraining loss: 7.489\tValidation loss: 9.004\n",
      "\n",
      "EPOCH 70:\tTraining loss: 6.323\tValidation loss: 5.637\n",
      "\n",
      "EPOCH 71:\tTraining loss: 5.627\tValidation loss: 4.932\n",
      "\n",
      "EPOCH 72:\tTraining loss: 6.198\tValidation loss: 9.210\n",
      "\n",
      "EPOCH 73:\tTraining loss: 6.912\tValidation loss: 10.183\n",
      "\n",
      "EPOCH 74:\tTraining loss: 6.281\tValidation loss: 5.555\n",
      "\n",
      "EPOCH 75:\tTraining loss: 5.624\tValidation loss: 16.720\n",
      "\n",
      "EPOCH 76:\tTraining loss: 7.860\tValidation loss: 19.827\n",
      "\n",
      "EPOCH 77:\tTraining loss: 12.453\tValidation loss: 7.093\n",
      "\n",
      "EPOCH 78:\tTraining loss: 6.726\tValidation loss: 5.308\n",
      "\n",
      "EPOCH 79:\tTraining loss: 5.896\tValidation loss: 8.845\n",
      "\n",
      "EPOCH 80:\tTraining loss: 8.263\tValidation loss: 5.691\n",
      "\n",
      "EPOCH 81:\tTraining loss: 11.936\tValidation loss: 6.464\n",
      "\n",
      "EPOCH 82:\tTraining loss: 6.100\tValidation loss: 5.812\n",
      "\n",
      "EPOCH 83:\tTraining loss: 6.236\tValidation loss: 8.560\n",
      "\n",
      "EPOCH 84:\tTraining loss: 5.707\tValidation loss: 5.279\n",
      "\n",
      "EPOCH 85:\tTraining loss: 5.229\tValidation loss: 5.838\n",
      "\n",
      "EPOCH 86:\tTraining loss: 4.898\tValidation loss: 6.569\n",
      "\n",
      "EPOCH 87:\tTraining loss: 5.249\tValidation loss: 7.212\n",
      "\n",
      "EPOCH 88:\tTraining loss: 5.462\tValidation loss: 5.449\n",
      "\n",
      "EPOCH 89:\tTraining loss: 4.959\tValidation loss: 6.031\n",
      "\n",
      "EPOCH 90:\tTraining loss: 7.900\tValidation loss: 5.923\n",
      "\n",
      "EPOCH 91:\tTraining loss: 5.733\tValidation loss: 9.142\n",
      "\n",
      "EPOCH 92:\tTraining loss: 7.710\tValidation loss: 5.446\n",
      "\n",
      "EPOCH 93:\tTraining loss: 6.140\tValidation loss: 5.553\n",
      "\n",
      "EPOCH 94:\tTraining loss: 9.445\tValidation loss: 7.592\n",
      "\n",
      "EPOCH 95:\tTraining loss: 6.807\tValidation loss: 6.093\n",
      "\n",
      "EPOCH 96:\tTraining loss: 8.775\tValidation loss: 20.828\n",
      "\n",
      "EPOCH 97:\tTraining loss: 7.084\tValidation loss: 10.974\n",
      "\n",
      "EPOCH 98:\tTraining loss: 7.641\tValidation loss: 9.032\n",
      "\n",
      "EPOCH 99:\tTraining loss: 6.914\tValidation loss: 6.322\n",
      "\n",
      "EPOCH 100:\tTraining loss: 6.521\tValidation loss: 5.350\n"
     ]
    }
   ],
   "source": [
    "for epoch in range(epochs):\n",
    "    train_loss = 0.0\n",
    "    train_target = []\n",
    "    val_target = []\n",
    "    train_predict = []\n",
    "    val_predict = []\n",
    "    model.train()\n",
    "    for X_samples, y_samples in train_loader:\n",
    "        X_samples = X_samples.to(device)\n",
    "        y_samples = y_samples.to(device)\n",
    "        optimizer.zero_grad()\n",
    "        outputs = model(X_samples)\n",
    "        train_predict += outputs.tolist()\n",
    "        train_target += y_samples.tolist()\n",
    "        loss = criterion(outputs, y_samples)\n",
    "        loss.backward()\n",
    "        optimizer.step()\n",
    "        train_loss += loss.item()\n",
    "    train_loss /= len(train_loader)\n",
    "    train_losses.append(train_loss)\n",
    "    train_r2.append(r_squared(train_target, train_predict))\n",
    "    model.eval()\n",
    "    val_loss = 0.0\n",
    "    with torch.no_grad():\n",
    "        for X_samples, y_samples in val_loader:\n",
    "            X_samples = X_samples.to(device)\n",
    "            y_samples = y_samples.to(device)\n",
    "            outputs = model(X_samples)\n",
    "            val_predict += outputs.tolist()\n",
    "            val_target += y_samples.tolist()\n",
    "            loss = criterion(outputs, y_samples)\n",
    "            val_loss += loss.item()\n",
    "    val_loss /= len(val_loader)\n",
    "    val_losses.append(val_loss)\n",
    "    val_r2.append(r_squared(val_target, val_predict))\n",
    "    print(f'\\nEPOCH {epoch + 1}:\\tTraining loss: {train_loss:.3f}\\tValidation loss: {val_loss:.3f}')"
   ]
  },
  {
   "cell_type": "code",
   "execution_count": 131,
   "metadata": {
    "id": "GBoqX7xMfNxK"
   },
   "outputs": [
    {
     "data": {
      "image/png": "[encoded data removed]",
      "text/plain": [
       "<Figure size 1200x1000 with 4 Axes>"
      ]
     },
     "metadata": {},
     "output_type": "display_data"
    }
   ],
   "source": [
    "fig, ax = plt.subplots(2, 2, figsize=(12, 10))\n",
    "ax[0, 0].plot(train_losses, color='green')\n",
    "ax[0, 0].set(xlabel='Epoch', ylabel='Loss')\n",
    "ax[0, 0].set_title('Training Loss')\n",
    "\n",
    "ax[0, 1].plot(val_losses, color='orange')\n",
    "ax[0, 1].set(xlabel='Epoch', ylabel='Loss')\n",
    "ax[0, 1].set_title('Validation Loss')\n",
    "\n",
    "ax[1, 0].plot(train_r2, color='green')\n",
    "ax[1, 0].set(xlabel='Epoch', ylabel='R2')\n",
    "ax[1, 0].set_title('Training R2')\n",
    "\n",
    "ax[1, 1].plot(val_r2, color='orange')\n",
    "ax[1, 1].set(xlabel='Epoch', ylabel='R2')\n",
    "ax[1, 1].set_title('Validation R2')\n",
    "\n",
    "plt.show()"
   ]
  },
  {
   "cell_type": "markdown",
   "metadata": {
    "id": "Z8sKnabn7Hf6"
   },
   "source": [
    "## **7. Evaluation**"
   ]
  },
  {
   "cell_type": "code",
   "execution_count": 132,
   "metadata": {
    "id": "D4p8aiMw7JNI"
   },
   "outputs": [
    {
     "name": "stdout",
     "output_type": "stream",
     "text": [
      "Evaluation on validation set:\n",
      "R2: 0.8821327090263367\n"
     ]
    }
   ],
   "source": [
    "model.eval()\n",
    "with torch.no_grad():\n",
    "    y_hat = model(X_val)\n",
    "    val_set_r2 = r_squared(y_hat, y_val)\n",
    "    print('Evaluation on validation set:')\n",
    "    print(f'R2: {val_set_r2}')"
   ]
  }
 ],
 "metadata": {
  "colab": {
   "provenance": []
  },
  "kernelspec": {
   "display_name": "base",
   "language": "python",
   "name": "python3"
  },
  "language_info": {
   "codemirror_mode": {
    "name": "ipython",
    "version": 3
   },
   "file_extension": ".py",
   "mimetype": "text/x-python",
   "name": "python",
   "nbconvert_exporter": "python",
   "pygments_lexer": "ipython3",
   "version": "3.12.4"
  }
 },
 "nbformat": 4,
 "nbformat_minor": 0
}
